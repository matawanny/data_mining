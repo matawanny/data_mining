{
 "cells": [
  {
   "cell_type": "markdown",
   "metadata": {},
   "source": [
    "# NYC Property Appraisal - Regression Model"
   ]
  },
  {
   "cell_type": "markdown",
   "metadata": {},
   "source": [
    "## 1. Data Analysis & Cleaning"
   ]
  },
  {
   "cell_type": "code",
   "execution_count": 1,
   "metadata": {},
   "outputs": [],
   "source": [
    "%matplotlib inline\n",
    "import pandas as pd\n",
    "pd.options.display.max_columns=30"
   ]
  },
  {
   "cell_type": "code",
   "execution_count": 2,
   "metadata": {},
   "outputs": [],
   "source": [
    "data = pd.read_csv('real_estate_data.csv')"
   ]
  },
  {
   "cell_type": "markdown",
   "metadata": {},
   "source": [
    "It is obvious that *'tx_price'* is the y_label we want to predict."
   ]
  },
  {
   "cell_type": "code",
   "execution_count": 3,
   "metadata": {},
   "outputs": [
    {
     "data": {
      "text/html": [
       "<div>\n",
       "<style scoped>\n",
       "    .dataframe tbody tr th:only-of-type {\n",
       "        vertical-align: middle;\n",
       "    }\n",
       "\n",
       "    .dataframe tbody tr th {\n",
       "        vertical-align: top;\n",
       "    }\n",
       "\n",
       "    .dataframe thead th {\n",
       "        text-align: right;\n",
       "    }\n",
       "</style>\n",
       "<table border=\"1\" class=\"dataframe\">\n",
       "  <thead>\n",
       "    <tr style=\"text-align: right;\">\n",
       "      <th></th>\n",
       "      <th>tx_price</th>\n",
       "      <th>beds</th>\n",
       "      <th>baths</th>\n",
       "      <th>sqft</th>\n",
       "      <th>year_built</th>\n",
       "      <th>lot_size</th>\n",
       "      <th>property_type</th>\n",
       "      <th>exterior_walls</th>\n",
       "      <th>roof</th>\n",
       "      <th>basement</th>\n",
       "      <th>restaurants</th>\n",
       "      <th>groceries</th>\n",
       "      <th>nightlife</th>\n",
       "      <th>cafes</th>\n",
       "      <th>shopping</th>\n",
       "      <th>arts_entertainment</th>\n",
       "      <th>beauty_spas</th>\n",
       "      <th>active_life</th>\n",
       "      <th>median_age</th>\n",
       "      <th>married</th>\n",
       "      <th>college_grad</th>\n",
       "      <th>property_tax</th>\n",
       "      <th>insurance</th>\n",
       "      <th>median_school</th>\n",
       "      <th>num_schools</th>\n",
       "      <th>tx_year</th>\n",
       "    </tr>\n",
       "  </thead>\n",
       "  <tbody>\n",
       "    <tr>\n",
       "      <th>0</th>\n",
       "      <td>295850</td>\n",
       "      <td>1</td>\n",
       "      <td>1</td>\n",
       "      <td>584</td>\n",
       "      <td>2013</td>\n",
       "      <td>0</td>\n",
       "      <td>Apartment / Condo / Townhouse</td>\n",
       "      <td>Wood Siding</td>\n",
       "      <td>NaN</td>\n",
       "      <td>NaN</td>\n",
       "      <td>107</td>\n",
       "      <td>9</td>\n",
       "      <td>30</td>\n",
       "      <td>19</td>\n",
       "      <td>89</td>\n",
       "      <td>6</td>\n",
       "      <td>47</td>\n",
       "      <td>58</td>\n",
       "      <td>33.0</td>\n",
       "      <td>65.0</td>\n",
       "      <td>84.0</td>\n",
       "      <td>234.0</td>\n",
       "      <td>81.0</td>\n",
       "      <td>9.0</td>\n",
       "      <td>3.0</td>\n",
       "      <td>2013</td>\n",
       "    </tr>\n",
       "    <tr>\n",
       "      <th>1</th>\n",
       "      <td>216500</td>\n",
       "      <td>1</td>\n",
       "      <td>1</td>\n",
       "      <td>612</td>\n",
       "      <td>1965</td>\n",
       "      <td>0</td>\n",
       "      <td>Apartment / Condo / Townhouse</td>\n",
       "      <td>Brick</td>\n",
       "      <td>Composition Shingle</td>\n",
       "      <td>1.0</td>\n",
       "      <td>105</td>\n",
       "      <td>15</td>\n",
       "      <td>6</td>\n",
       "      <td>13</td>\n",
       "      <td>87</td>\n",
       "      <td>2</td>\n",
       "      <td>26</td>\n",
       "      <td>14</td>\n",
       "      <td>39.0</td>\n",
       "      <td>73.0</td>\n",
       "      <td>69.0</td>\n",
       "      <td>169.0</td>\n",
       "      <td>51.0</td>\n",
       "      <td>3.0</td>\n",
       "      <td>3.0</td>\n",
       "      <td>2006</td>\n",
       "    </tr>\n",
       "    <tr>\n",
       "      <th>2</th>\n",
       "      <td>279900</td>\n",
       "      <td>1</td>\n",
       "      <td>1</td>\n",
       "      <td>615</td>\n",
       "      <td>1963</td>\n",
       "      <td>0</td>\n",
       "      <td>Apartment / Condo / Townhouse</td>\n",
       "      <td>Wood Siding</td>\n",
       "      <td>NaN</td>\n",
       "      <td>NaN</td>\n",
       "      <td>183</td>\n",
       "      <td>13</td>\n",
       "      <td>31</td>\n",
       "      <td>30</td>\n",
       "      <td>101</td>\n",
       "      <td>10</td>\n",
       "      <td>74</td>\n",
       "      <td>62</td>\n",
       "      <td>28.0</td>\n",
       "      <td>15.0</td>\n",
       "      <td>86.0</td>\n",
       "      <td>216.0</td>\n",
       "      <td>74.0</td>\n",
       "      <td>8.0</td>\n",
       "      <td>3.0</td>\n",
       "      <td>2012</td>\n",
       "    </tr>\n",
       "    <tr>\n",
       "      <th>3</th>\n",
       "      <td>379900</td>\n",
       "      <td>1</td>\n",
       "      <td>1</td>\n",
       "      <td>618</td>\n",
       "      <td>2000</td>\n",
       "      <td>33541</td>\n",
       "      <td>Apartment / Condo / Townhouse</td>\n",
       "      <td>Wood Siding</td>\n",
       "      <td>NaN</td>\n",
       "      <td>NaN</td>\n",
       "      <td>198</td>\n",
       "      <td>9</td>\n",
       "      <td>38</td>\n",
       "      <td>25</td>\n",
       "      <td>127</td>\n",
       "      <td>11</td>\n",
       "      <td>72</td>\n",
       "      <td>83</td>\n",
       "      <td>36.0</td>\n",
       "      <td>25.0</td>\n",
       "      <td>91.0</td>\n",
       "      <td>265.0</td>\n",
       "      <td>92.0</td>\n",
       "      <td>9.0</td>\n",
       "      <td>3.0</td>\n",
       "      <td>2005</td>\n",
       "    </tr>\n",
       "    <tr>\n",
       "      <th>4</th>\n",
       "      <td>340000</td>\n",
       "      <td>1</td>\n",
       "      <td>1</td>\n",
       "      <td>634</td>\n",
       "      <td>1992</td>\n",
       "      <td>0</td>\n",
       "      <td>Apartment / Condo / Townhouse</td>\n",
       "      <td>Brick</td>\n",
       "      <td>NaN</td>\n",
       "      <td>NaN</td>\n",
       "      <td>149</td>\n",
       "      <td>7</td>\n",
       "      <td>22</td>\n",
       "      <td>20</td>\n",
       "      <td>83</td>\n",
       "      <td>10</td>\n",
       "      <td>50</td>\n",
       "      <td>73</td>\n",
       "      <td>37.0</td>\n",
       "      <td>20.0</td>\n",
       "      <td>75.0</td>\n",
       "      <td>88.0</td>\n",
       "      <td>30.0</td>\n",
       "      <td>9.0</td>\n",
       "      <td>3.0</td>\n",
       "      <td>2002</td>\n",
       "    </tr>\n",
       "  </tbody>\n",
       "</table>\n",
       "</div>"
      ],
      "text/plain": [
       "   tx_price  beds  baths  sqft  year_built  lot_size  \\\n",
       "0    295850     1      1   584        2013         0   \n",
       "1    216500     1      1   612        1965         0   \n",
       "2    279900     1      1   615        1963         0   \n",
       "3    379900     1      1   618        2000     33541   \n",
       "4    340000     1      1   634        1992         0   \n",
       "\n",
       "                   property_type exterior_walls                 roof  \\\n",
       "0  Apartment / Condo / Townhouse    Wood Siding                  NaN   \n",
       "1  Apartment / Condo / Townhouse          Brick  Composition Shingle   \n",
       "2  Apartment / Condo / Townhouse    Wood Siding                  NaN   \n",
       "3  Apartment / Condo / Townhouse    Wood Siding                  NaN   \n",
       "4  Apartment / Condo / Townhouse          Brick                  NaN   \n",
       "\n",
       "   basement  restaurants  groceries  nightlife  cafes  shopping  \\\n",
       "0       NaN          107          9         30     19        89   \n",
       "1       1.0          105         15          6     13        87   \n",
       "2       NaN          183         13         31     30       101   \n",
       "3       NaN          198          9         38     25       127   \n",
       "4       NaN          149          7         22     20        83   \n",
       "\n",
       "   arts_entertainment  beauty_spas  active_life  median_age  married  \\\n",
       "0                   6           47           58        33.0     65.0   \n",
       "1                   2           26           14        39.0     73.0   \n",
       "2                  10           74           62        28.0     15.0   \n",
       "3                  11           72           83        36.0     25.0   \n",
       "4                  10           50           73        37.0     20.0   \n",
       "\n",
       "   college_grad  property_tax  insurance  median_school  num_schools  tx_year  \n",
       "0          84.0         234.0       81.0            9.0          3.0     2013  \n",
       "1          69.0         169.0       51.0            3.0          3.0     2006  \n",
       "2          86.0         216.0       74.0            8.0          3.0     2012  \n",
       "3          91.0         265.0       92.0            9.0          3.0     2005  \n",
       "4          75.0          88.0       30.0            9.0          3.0     2002  "
      ]
     },
     "execution_count": 3,
     "metadata": {},
     "output_type": "execute_result"
    }
   ],
   "source": [
    "data.head() # There are three categorical columns"
   ]
  },
  {
   "cell_type": "code",
   "execution_count": 4,
   "metadata": {},
   "outputs": [
    {
     "data": {
      "text/plain": [
       "(1883, 26)"
      ]
     },
     "execution_count": 4,
     "metadata": {},
     "output_type": "execute_result"
    }
   ],
   "source": [
    "data.shape"
   ]
  },
  {
   "cell_type": "code",
   "execution_count": 5,
   "metadata": {},
   "outputs": [
    {
     "data": {
      "text/plain": [
       "tx_price                0\n",
       "beds                    0\n",
       "baths                   0\n",
       "sqft                    0\n",
       "year_built              0\n",
       "lot_size                0\n",
       "property_type           0\n",
       "exterior_walls        223\n",
       "roof                  354\n",
       "basement              226\n",
       "restaurants             0\n",
       "groceries               0\n",
       "nightlife               0\n",
       "cafes                   0\n",
       "shopping                0\n",
       "arts_entertainment      0\n",
       "beauty_spas             0\n",
       "active_life             0\n",
       "median_age              0\n",
       "married                 0\n",
       "college_grad            0\n",
       "property_tax            0\n",
       "insurance               0\n",
       "median_school           0\n",
       "num_schools             0\n",
       "tx_year                 0\n",
       "dtype: int64"
      ]
     },
     "execution_count": 5,
     "metadata": {},
     "output_type": "execute_result"
    }
   ],
   "source": [
    "data.isna().sum()"
   ]
  },
  {
   "cell_type": "markdown",
   "metadata": {},
   "source": [
    "The roof and exterior_walls are full of null values and are difficult to estimate effective proxies. So they are dropped. "
   ]
  },
  {
   "cell_type": "code",
   "execution_count": 6,
   "metadata": {},
   "outputs": [],
   "source": [
    "data = data.drop(columns=['roof', 'exterior_walls'])"
   ]
  },
  {
   "cell_type": "code",
   "execution_count": 7,
   "metadata": {},
   "outputs": [
    {
     "data": {
      "text/plain": [
       "array([ nan,   1.])"
      ]
     },
     "execution_count": 7,
     "metadata": {},
     "output_type": "execute_result"
    }
   ],
   "source": [
    "data.basement.unique()"
   ]
  },
  {
   "cell_type": "code",
   "execution_count": 8,
   "metadata": {},
   "outputs": [],
   "source": [
    "data.basement = data.basement.fillna(0)"
   ]
  },
  {
   "cell_type": "code",
   "execution_count": 9,
   "metadata": {},
   "outputs": [
    {
     "data": {
      "text/plain": [
       "array([ 0.,  1.])"
      ]
     },
     "execution_count": 9,
     "metadata": {},
     "output_type": "execute_result"
    }
   ],
   "source": [
    "data.basement.unique() # No more NaN values!"
   ]
  },
  {
   "cell_type": "markdown",
   "metadata": {},
   "source": [
    "### Visualise distribution & check if any outliers or erroneous values "
   ]
  },
  {
   "cell_type": "code",
   "execution_count": 10,
   "metadata": {},
   "outputs": [
    {
     "data": {
      "text/plain": [
       "<matplotlib.axes._subplots.AxesSubplot at 0x110b752e8>"
      ]
     },
     "execution_count": 10,
     "metadata": {},
     "output_type": "execute_result"
    },
    {
     "data": {
      "image/png": "[encoded data removed]",
      "text/plain": [
       "<Figure size 432x288 with 1 Axes>"
      ]
     },
     "metadata": {},
     "output_type": "display_data"
    }
   ],
   "source": [
    "data.tx_price.plot.box() # transaction price between $200K to $800K (USD)"
   ]
  },
  {
   "cell_type": "code",
   "execution_count": 11,
   "metadata": {},
   "outputs": [
    {
     "data": {
      "text/plain": [
       "<matplotlib.axes._subplots.AxesSubplot at 0x10cd2ba20>"
      ]
     },
     "execution_count": 11,
     "metadata": {},
     "output_type": "execute_result"
    },
    {
     "data": {
      "image/png": "[encoded data removed]",
      "text/plain": [
       "<Figure size 432x288 with 1 Axes>"
      ]
     },
     "metadata": {},
     "output_type": "display_data"
    }
   ],
   "source": [
    "data.tx_price.plot.hist() "
   ]
  },
  {
   "cell_type": "code",
   "execution_count": 12,
   "metadata": {},
   "outputs": [
    {
     "data": {
      "text/plain": [
       "<matplotlib.axes._subplots.AxesSubplot at 0x10bceb4e0>"
      ]
     },
     "execution_count": 12,
     "metadata": {},
     "output_type": "execute_result"
    },
    {
     "data": {
      "image/png": "[encoded data removed]",
      "text/plain": [
       "<Figure size 432x288 with 1 Axes>"
      ]
     },
     "metadata": {},
     "output_type": "display_data"
    }
   ],
   "source": [
    "data.tx_year.plot.hist() # most transactions after 2000s"
   ]
  },
  {
   "cell_type": "code",
   "execution_count": 13,
   "metadata": {},
   "outputs": [
    {
     "data": {
      "text/plain": [
       "<matplotlib.axes._subplots.AxesSubplot at 0x1113ee630>"
      ]
     },
     "execution_count": 13,
     "metadata": {},
     "output_type": "execute_result"
    },
    {
     "data": {
      "image/png": "[encoded data removed]",
      "text/plain": [
       "<Figure size 432x288 with 1 Axes>"
      ]
     },
     "metadata": {},
     "output_type": "display_data"
    }
   ],
   "source": [
    "data.sqft.plot.box() "
   ]
  },
  {
   "cell_type": "code",
   "execution_count": 14,
   "metadata": {},
   "outputs": [
    {
     "data": {
      "text/plain": [
       "<matplotlib.axes._subplots.AxesSubplot at 0x1114a9940>"
      ]
     },
     "execution_count": 14,
     "metadata": {},
     "output_type": "execute_result"
    },
    {
     "data": {
      "image/png": "[encoded data removed]",
      "text/plain": [
       "<Figure size 432x288 with 1 Axes>"
      ]
     },
     "metadata": {},
     "output_type": "display_data"
    }
   ],
   "source": [
    "data.sqft.plot.hist() "
   ]
  },
  {
   "cell_type": "code",
   "execution_count": 15,
   "metadata": {},
   "outputs": [
    {
     "data": {
      "text/plain": [
       "<matplotlib.axes._subplots.AxesSubplot at 0x1113e5c88>"
      ]
     },
     "execution_count": 15,
     "metadata": {},
     "output_type": "execute_result"
    },
    {
     "data": {
      "image/png": "[encoded data removed]",
      "text/plain": [
       "<Figure size 432x288 with 1 Axes>"
      ]
     },
     "metadata": {},
     "output_type": "display_data"
    }
   ],
   "source": [
    "data.year_built.plot.box()"
   ]
  },
  {
   "cell_type": "code",
   "execution_count": 16,
   "metadata": {},
   "outputs": [
    {
     "data": {
      "text/plain": [
       "<matplotlib.axes._subplots.AxesSubplot at 0x11198b550>"
      ]
     },
     "execution_count": 16,
     "metadata": {},
     "output_type": "execute_result"
    },
    {
     "data": {
      "image/png": "[encoded data removed]",
      "text/plain": [
       "<Figure size 432x288 with 1 Axes>"
      ]
     },
     "metadata": {},
     "output_type": "display_data"
    }
   ],
   "source": [
    "data.year_built.plot.kde() # the construction years are centered around 1970 to 2010"
   ]
  },
  {
   "cell_type": "code",
   "execution_count": 17,
   "metadata": {},
   "outputs": [
    {
     "data": {
      "image/png": "[encoded data removed]",
      "text/plain": [
       "<Figure size 432x288 with 1 Axes>"
      ]
     },
     "metadata": {},
     "output_type": "display_data"
    }
   ],
   "source": [
    "ax = data.basement.value_counts().plot.bar(title='basement') # most are with basement\n",
    "for p in ax.patches:\n",
    "    ax.annotate(str(p.get_height()), (p.get_x() * 1.005 + 0.175, p.get_height() * 1.005))"
   ]
  },
  {
   "cell_type": "code",
   "execution_count": 18,
   "metadata": {},
   "outputs": [
    {
     "data": {
      "image/png": "[encoded data removed]",
      "text/plain": [
       "<Figure size 432x288 with 1 Axes>"
      ]
     },
     "metadata": {},
     "output_type": "display_data"
    }
   ],
   "source": [
    "data[['beds','baths']].apply(pd.value_counts).plot.bar(title='number of beds-baths')\n",
    "for p in ax.patches:\n",
    "    ax.annotate(str(p.get_height()), (p.get_x() * 1.005 + 0.175, p.get_height() * 1.005))"
   ]
  },
  {
   "cell_type": "code",
   "execution_count": 19,
   "metadata": {},
   "outputs": [
    {
     "data": {
      "image/png": "[encoded data removed]",
      "text/plain": [
       "<Figure size 1296x720 with 1 Axes>"
      ]
     },
     "metadata": {},
     "output_type": "display_data"
    }
   ],
   "source": [
    "ax = data[['restaurants', 'groceries', 'nightlife', 'cafes', 'shopping', 'arts_entertainment', 'beauty_spas', 'active_life']].\\\n",
    "    apply((pd.value_counts)).plot.box(figsize=(18,10), title='number of facilities & shops within 1 mile')\n",
    "    # number of facilities within 1 mile"
   ]
  },
  {
   "cell_type": "code",
   "execution_count": 20,
   "metadata": {},
   "outputs": [
    {
     "data": {
      "text/plain": [
       "<matplotlib.axes._subplots.AxesSubplot at 0x1a1e95c2e8>"
      ]
     },
     "execution_count": 20,
     "metadata": {},
     "output_type": "execute_result"
    },
    {
     "data": {
      "image/png": "[encoded data removed]",
      "text/plain": [
       "<Figure size 720x360 with 1 Axes>"
      ]
     },
     "metadata": {},
     "output_type": "display_data"
    }
   ],
   "source": [
    "data[['median_age', 'married', 'college_grad']].plot.box(figsize=(10,5), title='neighborhood quality') # neighborhood quality"
   ]
  },
  {
   "cell_type": "code",
   "execution_count": 21,
   "metadata": {},
   "outputs": [
    {
     "data": {
      "text/plain": [
       "<matplotlib.axes._subplots.AxesSubplot at 0x1a1ed604a8>"
      ]
     },
     "execution_count": 21,
     "metadata": {},
     "output_type": "execute_result"
    },
    {
     "data": {
      "image/png": "[encoded data removed]",
      "text/plain": [
       "<Figure size 720x360 with 1 Axes>"
      ]
     },
     "metadata": {},
     "output_type": "display_data"
    }
   ],
   "source": [
    "data[['median_school', 'num_schools']].plot.hist(figsize=(10,5), alpha=0.5, title='Schools')"
   ]
  },
  {
   "cell_type": "code",
   "execution_count": 22,
   "metadata": {},
   "outputs": [
    {
     "data": {
      "text/plain": [
       "<matplotlib.axes._subplots.AxesSubplot at 0x1a1ef9f940>"
      ]
     },
     "execution_count": 22,
     "metadata": {},
     "output_type": "execute_result"
    },
    {
     "data": {
      "image/png": "[encoded data removed]",
      "text/plain": [
       "<Figure size 360x576 with 1 Axes>"
      ]
     },
     "metadata": {},
     "output_type": "display_data"
    }
   ],
   "source": [
    "data.property_tax.plot.box(figsize=(5,8))"
   ]
  },
  {
   "cell_type": "code",
   "execution_count": 23,
   "metadata": {},
   "outputs": [
    {
     "data": {
      "text/plain": [
       "<matplotlib.axes._subplots.AxesSubplot at 0x1a1f0bcef0>"
      ]
     },
     "execution_count": 23,
     "metadata": {},
     "output_type": "execute_result"
    },
    {
     "data": {
      "image/png": "[encoded data removed]",
      "text/plain": [
       "<Figure size 360x576 with 1 Axes>"
      ]
     },
     "metadata": {},
     "output_type": "display_data"
    }
   ],
   "source": [
    "data.insurance.plot.box(figsize=(5,8))"
   ]
  },
  {
   "cell_type": "markdown",
   "metadata": {},
   "source": [
    "## 2.Feature Engineering"
   ]
  },
  {
   "cell_type": "markdown",
   "metadata": {},
   "source": [
    "* One important missing feature is the age of the property!\n",
    "* Which is simply: *tx_year - year_built*"
   ]
  },
  {
   "cell_type": "code",
   "execution_count": 24,
   "metadata": {},
   "outputs": [
    {
     "data": {
      "text/plain": [
       "array([1880, 1892, 1900, 1905, 1918, 1920, 1921, 1924, 1925, 1927, 1929,\n",
       "       1930, 1932, 1935, 1936, 1937, 1938, 1939, 1940, 1941, 1942, 1943,\n",
       "       1944, 1945, 1946, 1947, 1948, 1949, 1950, 1951, 1952, 1953, 1954,\n",
       "       1955, 1956, 1957, 1958, 1959, 1960, 1961, 1962, 1963, 1964, 1965,\n",
       "       1966, 1967, 1968, 1969, 1970, 1971, 1972, 1973, 1974, 1975, 1976,\n",
       "       1977, 1978, 1979, 1980, 1981, 1982, 1983, 1984, 1985, 1986, 1987,\n",
       "       1988, 1989, 1990, 1991, 1992, 1993, 1994, 1995, 1996, 1997, 1998,\n",
       "       1999, 2000, 2001, 2002, 2003, 2004, 2005, 2006, 2007, 2008, 2009,\n",
       "       2010, 2011, 2012, 2013, 2014, 2015])"
      ]
     },
     "execution_count": 24,
     "metadata": {},
     "output_type": "execute_result"
    }
   ],
   "source": [
    "data.year_built.sort_values().unique()"
   ]
  },
  {
   "cell_type": "code",
   "execution_count": 25,
   "metadata": {},
   "outputs": [],
   "source": [
    "data['age'] = data.apply(lambda x: x['tx_year'] - x['year_built'], axis=1 )"
   ]
  },
  {
   "cell_type": "code",
   "execution_count": 26,
   "metadata": {},
   "outputs": [
    {
     "data": {
      "text/html": [
       "<div>\n",
       "<style scoped>\n",
       "    .dataframe tbody tr th:only-of-type {\n",
       "        vertical-align: middle;\n",
       "    }\n",
       "\n",
       "    .dataframe tbody tr th {\n",
       "        vertical-align: top;\n",
       "    }\n",
       "\n",
       "    .dataframe thead th {\n",
       "        text-align: right;\n",
       "    }\n",
       "</style>\n",
       "<table border=\"1\" class=\"dataframe\">\n",
       "  <thead>\n",
       "    <tr style=\"text-align: right;\">\n",
       "      <th></th>\n",
       "      <th>tx_price</th>\n",
       "      <th>beds</th>\n",
       "      <th>baths</th>\n",
       "      <th>sqft</th>\n",
       "      <th>year_built</th>\n",
       "      <th>lot_size</th>\n",
       "      <th>property_type</th>\n",
       "      <th>basement</th>\n",
       "      <th>restaurants</th>\n",
       "      <th>groceries</th>\n",
       "      <th>nightlife</th>\n",
       "      <th>cafes</th>\n",
       "      <th>shopping</th>\n",
       "      <th>arts_entertainment</th>\n",
       "      <th>beauty_spas</th>\n",
       "      <th>active_life</th>\n",
       "      <th>median_age</th>\n",
       "      <th>married</th>\n",
       "      <th>college_grad</th>\n",
       "      <th>property_tax</th>\n",
       "      <th>insurance</th>\n",
       "      <th>median_school</th>\n",
       "      <th>num_schools</th>\n",
       "      <th>tx_year</th>\n",
       "      <th>age</th>\n",
       "    </tr>\n",
       "  </thead>\n",
       "  <tbody>\n",
       "    <tr>\n",
       "      <th>0</th>\n",
       "      <td>295850</td>\n",
       "      <td>1</td>\n",
       "      <td>1</td>\n",
       "      <td>584</td>\n",
       "      <td>2013</td>\n",
       "      <td>0</td>\n",
       "      <td>Apartment / Condo / Townhouse</td>\n",
       "      <td>0.0</td>\n",
       "      <td>107</td>\n",
       "      <td>9</td>\n",
       "      <td>30</td>\n",
       "      <td>19</td>\n",
       "      <td>89</td>\n",
       "      <td>6</td>\n",
       "      <td>47</td>\n",
       "      <td>58</td>\n",
       "      <td>33.0</td>\n",
       "      <td>65.0</td>\n",
       "      <td>84.0</td>\n",
       "      <td>234.0</td>\n",
       "      <td>81.0</td>\n",
       "      <td>9.0</td>\n",
       "      <td>3.0</td>\n",
       "      <td>2013</td>\n",
       "      <td>0</td>\n",
       "    </tr>\n",
       "    <tr>\n",
       "      <th>1</th>\n",
       "      <td>216500</td>\n",
       "      <td>1</td>\n",
       "      <td>1</td>\n",
       "      <td>612</td>\n",
       "      <td>1965</td>\n",
       "      <td>0</td>\n",
       "      <td>Apartment / Condo / Townhouse</td>\n",
       "      <td>1.0</td>\n",
       "      <td>105</td>\n",
       "      <td>15</td>\n",
       "      <td>6</td>\n",
       "      <td>13</td>\n",
       "      <td>87</td>\n",
       "      <td>2</td>\n",
       "      <td>26</td>\n",
       "      <td>14</td>\n",
       "      <td>39.0</td>\n",
       "      <td>73.0</td>\n",
       "      <td>69.0</td>\n",
       "      <td>169.0</td>\n",
       "      <td>51.0</td>\n",
       "      <td>3.0</td>\n",
       "      <td>3.0</td>\n",
       "      <td>2006</td>\n",
       "      <td>41</td>\n",
       "    </tr>\n",
       "    <tr>\n",
       "      <th>2</th>\n",
       "      <td>279900</td>\n",
       "      <td>1</td>\n",
       "      <td>1</td>\n",
       "      <td>615</td>\n",
       "      <td>1963</td>\n",
       "      <td>0</td>\n",
       "      <td>Apartment / Condo / Townhouse</td>\n",
       "      <td>0.0</td>\n",
       "      <td>183</td>\n",
       "      <td>13</td>\n",
       "      <td>31</td>\n",
       "      <td>30</td>\n",
       "      <td>101</td>\n",
       "      <td>10</td>\n",
       "      <td>74</td>\n",
       "      <td>62</td>\n",
       "      <td>28.0</td>\n",
       "      <td>15.0</td>\n",
       "      <td>86.0</td>\n",
       "      <td>216.0</td>\n",
       "      <td>74.0</td>\n",
       "      <td>8.0</td>\n",
       "      <td>3.0</td>\n",
       "      <td>2012</td>\n",
       "      <td>49</td>\n",
       "    </tr>\n",
       "    <tr>\n",
       "      <th>3</th>\n",
       "      <td>379900</td>\n",
       "      <td>1</td>\n",
       "      <td>1</td>\n",
       "      <td>618</td>\n",
       "      <td>2000</td>\n",
       "      <td>33541</td>\n",
       "      <td>Apartment / Condo / Townhouse</td>\n",
       "      <td>0.0</td>\n",
       "      <td>198</td>\n",
       "      <td>9</td>\n",
       "      <td>38</td>\n",
       "      <td>25</td>\n",
       "      <td>127</td>\n",
       "      <td>11</td>\n",
       "      <td>72</td>\n",
       "      <td>83</td>\n",
       "      <td>36.0</td>\n",
       "      <td>25.0</td>\n",
       "      <td>91.0</td>\n",
       "      <td>265.0</td>\n",
       "      <td>92.0</td>\n",
       "      <td>9.0</td>\n",
       "      <td>3.0</td>\n",
       "      <td>2005</td>\n",
       "      <td>5</td>\n",
       "    </tr>\n",
       "    <tr>\n",
       "      <th>4</th>\n",
       "      <td>340000</td>\n",
       "      <td>1</td>\n",
       "      <td>1</td>\n",
       "      <td>634</td>\n",
       "      <td>1992</td>\n",
       "      <td>0</td>\n",
       "      <td>Apartment / Condo / Townhouse</td>\n",
       "      <td>0.0</td>\n",
       "      <td>149</td>\n",
       "      <td>7</td>\n",
       "      <td>22</td>\n",
       "      <td>20</td>\n",
       "      <td>83</td>\n",
       "      <td>10</td>\n",
       "      <td>50</td>\n",
       "      <td>73</td>\n",
       "      <td>37.0</td>\n",
       "      <td>20.0</td>\n",
       "      <td>75.0</td>\n",
       "      <td>88.0</td>\n",
       "      <td>30.0</td>\n",
       "      <td>9.0</td>\n",
       "      <td>3.0</td>\n",
       "      <td>2002</td>\n",
       "      <td>10</td>\n",
       "    </tr>\n",
       "  </tbody>\n",
       "</table>\n",
       "</div>"
      ],
      "text/plain": [
       "   tx_price  beds  baths  sqft  year_built  lot_size  \\\n",
       "0    295850     1      1   584        2013         0   \n",
       "1    216500     1      1   612        1965         0   \n",
       "2    279900     1      1   615        1963         0   \n",
       "3    379900     1      1   618        2000     33541   \n",
       "4    340000     1      1   634        1992         0   \n",
       "\n",
       "                   property_type  basement  restaurants  groceries  nightlife  \\\n",
       "0  Apartment / Condo / Townhouse       0.0          107          9         30   \n",
       "1  Apartment / Condo / Townhouse       1.0          105         15          6   \n",
       "2  Apartment / Condo / Townhouse       0.0          183         13         31   \n",
       "3  Apartment / Condo / Townhouse       0.0          198          9         38   \n",
       "4  Apartment / Condo / Townhouse       0.0          149          7         22   \n",
       "\n",
       "   cafes  shopping  arts_entertainment  beauty_spas  active_life  median_age  \\\n",
       "0     19        89                   6           47           58        33.0   \n",
       "1     13        87                   2           26           14        39.0   \n",
       "2     30       101                  10           74           62        28.0   \n",
       "3     25       127                  11           72           83        36.0   \n",
       "4     20        83                  10           50           73        37.0   \n",
       "\n",
       "   married  college_grad  property_tax  insurance  median_school  num_schools  \\\n",
       "0     65.0          84.0         234.0       81.0            9.0          3.0   \n",
       "1     73.0          69.0         169.0       51.0            3.0          3.0   \n",
       "2     15.0          86.0         216.0       74.0            8.0          3.0   \n",
       "3     25.0          91.0         265.0       92.0            9.0          3.0   \n",
       "4     20.0          75.0          88.0       30.0            9.0          3.0   \n",
       "\n",
       "   tx_year  age  \n",
       "0     2013    0  \n",
       "1     2006   41  \n",
       "2     2012   49  \n",
       "3     2005    5  \n",
       "4     2002   10  "
      ]
     },
     "execution_count": 26,
     "metadata": {},
     "output_type": "execute_result"
    }
   ],
   "source": [
    "data.head()"
   ]
  },
  {
   "cell_type": "code",
   "execution_count": 27,
   "metadata": {},
   "outputs": [
    {
     "data": {
      "text/plain": [
       "array([ -8,  -7,  -4,  -2,  -1,   0,   1,   2,   3,   4,   5,   6,   7,\n",
       "         8,   9,  10,  11,  12,  13,  14,  15,  16,  17,  18,  19,  20,\n",
       "        21,  22,  23,  24,  25,  26,  27,  28,  29,  30,  31,  32,  33,\n",
       "        34,  35,  36,  37,  38,  39,  40,  41,  42,  43,  44,  45,  46,\n",
       "        47,  48,  49,  50,  51,  52,  53,  54,  55,  56,  57,  58,  59,\n",
       "        60,  61,  62,  63,  64,  65,  66,  67,  68,  69,  70,  71,  72,\n",
       "        73,  74,  75,  77,  78,  79,  80,  82,  85,  86,  89,  90,  94,\n",
       "       101, 103, 104, 110, 113, 114])"
      ]
     },
     "execution_count": 27,
     "metadata": {},
     "output_type": "execute_result"
    }
   ],
   "source": [
    "data.age.sort_values().unique()"
   ]
  },
  {
   "cell_type": "code",
   "execution_count": 28,
   "metadata": {},
   "outputs": [
    {
     "data": {
      "text/html": [
       "<div>\n",
       "<style scoped>\n",
       "    .dataframe tbody tr th:only-of-type {\n",
       "        vertical-align: middle;\n",
       "    }\n",
       "\n",
       "    .dataframe tbody tr th {\n",
       "        vertical-align: top;\n",
       "    }\n",
       "\n",
       "    .dataframe thead th {\n",
       "        text-align: right;\n",
       "    }\n",
       "</style>\n",
       "<table border=\"1\" class=\"dataframe\">\n",
       "  <thead>\n",
       "    <tr style=\"text-align: right;\">\n",
       "      <th></th>\n",
       "      <th>year_built</th>\n",
       "      <th>tx_year</th>\n",
       "    </tr>\n",
       "  </thead>\n",
       "  <tbody>\n",
       "    <tr>\n",
       "      <th>1540</th>\n",
       "      <td>2015</td>\n",
       "      <td>2014</td>\n",
       "    </tr>\n",
       "    <tr>\n",
       "      <th>1864</th>\n",
       "      <td>2015</td>\n",
       "      <td>2013</td>\n",
       "    </tr>\n",
       "    <tr>\n",
       "      <th>1828</th>\n",
       "      <td>2015</td>\n",
       "      <td>2007</td>\n",
       "    </tr>\n",
       "    <tr>\n",
       "      <th>1840</th>\n",
       "      <td>2014</td>\n",
       "      <td>2014</td>\n",
       "    </tr>\n",
       "    <tr>\n",
       "      <th>1207</th>\n",
       "      <td>2014</td>\n",
       "      <td>2014</td>\n",
       "    </tr>\n",
       "    <tr>\n",
       "      <th>1769</th>\n",
       "      <td>2014</td>\n",
       "      <td>2014</td>\n",
       "    </tr>\n",
       "    <tr>\n",
       "      <th>0</th>\n",
       "      <td>2013</td>\n",
       "      <td>2013</td>\n",
       "    </tr>\n",
       "    <tr>\n",
       "      <th>1818</th>\n",
       "      <td>2013</td>\n",
       "      <td>2013</td>\n",
       "    </tr>\n",
       "    <tr>\n",
       "      <th>111</th>\n",
       "      <td>2013</td>\n",
       "      <td>2013</td>\n",
       "    </tr>\n",
       "    <tr>\n",
       "      <th>1809</th>\n",
       "      <td>2013</td>\n",
       "      <td>2012</td>\n",
       "    </tr>\n",
       "  </tbody>\n",
       "</table>\n",
       "</div>"
      ],
      "text/plain": [
       "      year_built  tx_year\n",
       "1540        2015     2014\n",
       "1864        2015     2013\n",
       "1828        2015     2007\n",
       "1840        2014     2014\n",
       "1207        2014     2014\n",
       "1769        2014     2014\n",
       "0           2013     2013\n",
       "1818        2013     2013\n",
       "111         2013     2013\n",
       "1809        2013     2012"
      ]
     },
     "execution_count": 28,
     "metadata": {},
     "output_type": "execute_result"
    }
   ],
   "source": [
    "data.iloc[:,4::19].sort_values(by='year_built', ascending=False)[:10]"
   ]
  },
  {
   "cell_type": "markdown",
   "metadata": {},
   "source": [
    "Some properties are sold before it finished construction.\n",
    "\n",
    "That is why we have negative *age* values."
   ]
  },
  {
   "cell_type": "code",
   "execution_count": 29,
   "metadata": {},
   "outputs": [],
   "source": [
    "data.drop('property_type', 1, inplace=True)"
   ]
  },
  {
   "cell_type": "code",
   "execution_count": 30,
   "metadata": {},
   "outputs": [],
   "source": [
    "data.to_csv('data_cooked.csv', index=False) # Now, output to cleaned & engineered table for use"
   ]
  },
  {
   "cell_type": "markdown",
   "metadata": {},
   "source": [
    "## 3.Modelling"
   ]
  },
  {
   "cell_type": "code",
   "execution_count": 31,
   "metadata": {},
   "outputs": [],
   "source": [
    "df = pd.read_csv('data_cooked.csv')"
   ]
  },
  {
   "cell_type": "code",
   "execution_count": 32,
   "metadata": {},
   "outputs": [
    {
     "data": {
      "text/html": [
       "<div>\n",
       "<style scoped>\n",
       "    .dataframe tbody tr th:only-of-type {\n",
       "        vertical-align: middle;\n",
       "    }\n",
       "\n",
       "    .dataframe tbody tr th {\n",
       "        vertical-align: top;\n",
       "    }\n",
       "\n",
       "    .dataframe thead th {\n",
       "        text-align: right;\n",
       "    }\n",
       "</style>\n",
       "<table border=\"1\" class=\"dataframe\">\n",
       "  <thead>\n",
       "    <tr style=\"text-align: right;\">\n",
       "      <th></th>\n",
       "      <th>tx_price</th>\n",
       "      <th>beds</th>\n",
       "      <th>baths</th>\n",
       "      <th>sqft</th>\n",
       "      <th>year_built</th>\n",
       "      <th>lot_size</th>\n",
       "      <th>basement</th>\n",
       "      <th>restaurants</th>\n",
       "      <th>groceries</th>\n",
       "      <th>nightlife</th>\n",
       "      <th>cafes</th>\n",
       "      <th>shopping</th>\n",
       "      <th>arts_entertainment</th>\n",
       "      <th>beauty_spas</th>\n",
       "      <th>active_life</th>\n",
       "      <th>median_age</th>\n",
       "      <th>married</th>\n",
       "      <th>college_grad</th>\n",
       "      <th>property_tax</th>\n",
       "      <th>insurance</th>\n",
       "      <th>median_school</th>\n",
       "      <th>num_schools</th>\n",
       "      <th>tx_year</th>\n",
       "      <th>age</th>\n",
       "    </tr>\n",
       "  </thead>\n",
       "  <tbody>\n",
       "    <tr>\n",
       "      <th>0</th>\n",
       "      <td>295850</td>\n",
       "      <td>1</td>\n",
       "      <td>1</td>\n",
       "      <td>584</td>\n",
       "      <td>2013</td>\n",
       "      <td>0</td>\n",
       "      <td>0.0</td>\n",
       "      <td>107</td>\n",
       "      <td>9</td>\n",
       "      <td>30</td>\n",
       "      <td>19</td>\n",
       "      <td>89</td>\n",
       "      <td>6</td>\n",
       "      <td>47</td>\n",
       "      <td>58</td>\n",
       "      <td>33.0</td>\n",
       "      <td>65.0</td>\n",
       "      <td>84.0</td>\n",
       "      <td>234.0</td>\n",
       "      <td>81.0</td>\n",
       "      <td>9.0</td>\n",
       "      <td>3.0</td>\n",
       "      <td>2013</td>\n",
       "      <td>0</td>\n",
       "    </tr>\n",
       "    <tr>\n",
       "      <th>1</th>\n",
       "      <td>216500</td>\n",
       "      <td>1</td>\n",
       "      <td>1</td>\n",
       "      <td>612</td>\n",
       "      <td>1965</td>\n",
       "      <td>0</td>\n",
       "      <td>1.0</td>\n",
       "      <td>105</td>\n",
       "      <td>15</td>\n",
       "      <td>6</td>\n",
       "      <td>13</td>\n",
       "      <td>87</td>\n",
       "      <td>2</td>\n",
       "      <td>26</td>\n",
       "      <td>14</td>\n",
       "      <td>39.0</td>\n",
       "      <td>73.0</td>\n",
       "      <td>69.0</td>\n",
       "      <td>169.0</td>\n",
       "      <td>51.0</td>\n",
       "      <td>3.0</td>\n",
       "      <td>3.0</td>\n",
       "      <td>2006</td>\n",
       "      <td>41</td>\n",
       "    </tr>\n",
       "    <tr>\n",
       "      <th>2</th>\n",
       "      <td>279900</td>\n",
       "      <td>1</td>\n",
       "      <td>1</td>\n",
       "      <td>615</td>\n",
       "      <td>1963</td>\n",
       "      <td>0</td>\n",
       "      <td>0.0</td>\n",
       "      <td>183</td>\n",
       "      <td>13</td>\n",
       "      <td>31</td>\n",
       "      <td>30</td>\n",
       "      <td>101</td>\n",
       "      <td>10</td>\n",
       "      <td>74</td>\n",
       "      <td>62</td>\n",
       "      <td>28.0</td>\n",
       "      <td>15.0</td>\n",
       "      <td>86.0</td>\n",
       "      <td>216.0</td>\n",
       "      <td>74.0</td>\n",
       "      <td>8.0</td>\n",
       "      <td>3.0</td>\n",
       "      <td>2012</td>\n",
       "      <td>49</td>\n",
       "    </tr>\n",
       "    <tr>\n",
       "      <th>3</th>\n",
       "      <td>379900</td>\n",
       "      <td>1</td>\n",
       "      <td>1</td>\n",
       "      <td>618</td>\n",
       "      <td>2000</td>\n",
       "      <td>33541</td>\n",
       "      <td>0.0</td>\n",
       "      <td>198</td>\n",
       "      <td>9</td>\n",
       "      <td>38</td>\n",
       "      <td>25</td>\n",
       "      <td>127</td>\n",
       "      <td>11</td>\n",
       "      <td>72</td>\n",
       "      <td>83</td>\n",
       "      <td>36.0</td>\n",
       "      <td>25.0</td>\n",
       "      <td>91.0</td>\n",
       "      <td>265.0</td>\n",
       "      <td>92.0</td>\n",
       "      <td>9.0</td>\n",
       "      <td>3.0</td>\n",
       "      <td>2005</td>\n",
       "      <td>5</td>\n",
       "    </tr>\n",
       "    <tr>\n",
       "      <th>4</th>\n",
       "      <td>340000</td>\n",
       "      <td>1</td>\n",
       "      <td>1</td>\n",
       "      <td>634</td>\n",
       "      <td>1992</td>\n",
       "      <td>0</td>\n",
       "      <td>0.0</td>\n",
       "      <td>149</td>\n",
       "      <td>7</td>\n",
       "      <td>22</td>\n",
       "      <td>20</td>\n",
       "      <td>83</td>\n",
       "      <td>10</td>\n",
       "      <td>50</td>\n",
       "      <td>73</td>\n",
       "      <td>37.0</td>\n",
       "      <td>20.0</td>\n",
       "      <td>75.0</td>\n",
       "      <td>88.0</td>\n",
       "      <td>30.0</td>\n",
       "      <td>9.0</td>\n",
       "      <td>3.0</td>\n",
       "      <td>2002</td>\n",
       "      <td>10</td>\n",
       "    </tr>\n",
       "  </tbody>\n",
       "</table>\n",
       "</div>"
      ],
      "text/plain": [
       "   tx_price  beds  baths  sqft  year_built  lot_size  basement  restaurants  \\\n",
       "0    295850     1      1   584        2013         0       0.0          107   \n",
       "1    216500     1      1   612        1965         0       1.0          105   \n",
       "2    279900     1      1   615        1963         0       0.0          183   \n",
       "3    379900     1      1   618        2000     33541       0.0          198   \n",
       "4    340000     1      1   634        1992         0       0.0          149   \n",
       "\n",
       "   groceries  nightlife  cafes  shopping  arts_entertainment  beauty_spas  \\\n",
       "0          9         30     19        89                   6           47   \n",
       "1         15          6     13        87                   2           26   \n",
       "2         13         31     30       101                  10           74   \n",
       "3          9         38     25       127                  11           72   \n",
       "4          7         22     20        83                  10           50   \n",
       "\n",
       "   active_life  median_age  married  college_grad  property_tax  insurance  \\\n",
       "0           58        33.0     65.0          84.0         234.0       81.0   \n",
       "1           14        39.0     73.0          69.0         169.0       51.0   \n",
       "2           62        28.0     15.0          86.0         216.0       74.0   \n",
       "3           83        36.0     25.0          91.0         265.0       92.0   \n",
       "4           73        37.0     20.0          75.0          88.0       30.0   \n",
       "\n",
       "   median_school  num_schools  tx_year  age  \n",
       "0            9.0          3.0     2013    0  \n",
       "1            3.0          3.0     2006   41  \n",
       "2            8.0          3.0     2012   49  \n",
       "3            9.0          3.0     2005    5  \n",
       "4            9.0          3.0     2002   10  "
      ]
     },
     "execution_count": 32,
     "metadata": {},
     "output_type": "execute_result"
    }
   ],
   "source": [
    "df.head()"
   ]
  },
  {
   "cell_type": "markdown",
   "metadata": {},
   "source": [
    "### 3.1Random Forest"
   ]
  },
  {
   "cell_type": "code",
   "execution_count": 33,
   "metadata": {},
   "outputs": [],
   "source": [
    "from sklearn.ensemble import RandomForestRegressor\n",
    "from sklearn.metrics import mean_absolute_error\n",
    "from sklearn.model_selection import train_test_split"
   ]
  },
  {
   "cell_type": "code",
   "execution_count": 34,
   "metadata": {},
   "outputs": [],
   "source": [
    "train_X, test_X, train_y, test_y = train_test_split(df.drop('tx_price',1), df.tx_price, random_state=99,\n",
    "                                                   test_size=0.3, )"
   ]
  },
  {
   "cell_type": "code",
   "execution_count": 35,
   "metadata": {},
   "outputs": [
    {
     "name": "stdout",
     "output_type": "stream",
     "text": [
      "train_X.shape: (1318, 23) \n",
      "train_y.shape: (1318,) \n",
      "test_X.shape: (565, 23) \n",
      "test_y.shape: (565,)\n"
     ]
    }
   ],
   "source": [
    "print('train_X.shape:', train_X.shape,\n",
    "     '\\ntrain_y.shape:', train_y.shape,\n",
    "     '\\ntest_X.shape:', test_X.shape,\n",
    "     '\\ntest_y.shape:', test_y.shape)"
   ]
  },
  {
   "cell_type": "code",
   "execution_count": 36,
   "metadata": {},
   "outputs": [],
   "source": [
    "rrr = RandomForestRegressor(n_estimators=100)\n",
    "rrr = rrr.fit(train_X, train_y)"
   ]
  },
  {
   "cell_type": "code",
   "execution_count": 37,
   "metadata": {},
   "outputs": [
    {
     "data": {
      "text/plain": [
       "46052.933486725669"
      ]
     },
     "execution_count": 37,
     "metadata": {},
     "output_type": "execute_result"
    }
   ],
   "source": [
    "yhat_rrr = rrr.predict(test_X)\n",
    "mean_absolute_error(test_y, yhat_rrr)"
   ]
  },
  {
   "cell_type": "markdown",
   "metadata": {},
   "source": [
    "Tuning number of estimators via gridsearch:"
   ]
  },
  {
   "cell_type": "code",
   "execution_count": 38,
   "metadata": {},
   "outputs": [],
   "source": [
    "def get_mae_rf(num_est, predictors_train, predictors_val, targ_train, targ_val):\n",
    "\n",
    "    # fitting model with input max_leaf_nodes\n",
    "    model = RandomForestRegressor(n_estimators=num_est, random_state=0)\n",
    "\n",
    "    # fitting the model with training dataset\n",
    "    model.fit(predictors_train, targ_train)\n",
    "\n",
    "    # making prediction with the test dataset\n",
    "    preds_val = model.predict(predictors_val)\n",
    "\n",
    "    # calculate and return the MAE\n",
    "    mae = mean_absolute_error(targ_val, preds_val)\n",
    "    return(mae)"
   ]
  },
  {
   "cell_type": "code",
   "execution_count": 39,
   "metadata": {},
   "outputs": [
    {
     "name": "stdout",
     "output_type": "stream",
     "text": [
      "num_est : 2 \t\t Mean Absolute Error:  58775\n",
      "num_est : 3 \t\t Mean Absolute Error:  54786\n",
      "num_est : 4 \t\t Mean Absolute Error:  51000\n",
      "num_est : 5 \t\t Mean Absolute Error:  49162\n",
      "num_est : 6 \t\t Mean Absolute Error:  47648\n",
      "num_est : 7 \t\t Mean Absolute Error:  47152\n",
      "num_est : 8 \t\t Mean Absolute Error:  47404\n",
      "num_est : 9 \t\t Mean Absolute Error:  47464\n",
      "num_est : 10 \t\t Mean Absolute Error:  47479\n",
      "num_est : 11 \t\t Mean Absolute Error:  47503\n",
      "num_est : 12 \t\t Mean Absolute Error:  47329\n",
      "num_est : 13 \t\t Mean Absolute Error:  47571\n",
      "num_est : 14 \t\t Mean Absolute Error:  47755\n",
      "num_est : 15 \t\t Mean Absolute Error:  47719\n",
      "num_est : 16 \t\t Mean Absolute Error:  47538\n",
      "num_est : 17 \t\t Mean Absolute Error:  47702\n",
      "num_est : 18 \t\t Mean Absolute Error:  47351\n",
      "num_est : 19 \t\t Mean Absolute Error:  47075\n",
      "num_est : 20 \t\t Mean Absolute Error:  47104\n",
      "num_est : 21 \t\t Mean Absolute Error:  47142\n",
      "num_est : 22 \t\t Mean Absolute Error:  46920\n",
      "num_est : 23 \t\t Mean Absolute Error:  46916\n",
      "num_est : 24 \t\t Mean Absolute Error:  46993\n",
      "num_est : 25 \t\t Mean Absolute Error:  47145\n",
      "num_est : 26 \t\t Mean Absolute Error:  47148\n",
      "num_est : 27 \t\t Mean Absolute Error:  47146\n",
      "num_est : 28 \t\t Mean Absolute Error:  47114\n",
      "num_est : 29 \t\t Mean Absolute Error:  46932\n",
      "num_est : 30 \t\t Mean Absolute Error:  46762\n",
      "num_est : 31 \t\t Mean Absolute Error:  46806\n",
      "num_est : 32 \t\t Mean Absolute Error:  46658\n",
      "num_est : 33 \t\t Mean Absolute Error:  46618\n",
      "num_est : 34 \t\t Mean Absolute Error:  46647\n",
      "num_est : 35 \t\t Mean Absolute Error:  46628\n",
      "num_est : 36 \t\t Mean Absolute Error:  46571\n",
      "num_est : 37 \t\t Mean Absolute Error:  46608\n",
      "num_est : 38 \t\t Mean Absolute Error:  46537\n",
      "num_est : 39 \t\t Mean Absolute Error:  46427\n",
      "num_est : 40 \t\t Mean Absolute Error:  46378\n",
      "num_est : 41 \t\t Mean Absolute Error:  46398\n",
      "num_est : 42 \t\t Mean Absolute Error:  46348\n",
      "num_est : 43 \t\t Mean Absolute Error:  46414\n",
      "num_est : 44 \t\t Mean Absolute Error:  46350\n",
      "num_est : 45 \t\t Mean Absolute Error:  46373\n",
      "num_est : 46 \t\t Mean Absolute Error:  46339\n",
      "num_est : 47 \t\t Mean Absolute Error:  46452\n",
      "num_est : 48 \t\t Mean Absolute Error:  46417\n",
      "num_est : 49 \t\t Mean Absolute Error:  46452\n",
      "num_est : 50 \t\t Mean Absolute Error:  46471\n",
      "num_est : 51 \t\t Mean Absolute Error:  46459\n",
      "num_est : 52 \t\t Mean Absolute Error:  46394\n",
      "num_est : 53 \t\t Mean Absolute Error:  46470\n",
      "num_est : 54 \t\t Mean Absolute Error:  46411\n",
      "num_est : 55 \t\t Mean Absolute Error:  46501\n",
      "num_est : 56 \t\t Mean Absolute Error:  46521\n",
      "num_est : 57 \t\t Mean Absolute Error:  46561\n",
      "num_est : 58 \t\t Mean Absolute Error:  46565\n",
      "num_est : 59 \t\t Mean Absolute Error:  46606\n",
      "num_est : 60 \t\t Mean Absolute Error:  46630\n",
      "num_est : 61 \t\t Mean Absolute Error:  46553\n",
      "num_est : 62 \t\t Mean Absolute Error:  46506\n",
      "num_est : 63 \t\t Mean Absolute Error:  46591\n",
      "num_est : 64 \t\t Mean Absolute Error:  46635\n",
      "num_est : 65 \t\t Mean Absolute Error:  46702\n",
      "num_est : 66 \t\t Mean Absolute Error:  46730\n",
      "num_est : 67 \t\t Mean Absolute Error:  46759\n",
      "num_est : 68 \t\t Mean Absolute Error:  46790\n",
      "num_est : 69 \t\t Mean Absolute Error:  46770\n",
      "num_est : 70 \t\t Mean Absolute Error:  46793\n",
      "num_est : 71 \t\t Mean Absolute Error:  46779\n",
      "num_est : 72 \t\t Mean Absolute Error:  46760\n",
      "num_est : 73 \t\t Mean Absolute Error:  46787\n",
      "num_est : 74 \t\t Mean Absolute Error:  46689\n",
      "num_est : 75 \t\t Mean Absolute Error:  46650\n",
      "num_est : 76 \t\t Mean Absolute Error:  46664\n",
      "num_est : 77 \t\t Mean Absolute Error:  46617\n",
      "num_est : 78 \t\t Mean Absolute Error:  46489\n",
      "num_est : 79 \t\t Mean Absolute Error:  46512\n",
      "num_est : 80 \t\t Mean Absolute Error:  46481\n",
      "num_est : 81 \t\t Mean Absolute Error:  46490\n",
      "num_est : 82 \t\t Mean Absolute Error:  46578\n",
      "num_est : 83 \t\t Mean Absolute Error:  46646\n",
      "num_est : 84 \t\t Mean Absolute Error:  46691\n",
      "num_est : 85 \t\t Mean Absolute Error:  46662\n",
      "num_est : 86 \t\t Mean Absolute Error:  46681\n",
      "num_est : 87 \t\t Mean Absolute Error:  46726\n",
      "num_est : 88 \t\t Mean Absolute Error:  46722\n",
      "num_est : 89 \t\t Mean Absolute Error:  46722\n",
      "num_est : 90 \t\t Mean Absolute Error:  46672\n",
      "num_est : 91 \t\t Mean Absolute Error:  46692\n",
      "num_est : 92 \t\t Mean Absolute Error:  46643\n",
      "num_est : 93 \t\t Mean Absolute Error:  46654\n",
      "num_est : 94 \t\t Mean Absolute Error:  46669\n",
      "num_est : 95 \t\t Mean Absolute Error:  46685\n",
      "num_est : 96 \t\t Mean Absolute Error:  46659\n",
      "num_est : 97 \t\t Mean Absolute Error:  46668\n",
      "num_est : 98 \t\t Mean Absolute Error:  46659\n",
      "num_est : 99 \t\t Mean Absolute Error:  46601\n",
      "46.106316\n"
     ]
    }
   ],
   "source": [
    "import time\n",
    "start = time.clock()\n",
    "\n",
    "plot_mae = []\n",
    "estimator = range(2,100)\n",
    "\n",
    "for num_est in range(2,100):\n",
    "    my_mae = get_mae_rf(num_est,train_X,test_X,train_y,test_y)\n",
    "    print(\"num_est : %d \\t\\t Mean Absolute Error:  %d\" %(num_est,my_mae))\n",
    "    plot_mae.append(my_mae)\n",
    "\n",
    "print (time.clock() - start)"
   ]
  },
  {
   "cell_type": "code",
   "execution_count": 40,
   "metadata": {},
   "outputs": [
    {
     "name": "stdout",
     "output_type": "stream",
     "text": [
      "num_est : 340 \t\t Mean Absolute Error:  45897\n",
      "num_est : 341 \t\t Mean Absolute Error:  45891\n",
      "num_est : 342 \t\t Mean Absolute Error:  45873\n",
      "num_est : 343 \t\t Mean Absolute Error:  45870\n",
      "num_est : 344 \t\t Mean Absolute Error:  45868\n",
      "num_est : 345 \t\t Mean Absolute Error:  45865\n",
      "num_est : 346 \t\t Mean Absolute Error:  45866\n",
      "num_est : 347 \t\t Mean Absolute Error:  45868\n",
      "num_est : 348 \t\t Mean Absolute Error:  45884\n",
      "num_est : 349 \t\t Mean Absolute Error:  45877\n",
      "31.643173999999995\n"
     ]
    }
   ],
   "source": [
    "import time\n",
    "start = time.clock()\n",
    "\n",
    "plot_mae = []\n",
    "estimator = range(2,100)\n",
    "\n",
    "for num_est in range(340,350):\n",
    "    my_mae = get_mae_rf(num_est,train_X,test_X,train_y,test_y)\n",
    "    print(\"num_est : %d \\t\\t Mean Absolute Error:  %d\" %(num_est,my_mae))\n",
    "    plot_mae.append(my_mae)\n",
    "\n",
    "print (time.clock() - start)"
   ]
  },
  {
   "cell_type": "markdown",
   "metadata": {},
   "source": [
    "Even if we are increasing the number of estimators, it seems that it is not getting any better then the first trial.\n",
    "\n",
    "At aounrd 350 round, it starts to get better results."
   ]
  },
  {
   "cell_type": "code",
   "execution_count": 41,
   "metadata": {},
   "outputs": [
    {
     "data": {
      "image/png": "[encoded data removed]",
      "text/plain": [
       "<Figure size 432x288 with 1 Axes>"
      ]
     },
     "metadata": {},
     "output_type": "display_data"
    }
   ],
   "source": [
    "import numpy as np\n",
    "import matplotlib.pyplot as plt\n",
    "%matplotlib inline\n",
    "features = train_X.columns\n",
    "importances = rrr.feature_importances_\n",
    "indices = np.argsort(importances)\n",
    "\n",
    "plt.title('Feature Importances - Random Forest')\n",
    "plt.barh(range(len(indices)), importances[indices], color='b', align='center')\n",
    "plt.yticks(range(len(indices)), features[indices])\n",
    "plt.xlabel('Relative Importance')\n",
    "plt.show()"
   ]
  },
  {
   "cell_type": "markdown",
   "metadata": {},
   "source": [
    "### 3.2XGBoost"
   ]
  },
  {
   "cell_type": "code",
   "execution_count": 42,
   "metadata": {},
   "outputs": [],
   "source": [
    "from xgboost import XGBRegressor"
   ]
  },
  {
   "cell_type": "code",
   "execution_count": 43,
   "metadata": {},
   "outputs": [],
   "source": [
    "xgbr = XGBRegressor()"
   ]
  },
  {
   "cell_type": "code",
   "execution_count": 44,
   "metadata": {},
   "outputs": [
    {
     "data": {
      "text/plain": [
       "XGBRegressor(base_score=0.5, booster='gbtree', colsample_bylevel=1,\n",
       "       colsample_bytree=1, gamma=0, learning_rate=0.1, max_delta_step=0,\n",
       "       max_depth=3, min_child_weight=1, missing=None, n_estimators=100,\n",
       "       n_jobs=1, nthread=None, objective='reg:linear', random_state=0,\n",
       "       reg_alpha=0, reg_lambda=1, scale_pos_weight=1, seed=None,\n",
       "       silent=True, subsample=1)"
      ]
     },
     "execution_count": 44,
     "metadata": {},
     "output_type": "execute_result"
    }
   ],
   "source": [
    "xgbr.fit(train_X, train_y)"
   ]
  },
  {
   "cell_type": "code",
   "execution_count": 45,
   "metadata": {},
   "outputs": [
    {
     "data": {
      "text/plain": [
       "array([ 0.03768116,  0.00724638,  0.12028985,  0.06086956,  0.03043478,\n",
       "        0.00289855,  0.01449275,  0.01594203,  0.0057971 ,  0.01884058,\n",
       "        0.01304348,  0.01594203,  0.01304348,  0.01594203,  0.01304348,\n",
       "        0.02173913,  0.03188406,  0.0768116 ,  0.17536232,  0.0173913 ,\n",
       "        0.        ,  0.2173913 ,  0.07391305], dtype=float32)"
      ]
     },
     "execution_count": 45,
     "metadata": {},
     "output_type": "execute_result"
    }
   ],
   "source": [
    "xgbr.feature_importances_"
   ]
  },
  {
   "cell_type": "code",
   "execution_count": 46,
   "metadata": {},
   "outputs": [
    {
     "data": {
      "text/plain": [
       "Index(['beds', 'baths', 'sqft', 'year_built', 'lot_size', 'basement',\n",
       "       'restaurants', 'groceries', 'nightlife', 'cafes', 'shopping',\n",
       "       'arts_entertainment', 'beauty_spas', 'active_life', 'median_age',\n",
       "       'married', 'college_grad', 'property_tax', 'insurance', 'median_school',\n",
       "       'num_schools', 'tx_year', 'age'],\n",
       "      dtype='object')"
      ]
     },
     "execution_count": 46,
     "metadata": {},
     "output_type": "execute_result"
    }
   ],
   "source": [
    "train_X.columns"
   ]
  },
  {
   "cell_type": "code",
   "execution_count": 47,
   "metadata": {},
   "outputs": [
    {
     "data": {
      "image/png": "[encoded data removed]",
      "text/plain": [
       "<Figure size 432x288 with 1 Axes>"
      ]
     },
     "metadata": {},
     "output_type": "display_data"
    }
   ],
   "source": [
    "for y,x in sorted(zip(xgbr.feature_importances_, train_X.columns), reverse=False):\n",
    "    #print (x,y)\n",
    "    plt.barh(x,y, color='b')\n",
    "    plt.title('Feature Importances - XGB')\n",
    "    plt.xlabel('Relative Importance')"
   ]
  },
  {
   "cell_type": "code",
   "execution_count": 48,
   "metadata": {},
   "outputs": [
    {
     "data": {
      "text/plain": [
       "45025.599529867257"
      ]
     },
     "execution_count": 48,
     "metadata": {},
     "output_type": "execute_result"
    }
   ],
   "source": [
    "yhat_xgb = xgbr.predict(test_X)\n",
    "mean_absolute_error(test_y, yhat_xgb)"
   ]
  },
  {
   "cell_type": "markdown",
   "metadata": {},
   "source": [
    "### 3.3LightGBM"
   ]
  },
  {
   "cell_type": "code",
   "execution_count": 49,
   "metadata": {},
   "outputs": [],
   "source": [
    "import lightgbm as lgb"
   ]
  },
  {
   "cell_type": "code",
   "execution_count": 50,
   "metadata": {},
   "outputs": [],
   "source": [
    "#lgr = lgb.LGBMRegressor(num_leaves=10, n_estimators=150, learning_rate=0.3, max_depth=3, min_child_samples=1)\n",
    "lgr = lgb.LGBMRegressor()"
   ]
  },
  {
   "cell_type": "code",
   "execution_count": 51,
   "metadata": {},
   "outputs": [
    {
     "name": "stdout",
     "output_type": "stream",
     "text": [
      "[1]\tvalid_0's l2: 2.41605e+10\n",
      "[2]\tvalid_0's l2: 2.41369e+10\n",
      "[3]\tvalid_0's l2: 2.41134e+10\n",
      "[4]\tvalid_0's l2: 2.40895e+10\n",
      "[5]\tvalid_0's l2: 2.4066e+10\n",
      "[6]\tvalid_0's l2: 2.40422e+10\n",
      "[7]\tvalid_0's l2: 2.40184e+10\n",
      "[8]\tvalid_0's l2: 2.3995e+10\n",
      "[9]\tvalid_0's l2: 2.39712e+10\n",
      "[10]\tvalid_0's l2: 2.39475e+10\n",
      "[11]\tvalid_0's l2: 2.39238e+10\n",
      "[12]\tvalid_0's l2: 2.39004e+10\n",
      "[13]\tvalid_0's l2: 2.38767e+10\n",
      "[14]\tvalid_0's l2: 2.38531e+10\n",
      "[15]\tvalid_0's l2: 2.38298e+10\n",
      "[16]\tvalid_0's l2: 2.38062e+10\n",
      "[17]\tvalid_0's l2: 2.37826e+10\n",
      "[18]\tvalid_0's l2: 2.37593e+10\n",
      "[19]\tvalid_0's l2: 2.37358e+10\n",
      "[20]\tvalid_0's l2: 2.37123e+10\n",
      "[21]\tvalid_0's l2: 2.36891e+10\n",
      "[22]\tvalid_0's l2: 2.36656e+10\n",
      "[23]\tvalid_0's l2: 2.36421e+10\n",
      "[24]\tvalid_0's l2: 2.36187e+10\n",
      "[25]\tvalid_0's l2: 2.3595e+10\n",
      "[26]\tvalid_0's l2: 2.35714e+10\n",
      "[27]\tvalid_0's l2: 2.35483e+10\n",
      "[28]\tvalid_0's l2: 2.35247e+10\n",
      "[29]\tvalid_0's l2: 2.35016e+10\n",
      "[30]\tvalid_0's l2: 2.34781e+10\n",
      "[31]\tvalid_0's l2: 2.34551e+10\n",
      "[32]\tvalid_0's l2: 2.34316e+10\n",
      "[33]\tvalid_0's l2: 2.34083e+10\n",
      "[34]\tvalid_0's l2: 2.33848e+10\n",
      "[35]\tvalid_0's l2: 2.33613e+10\n",
      "[36]\tvalid_0's l2: 2.33384e+10\n",
      "[37]\tvalid_0's l2: 2.3315e+10\n",
      "[38]\tvalid_0's l2: 2.32921e+10\n",
      "[39]\tvalid_0's l2: 2.32687e+10\n",
      "[40]\tvalid_0's l2: 2.32455e+10\n",
      "[41]\tvalid_0's l2: 2.32222e+10\n",
      "[42]\tvalid_0's l2: 2.31988e+10\n",
      "[43]\tvalid_0's l2: 2.31761e+10\n",
      "[44]\tvalid_0's l2: 2.31528e+10\n",
      "[45]\tvalid_0's l2: 2.313e+10\n",
      "[46]\tvalid_0's l2: 2.31068e+10\n",
      "[47]\tvalid_0's l2: 2.30841e+10\n",
      "[48]\tvalid_0's l2: 2.30608e+10\n",
      "[49]\tvalid_0's l2: 2.30376e+10\n",
      "[50]\tvalid_0's l2: 2.3015e+10\n",
      "[51]\tvalid_0's l2: 2.29918e+10\n",
      "[52]\tvalid_0's l2: 2.29689e+10\n",
      "[53]\tvalid_0's l2: 2.29457e+10\n",
      "[54]\tvalid_0's l2: 2.29232e+10\n",
      "[55]\tvalid_0's l2: 2.29001e+10\n",
      "[56]\tvalid_0's l2: 2.28771e+10\n",
      "[57]\tvalid_0's l2: 2.28547e+10\n",
      "[58]\tvalid_0's l2: 2.28318e+10\n",
      "[59]\tvalid_0's l2: 2.28088e+10\n",
      "[60]\tvalid_0's l2: 2.27859e+10\n",
      "[61]\tvalid_0's l2: 2.2763e+10\n",
      "[62]\tvalid_0's l2: 2.27407e+10\n",
      "[63]\tvalid_0's l2: 2.27179e+10\n",
      "[64]\tvalid_0's l2: 2.26951e+10\n",
      "[65]\tvalid_0's l2: 2.26723e+10\n",
      "[66]\tvalid_0's l2: 2.26495e+10\n",
      "[67]\tvalid_0's l2: 2.26267e+10\n",
      "[68]\tvalid_0's l2: 2.26046e+10\n",
      "[69]\tvalid_0's l2: 2.25819e+10\n",
      "[70]\tvalid_0's l2: 2.25592e+10\n",
      "[71]\tvalid_0's l2: 2.25365e+10\n",
      "[72]\tvalid_0's l2: 2.25139e+10\n",
      "[73]\tvalid_0's l2: 2.24912e+10\n",
      "[74]\tvalid_0's l2: 2.24686e+10\n",
      "[75]\tvalid_0's l2: 2.2446e+10\n",
      "[76]\tvalid_0's l2: 2.24235e+10\n",
      "[77]\tvalid_0's l2: 2.24009e+10\n",
      "[78]\tvalid_0's l2: 2.23784e+10\n",
      "[79]\tvalid_0's l2: 2.23565e+10\n",
      "[80]\tvalid_0's l2: 2.2334e+10\n",
      "[81]\tvalid_0's l2: 2.23115e+10\n",
      "[82]\tvalid_0's l2: 2.22891e+10\n",
      "[83]\tvalid_0's l2: 2.22666e+10\n",
      "[84]\tvalid_0's l2: 2.22442e+10\n",
      "[85]\tvalid_0's l2: 2.22218e+10\n",
      "[86]\tvalid_0's l2: 2.21994e+10\n",
      "[87]\tvalid_0's l2: 2.21771e+10\n",
      "[88]\tvalid_0's l2: 2.21547e+10\n",
      "[89]\tvalid_0's l2: 2.21324e+10\n",
      "[90]\tvalid_0's l2: 2.211e+10\n",
      "[91]\tvalid_0's l2: 2.20883e+10\n",
      "[92]\tvalid_0's l2: 2.20658e+10\n",
      "[93]\tvalid_0's l2: 2.20435e+10\n",
      "[94]\tvalid_0's l2: 2.20218e+10\n",
      "[95]\tvalid_0's l2: 2.19994e+10\n",
      "[96]\tvalid_0's l2: 2.19771e+10\n",
      "[97]\tvalid_0's l2: 2.19548e+10\n",
      "[98]\tvalid_0's l2: 2.19332e+10\n",
      "[99]\tvalid_0's l2: 2.19109e+10\n",
      "[100]\tvalid_0's l2: 2.18887e+10\n"
     ]
    },
    {
     "data": {
      "text/plain": [
       "LGBMRegressor(boosting_type='gbdt', class_weight=None, colsample_bytree=1.0,\n",
       "       learning_rate=0.1, max_depth=-1, min_child_samples=20,\n",
       "       min_child_weight=0.001, min_split_gain=0.0, n_estimators=100,\n",
       "       n_jobs=-1, num_leaves=31, objective=None, random_state=None,\n",
       "       reg_alpha=0.0, reg_lambda=0.0, silent=True, subsample=1.0,\n",
       "       subsample_for_bin=200000, subsample_freq=1)"
      ]
     },
     "execution_count": 51,
     "metadata": {},
     "output_type": "execute_result"
    }
   ],
   "source": [
    "lgr.fit(train_X, train_y, eval_set=(test_X, test_y))"
   ]
  },
  {
   "cell_type": "code",
   "execution_count": 52,
   "metadata": {},
   "outputs": [
    {
     "data": {
      "text/plain": [
       "121103.29577598203"
      ]
     },
     "execution_count": 52,
     "metadata": {},
     "output_type": "execute_result"
    }
   ],
   "source": [
    "yhat_lgr = lgr.predict(test_X)\n",
    "mean_absolute_error(test_y, yhat_lgr)"
   ]
  },
  {
   "cell_type": "markdown",
   "metadata": {},
   "source": [
    "Hmm the mae is bit too high, let's do some manual tuning."
   ]
  },
  {
   "cell_type": "code",
   "execution_count": 53,
   "metadata": {},
   "outputs": [
    {
     "data": {
      "text/plain": [
       "LGBMRegressor(boosting_type='gbdt', class_weight=None, colsample_bytree=1.0,\n",
       "       learning_rate=0.1, max_depth=-1, min_child_samples=20,\n",
       "       min_child_weight=0.001, min_split_gain=0.0, n_estimators=10000,\n",
       "       n_jobs=-1, num_leaves=31, objective=None, random_state=None,\n",
       "       reg_alpha=0.0, reg_lambda=0.0, silent=True, subsample=1.0,\n",
       "       subsample_for_bin=200000, subsample_freq=1)"
      ]
     },
     "execution_count": 53,
     "metadata": {},
     "output_type": "execute_result"
    }
   ],
   "source": [
    "lgr = lgb.LGBMRegressor(n_estimators=10000)\n",
    "lgr.fit(train_X, train_y, eval_set=(test_X, test_y), verbose=False)"
   ]
  },
  {
   "cell_type": "code",
   "execution_count": 54,
   "metadata": {},
   "outputs": [
    {
     "data": {
      "text/plain": [
       "48051.45830198504"
      ]
     },
     "execution_count": 54,
     "metadata": {},
     "output_type": "execute_result"
    }
   ],
   "source": [
    "yhat_lgr = lgr.predict(test_X)\n",
    "mean_absolute_error(test_y, yhat_lgr)"
   ]
  },
  {
   "cell_type": "code",
   "execution_count": 55,
   "metadata": {},
   "outputs": [
    {
     "data": {
      "image/png": "[encoded data removed]",
      "text/plain": [
       "<Figure size 432x288 with 1 Axes>"
      ]
     },
     "metadata": {},
     "output_type": "display_data"
    }
   ],
   "source": [
    "for y,x in sorted(zip(lgr.feature_importances_, train_X.columns), reverse=False):\n",
    "    #print (x,y)\n",
    "    plt.barh(x,y, color='b')\n",
    "    plt.title('Feature Importances - Lightgbm')\n",
    "    plt.xlabel('Relative Importance')"
   ]
  },
  {
   "cell_type": "markdown",
   "metadata": {},
   "source": [
    "### 3.3CatBoost"
   ]
  },
  {
   "cell_type": "code",
   "execution_count": 56,
   "metadata": {},
   "outputs": [],
   "source": [
    "from catboost import CatBoostRegressor"
   ]
  },
  {
   "cell_type": "code",
   "execution_count": 57,
   "metadata": {},
   "outputs": [],
   "source": [
    "catr = CatBoostRegressor()"
   ]
  },
  {
   "cell_type": "code",
   "execution_count": 58,
   "metadata": {},
   "outputs": [
    {
     "name": "stdout",
     "output_type": "stream",
     "text": [
      "0:\tlearn: 437495.0549052\ttest: 437723.3685829\tbest: 437723.3685829 (0)\ttotal: 63.2ms\tremaining: 1m 3s\n",
      "1:\tlearn: 425992.6066846\ttest: 426501.5594061\tbest: 426501.5594061 (1)\ttotal: 68.7ms\tremaining: 34.3s\n",
      "2:\tlearn: 414378.3162013\ttest: 415015.2880961\tbest: 415015.2880961 (2)\ttotal: 73.1ms\tremaining: 24.3s\n",
      "3:\tlearn: 403370.6254951\ttest: 404239.3898016\tbest: 404239.3898016 (3)\ttotal: 76.6ms\tremaining: 19.1s\n",
      "4:\tlearn: 392870.0151548\ttest: 393944.8265820\tbest: 393944.8265820 (4)\ttotal: 79.9ms\tremaining: 15.9s\n",
      "5:\tlearn: 382755.2764853\ttest: 384110.6477866\tbest: 384110.6477866 (5)\ttotal: 83.1ms\tremaining: 13.8s\n",
      "6:\tlearn: 372777.3817192\ttest: 374242.8287849\tbest: 374242.8287849 (6)\ttotal: 87ms\tremaining: 12.3s\n",
      "7:\tlearn: 363170.1680121\ttest: 364913.2769081\tbest: 364913.2769081 (7)\ttotal: 90.6ms\tremaining: 11.2s\n",
      "8:\tlearn: 353497.1600502\ttest: 355466.7124258\tbest: 355466.7124258 (8)\ttotal: 93.8ms\tremaining: 10.3s\n",
      "9:\tlearn: 344367.3405380\ttest: 346493.2402822\tbest: 346493.2402822 (9)\ttotal: 97ms\tremaining: 9.6s\n",
      "10:\tlearn: 335311.8672878\ttest: 337502.8034486\tbest: 337502.8034486 (10)\ttotal: 100ms\tremaining: 8.99s\n",
      "11:\tlearn: 326772.1367440\ttest: 329093.7410221\tbest: 329093.7410221 (11)\ttotal: 103ms\tremaining: 8.51s\n",
      "12:\tlearn: 318380.2667128\ttest: 320829.8055906\tbest: 320829.8055906 (12)\ttotal: 107ms\tremaining: 8.09s\n",
      "13:\tlearn: 310413.8832240\ttest: 313136.8729255\tbest: 313136.8729255 (13)\ttotal: 109ms\tremaining: 7.71s\n",
      "14:\tlearn: 302789.4178631\ttest: 305704.5817278\tbest: 305704.5817278 (14)\ttotal: 113ms\tremaining: 7.43s\n",
      "15:\tlearn: 294830.3204865\ttest: 298008.9786510\tbest: 298008.9786510 (15)\ttotal: 116ms\tremaining: 7.14s\n",
      "16:\tlearn: 287647.4389350\ttest: 290958.4617728\tbest: 290958.4617728 (16)\ttotal: 119ms\tremaining: 6.88s\n",
      "17:\tlearn: 280627.8981284\ttest: 284078.4590156\tbest: 284078.4590156 (17)\ttotal: 122ms\tremaining: 6.68s\n",
      "18:\tlearn: 273919.3327758\ttest: 277544.5348302\tbest: 277544.5348302 (18)\ttotal: 126ms\tremaining: 6.5s\n",
      "19:\tlearn: 267501.1286193\ttest: 271367.8410656\tbest: 271367.8410656 (19)\ttotal: 129ms\tremaining: 6.33s\n",
      "20:\tlearn: 261013.9524776\ttest: 264926.8019863\tbest: 264926.8019863 (20)\ttotal: 133ms\tremaining: 6.2s\n",
      "21:\tlearn: 254950.6573816\ttest: 259018.6865437\tbest: 259018.6865437 (21)\ttotal: 136ms\tremaining: 6.05s\n",
      "22:\tlearn: 248974.4985684\ttest: 253174.7941712\tbest: 253174.7941712 (22)\ttotal: 139ms\tremaining: 5.92s\n",
      "23:\tlearn: 242718.5415252\ttest: 246921.6183552\tbest: 246921.6183552 (23)\ttotal: 143ms\tremaining: 5.81s\n",
      "24:\tlearn: 236988.1258716\ttest: 241168.6328898\tbest: 241168.6328898 (24)\ttotal: 146ms\tremaining: 5.7s\n",
      "25:\tlearn: 231609.0934696\ttest: 235795.7594498\tbest: 235795.7594498 (25)\ttotal: 150ms\tremaining: 5.61s\n",
      "26:\tlearn: 226650.6694000\ttest: 230886.5683830\tbest: 230886.5683830 (26)\ttotal: 153ms\tremaining: 5.51s\n",
      "27:\tlearn: 221575.7705571\ttest: 225888.9669080\tbest: 225888.9669080 (27)\ttotal: 156ms\tremaining: 5.42s\n",
      "28:\tlearn: 216680.1025362\ttest: 221038.7724350\tbest: 221038.7724350 (28)\ttotal: 159ms\tremaining: 5.34s\n",
      "29:\tlearn: 211695.9619040\ttest: 216119.7614733\tbest: 216119.7614733 (29)\ttotal: 163ms\tremaining: 5.27s\n",
      "30:\tlearn: 206842.2520820\ttest: 211336.2391038\tbest: 211336.2391038 (30)\ttotal: 178ms\tremaining: 5.55s\n",
      "31:\tlearn: 202164.8308836\ttest: 206768.7716823\tbest: 206768.7716823 (31)\ttotal: 183ms\tremaining: 5.54s\n",
      "32:\tlearn: 197367.4932780\ttest: 201902.0706425\tbest: 201902.0706425 (32)\ttotal: 189ms\tremaining: 5.54s\n",
      "33:\tlearn: 192913.6145481\ttest: 197394.5915023\tbest: 197394.5915023 (33)\ttotal: 196ms\tremaining: 5.56s\n",
      "34:\tlearn: 188546.0837972\ttest: 192950.8324982\tbest: 192950.8324982 (34)\ttotal: 200ms\tremaining: 5.51s\n",
      "35:\tlearn: 184330.5398841\ttest: 188683.4825054\tbest: 188683.4825054 (35)\ttotal: 204ms\tremaining: 5.45s\n",
      "36:\tlearn: 180262.7546138\ttest: 184626.1797622\tbest: 184626.1797622 (36)\ttotal: 207ms\tremaining: 5.39s\n",
      "37:\tlearn: 176707.8637932\ttest: 181143.5740698\tbest: 181143.5740698 (37)\ttotal: 210ms\tremaining: 5.32s\n",
      "38:\tlearn: 172895.0442652\ttest: 177371.1965174\tbest: 177371.1965174 (38)\ttotal: 213ms\tremaining: 5.25s\n",
      "39:\tlearn: 169529.5496966\ttest: 174061.8097481\tbest: 174061.8097481 (39)\ttotal: 216ms\tremaining: 5.18s\n",
      "40:\tlearn: 165957.8048990\ttest: 170582.5964809\tbest: 170582.5964809 (40)\ttotal: 221ms\tremaining: 5.17s\n",
      "41:\tlearn: 162407.6825783\ttest: 167037.7711299\tbest: 167037.7711299 (41)\ttotal: 224ms\tremaining: 5.12s\n",
      "42:\tlearn: 159380.7841768\ttest: 164034.4281389\tbest: 164034.4281389 (42)\ttotal: 228ms\tremaining: 5.07s\n",
      "43:\tlearn: 156515.0471905\ttest: 161192.4449403\tbest: 161192.4449403 (43)\ttotal: 231ms\tremaining: 5.01s\n",
      "44:\tlearn: 153484.2435750\ttest: 158090.7066261\tbest: 158090.7066261 (44)\ttotal: 236ms\tremaining: 5s\n",
      "45:\tlearn: 150804.9663987\ttest: 155415.1661723\tbest: 155415.1661723 (45)\ttotal: 239ms\tremaining: 4.96s\n",
      "46:\tlearn: 147955.6254267\ttest: 152564.1534975\tbest: 152564.1534975 (46)\ttotal: 243ms\tremaining: 4.93s\n",
      "47:\tlearn: 145506.3475057\ttest: 150165.9468451\tbest: 150165.9468451 (47)\ttotal: 246ms\tremaining: 4.88s\n",
      "48:\tlearn: 143085.7561567\ttest: 147861.7729127\tbest: 147861.7729127 (48)\ttotal: 250ms\tremaining: 4.85s\n",
      "49:\tlearn: 140235.3123936\ttest: 144995.7078026\tbest: 144995.7078026 (49)\ttotal: 253ms\tremaining: 4.8s\n",
      "50:\tlearn: 137641.9150832\ttest: 142341.9850255\tbest: 142341.9850255 (50)\ttotal: 257ms\tremaining: 4.77s\n",
      "51:\tlearn: 135254.0725364\ttest: 139927.7869762\tbest: 139927.7869762 (51)\ttotal: 263ms\tremaining: 4.8s\n",
      "52:\tlearn: 132765.9040031\ttest: 137351.9216986\tbest: 137351.9216986 (52)\ttotal: 269ms\tremaining: 4.8s\n",
      "53:\tlearn: 130780.4688893\ttest: 135341.1038070\tbest: 135341.1038070 (53)\ttotal: 272ms\tremaining: 4.76s\n",
      "54:\tlearn: 128643.1966739\ttest: 133151.4559389\tbest: 133151.4559389 (54)\ttotal: 278ms\tremaining: 4.78s\n",
      "55:\tlearn: 126476.0315448\ttest: 130924.0612347\tbest: 130924.0612347 (55)\ttotal: 283ms\tremaining: 4.77s\n",
      "56:\tlearn: 124820.5752098\ttest: 129228.1343238\tbest: 129228.1343238 (56)\ttotal: 287ms\tremaining: 4.74s\n",
      "57:\tlearn: 122943.1769403\ttest: 127301.7170612\tbest: 127301.7170612 (57)\ttotal: 290ms\tremaining: 4.71s\n",
      "58:\tlearn: 120999.8711640\ttest: 125341.5150951\tbest: 125341.5150951 (58)\ttotal: 294ms\tremaining: 4.69s\n",
      "59:\tlearn: 119489.8066673\ttest: 123805.6859576\tbest: 123805.6859576 (59)\ttotal: 299ms\tremaining: 4.68s\n",
      "60:\tlearn: 117701.8543519\ttest: 121914.5983237\tbest: 121914.5983237 (60)\ttotal: 304ms\tremaining: 4.67s\n",
      "61:\tlearn: 116327.0949800\ttest: 120478.4382641\tbest: 120478.4382641 (61)\ttotal: 307ms\tremaining: 4.65s\n",
      "62:\tlearn: 114702.7648797\ttest: 118773.2346533\tbest: 118773.2346533 (62)\ttotal: 310ms\tremaining: 4.61s\n",
      "63:\tlearn: 113044.7711992\ttest: 117041.1593396\tbest: 117041.1593396 (63)\ttotal: 313ms\tremaining: 4.58s\n",
      "64:\tlearn: 111530.9330813\ttest: 115452.3408012\tbest: 115452.3408012 (64)\ttotal: 318ms\tremaining: 4.58s\n",
      "65:\tlearn: 110260.9158299\ttest: 114130.2768858\tbest: 114130.2768858 (65)\ttotal: 322ms\tremaining: 4.55s\n",
      "66:\tlearn: 109138.2780721\ttest: 112968.3801228\tbest: 112968.3801228 (66)\ttotal: 325ms\tremaining: 4.53s\n",
      "67:\tlearn: 108055.5763695\ttest: 111855.7786190\tbest: 111855.7786190 (67)\ttotal: 328ms\tremaining: 4.5s\n",
      "68:\tlearn: 107031.0839197\ttest: 110773.5648329\tbest: 110773.5648329 (68)\ttotal: 331ms\tremaining: 4.47s\n",
      "69:\tlearn: 105794.8100741\ttest: 109478.2882959\tbest: 109478.2882959 (69)\ttotal: 335ms\tremaining: 4.46s\n",
      "70:\tlearn: 104639.8917366\ttest: 108262.4225977\tbest: 108262.4225977 (70)\ttotal: 339ms\tremaining: 4.43s\n",
      "71:\tlearn: 103362.5208793\ttest: 106895.0467960\tbest: 106895.0467960 (71)\ttotal: 342ms\tremaining: 4.41s\n",
      "72:\tlearn: 102307.9338059\ttest: 105803.6060271\tbest: 105803.6060271 (72)\ttotal: 345ms\tremaining: 4.38s\n",
      "73:\tlearn: 100905.4712781\ttest: 104480.1731615\tbest: 104480.1731615 (73)\ttotal: 348ms\tremaining: 4.36s\n",
      "74:\tlearn: 100168.8408303\ttest: 103700.3741101\tbest: 103700.3741101 (74)\ttotal: 351ms\tremaining: 4.33s\n",
      "75:\tlearn: 99372.7071457\ttest: 102857.8246483\tbest: 102857.8246483 (75)\ttotal: 356ms\tremaining: 4.32s\n",
      "76:\tlearn: 98493.5209653\ttest: 101920.6501163\tbest: 101920.6501163 (76)\ttotal: 359ms\tremaining: 4.3s\n",
      "77:\tlearn: 97286.0463636\ttest: 100755.9199902\tbest: 100755.9199902 (77)\ttotal: 362ms\tremaining: 4.28s\n",
      "78:\tlearn: 96308.3507236\ttest: 99666.6869962\tbest: 99666.6869962 (78)\ttotal: 366ms\tremaining: 4.26s\n",
      "79:\tlearn: 95430.9772843\ttest: 98705.1508045\tbest: 98705.1508045 (79)\ttotal: 369ms\tremaining: 4.25s\n",
      "80:\tlearn: 94511.2449043\ttest: 97724.6906362\tbest: 97724.6906362 (80)\ttotal: 373ms\tremaining: 4.23s\n",
      "81:\tlearn: 93545.3561675\ttest: 96696.2462395\tbest: 96696.2462395 (81)\ttotal: 376ms\tremaining: 4.21s\n",
      "82:\tlearn: 92664.1837508\ttest: 95779.0176497\tbest: 95779.0176497 (82)\ttotal: 380ms\tremaining: 4.19s\n",
      "83:\tlearn: 91916.0313548\ttest: 95030.7831143\tbest: 95030.7831143 (83)\ttotal: 383ms\tremaining: 4.17s\n",
      "84:\tlearn: 91164.1900360\ttest: 94153.5007990\tbest: 94153.5007990 (84)\ttotal: 386ms\tremaining: 4.16s\n",
      "85:\tlearn: 90508.7900468\ttest: 93413.9921694\tbest: 93413.9921694 (85)\ttotal: 389ms\tremaining: 4.14s\n",
      "86:\tlearn: 89783.7147725\ttest: 92656.9926273\tbest: 92656.9926273 (86)\ttotal: 393ms\tremaining: 4.13s\n",
      "87:\tlearn: 89111.8427525\ttest: 91902.6037334\tbest: 91902.6037334 (87)\ttotal: 397ms\tremaining: 4.12s\n",
      "88:\tlearn: 88587.1683351\ttest: 91350.2710021\tbest: 91350.2710021 (88)\ttotal: 401ms\tremaining: 4.1s\n",
      "89:\tlearn: 87922.7247934\ttest: 90640.7683698\tbest: 90640.7683698 (89)\ttotal: 404ms\tremaining: 4.08s\n",
      "90:\tlearn: 87355.0862475\ttest: 90020.4427223\tbest: 90020.4427223 (90)\ttotal: 407ms\tremaining: 4.07s\n",
      "91:\tlearn: 86948.9152327\ttest: 89589.2178590\tbest: 89589.2178590 (91)\ttotal: 411ms\tremaining: 4.05s\n",
      "92:\tlearn: 86383.0259172\ttest: 89001.7612463\tbest: 89001.7612463 (92)\ttotal: 414ms\tremaining: 4.04s\n",
      "93:\tlearn: 85995.6284843\ttest: 88565.2181491\tbest: 88565.2181491 (93)\ttotal: 418ms\tremaining: 4.03s\n",
      "94:\tlearn: 85350.1613039\ttest: 87869.9456331\tbest: 87869.9456331 (94)\ttotal: 421ms\tremaining: 4.01s\n",
      "95:\tlearn: 84941.9803269\ttest: 87449.5981615\tbest: 87449.5981615 (95)\ttotal: 424ms\tremaining: 4s\n",
      "96:\tlearn: 84622.8742359\ttest: 87106.0715663\tbest: 87106.0715663 (96)\ttotal: 427ms\tremaining: 3.98s\n",
      "97:\tlearn: 84264.9927594\ttest: 86702.6910861\tbest: 86702.6910861 (97)\ttotal: 430ms\tremaining: 3.96s\n",
      "98:\tlearn: 83687.2279900\ttest: 86106.6586472\tbest: 86106.6586472 (98)\ttotal: 434ms\tremaining: 3.94s\n",
      "99:\tlearn: 82947.5796230\ttest: 85367.5273758\tbest: 85367.5273758 (99)\ttotal: 437ms\tremaining: 3.93s\n",
      "100:\tlearn: 82721.3852743\ttest: 85154.5792893\tbest: 85154.5792893 (100)\ttotal: 440ms\tremaining: 3.92s\n",
      "101:\tlearn: 82194.7392589\ttest: 84593.7236758\tbest: 84593.7236758 (101)\ttotal: 443ms\tremaining: 3.9s\n",
      "102:\tlearn: 81980.5258347\ttest: 84373.1421637\tbest: 84373.1421637 (102)\ttotal: 446ms\tremaining: 3.89s\n",
      "103:\tlearn: 81623.3970521\ttest: 84001.5331429\tbest: 84001.5331429 (103)\ttotal: 451ms\tremaining: 3.89s\n",
      "104:\tlearn: 81105.8995215\ttest: 83449.1648070\tbest: 83449.1648070 (104)\ttotal: 457ms\tremaining: 3.9s\n",
      "105:\tlearn: 80663.4417324\ttest: 82951.7319218\tbest: 82951.7319218 (105)\ttotal: 464ms\tremaining: 3.91s\n",
      "106:\tlearn: 80106.3835066\ttest: 82374.1790445\tbest: 82374.1790445 (106)\ttotal: 470ms\tremaining: 3.92s\n",
      "107:\tlearn: 79819.2852447\ttest: 82080.2843423\tbest: 82080.2843423 (107)\ttotal: 476ms\tremaining: 3.93s\n",
      "108:\tlearn: 79512.5980525\ttest: 81746.4383601\tbest: 81746.4383601 (108)\ttotal: 482ms\tremaining: 3.94s\n",
      "109:\tlearn: 79061.2575868\ttest: 81232.5414961\tbest: 81232.5414961 (109)\ttotal: 487ms\tremaining: 3.94s\n",
      "110:\tlearn: 78625.7478445\ttest: 80833.8557005\tbest: 80833.8557005 (110)\ttotal: 492ms\tremaining: 3.94s\n",
      "111:\tlearn: 78240.5037486\ttest: 80413.3149133\tbest: 80413.3149133 (111)\ttotal: 495ms\tremaining: 3.93s\n",
      "112:\tlearn: 77852.0307324\ttest: 80031.2720713\tbest: 80031.2720713 (112)\ttotal: 500ms\tremaining: 3.92s\n",
      "113:\tlearn: 77513.4467466\ttest: 79671.4446130\tbest: 79671.4446130 (113)\ttotal: 503ms\tremaining: 3.91s\n",
      "114:\tlearn: 76962.4697247\ttest: 79181.1899202\tbest: 79181.1899202 (114)\ttotal: 511ms\tremaining: 3.93s\n",
      "115:\tlearn: 76674.8931154\ttest: 78874.7163084\tbest: 78874.7163084 (115)\ttotal: 516ms\tremaining: 3.93s\n",
      "116:\tlearn: 76492.0213664\ttest: 78666.9293776\tbest: 78666.9293776 (116)\ttotal: 521ms\tremaining: 3.93s\n",
      "117:\tlearn: 76371.0060438\ttest: 78508.5504606\tbest: 78508.5504606 (117)\ttotal: 527ms\tremaining: 3.94s\n",
      "118:\tlearn: 76220.4661833\ttest: 78341.1076542\tbest: 78341.1076542 (118)\ttotal: 533ms\tremaining: 3.95s\n",
      "119:\tlearn: 75976.1437573\ttest: 78047.1050597\tbest: 78047.1050597 (119)\ttotal: 543ms\tremaining: 3.98s\n",
      "120:\tlearn: 75677.6474029\ttest: 77706.7630785\tbest: 77706.7630785 (120)\ttotal: 549ms\tremaining: 3.99s\n",
      "121:\tlearn: 75349.2069456\ttest: 77371.3451331\tbest: 77371.3451331 (121)\ttotal: 559ms\tremaining: 4.02s\n",
      "122:\tlearn: 75090.2680887\ttest: 77128.8593207\tbest: 77128.8593207 (122)\ttotal: 565ms\tremaining: 4.03s\n",
      "123:\tlearn: 74973.4931813\ttest: 76988.6271030\tbest: 76988.6271030 (123)\ttotal: 573ms\tremaining: 4.05s\n",
      "124:\tlearn: 74847.6982963\ttest: 76824.9142158\tbest: 76824.9142158 (124)\ttotal: 580ms\tremaining: 4.06s\n",
      "125:\tlearn: 74616.2027047\ttest: 76540.4034788\tbest: 76540.4034788 (125)\ttotal: 589ms\tremaining: 4.09s\n",
      "126:\tlearn: 74366.5352277\ttest: 76272.7767838\tbest: 76272.7767838 (126)\ttotal: 596ms\tremaining: 4.09s\n",
      "127:\tlearn: 74298.6673975\ttest: 76154.6828133\tbest: 76154.6828133 (127)\ttotal: 601ms\tremaining: 4.09s\n",
      "128:\tlearn: 74118.2651618\ttest: 76004.2693252\tbest: 76004.2693252 (128)\ttotal: 610ms\tremaining: 4.12s\n",
      "129:\tlearn: 74054.8208449\ttest: 75924.0403503\tbest: 75924.0403503 (129)\ttotal: 616ms\tremaining: 4.12s\n",
      "130:\tlearn: 74000.0079065\ttest: 75856.2987225\tbest: 75856.2987225 (130)\ttotal: 625ms\tremaining: 4.14s\n",
      "131:\tlearn: 73905.0800101\ttest: 75758.2045605\tbest: 75758.2045605 (131)\ttotal: 632ms\tremaining: 4.15s\n",
      "132:\tlearn: 73772.1948959\ttest: 75596.2716443\tbest: 75596.2716443 (132)\ttotal: 640ms\tremaining: 4.17s\n",
      "133:\tlearn: 73548.7939721\ttest: 75360.0424607\tbest: 75360.0424607 (133)\ttotal: 648ms\tremaining: 4.19s\n",
      "134:\tlearn: 73175.9219480\ttest: 75033.8686878\tbest: 75033.8686878 (134)\ttotal: 656ms\tremaining: 4.21s\n",
      "135:\tlearn: 73077.5625514\ttest: 74926.6063290\tbest: 74926.6063290 (135)\ttotal: 662ms\tremaining: 4.21s\n",
      "136:\tlearn: 72867.3438483\ttest: 74704.2100950\tbest: 74704.2100950 (136)\ttotal: 671ms\tremaining: 4.23s\n",
      "137:\tlearn: 72793.1467904\ttest: 74596.5572176\tbest: 74596.5572176 (137)\ttotal: 677ms\tremaining: 4.23s\n",
      "138:\tlearn: 72667.7208714\ttest: 74494.3067190\tbest: 74494.3067190 (138)\ttotal: 686ms\tremaining: 4.25s\n",
      "139:\tlearn: 72531.8904822\ttest: 74359.1047737\tbest: 74359.1047737 (139)\ttotal: 691ms\tremaining: 4.25s\n",
      "140:\tlearn: 72400.1671583\ttest: 74172.8823362\tbest: 74172.8823362 (140)\ttotal: 697ms\tremaining: 4.25s\n",
      "141:\tlearn: 72357.0213994\ttest: 74120.2337947\tbest: 74120.2337947 (141)\ttotal: 701ms\tremaining: 4.24s\n",
      "142:\tlearn: 72032.6993740\ttest: 73866.5251290\tbest: 73866.5251290 (142)\ttotal: 706ms\tremaining: 4.23s\n",
      "143:\tlearn: 71844.4132395\ttest: 73730.5226832\tbest: 73730.5226832 (143)\ttotal: 713ms\tremaining: 4.24s\n",
      "144:\tlearn: 71732.7307754\ttest: 73610.1548556\tbest: 73610.1548556 (144)\ttotal: 719ms\tremaining: 4.24s\n",
      "145:\tlearn: 71546.2726456\ttest: 73410.5545558\tbest: 73410.5545558 (145)\ttotal: 726ms\tremaining: 4.24s\n",
      "146:\tlearn: 71341.5447261\ttest: 73245.4665276\tbest: 73245.4665276 (146)\ttotal: 735ms\tremaining: 4.27s\n",
      "147:\tlearn: 71114.7039091\ttest: 73050.8325368\tbest: 73050.8325368 (147)\ttotal: 742ms\tremaining: 4.27s\n",
      "148:\tlearn: 71031.0604418\ttest: 72959.6409025\tbest: 72959.6409025 (148)\ttotal: 750ms\tremaining: 4.28s\n",
      "149:\tlearn: 70910.9341960\ttest: 72862.2241312\tbest: 72862.2241312 (149)\ttotal: 756ms\tremaining: 4.29s\n",
      "150:\tlearn: 70898.1010082\ttest: 72840.5252494\tbest: 72840.5252494 (150)\ttotal: 762ms\tremaining: 4.29s\n",
      "151:\tlearn: 70596.4200557\ttest: 72535.0245076\tbest: 72535.0245076 (151)\ttotal: 769ms\tremaining: 4.29s\n",
      "152:\tlearn: 70503.8504527\ttest: 72423.9480335\tbest: 72423.9480335 (152)\ttotal: 776ms\tremaining: 4.29s\n",
      "153:\tlearn: 70377.0273220\ttest: 72282.7918144\tbest: 72282.7918144 (153)\ttotal: 783ms\tremaining: 4.3s\n",
      "154:\tlearn: 70260.5111972\ttest: 72146.5659541\tbest: 72146.5659541 (154)\ttotal: 788ms\tremaining: 4.29s\n",
      "155:\tlearn: 70181.1035146\ttest: 72055.7315585\tbest: 72055.7315585 (155)\ttotal: 796ms\tremaining: 4.31s\n",
      "156:\tlearn: 70074.4637384\ttest: 71988.8411911\tbest: 71988.8411911 (156)\ttotal: 802ms\tremaining: 4.3s\n",
      "157:\tlearn: 69935.5452394\ttest: 71809.3052571\tbest: 71809.3052571 (157)\ttotal: 806ms\tremaining: 4.29s\n",
      "158:\tlearn: 69820.6340242\ttest: 71704.5027880\tbest: 71704.5027880 (158)\ttotal: 813ms\tremaining: 4.3s\n",
      "159:\tlearn: 69789.8320078\ttest: 71679.5289626\tbest: 71679.5289626 (159)\ttotal: 819ms\tremaining: 4.3s\n",
      "160:\tlearn: 69651.2223850\ttest: 71528.2694797\tbest: 71528.2694797 (160)\ttotal: 825ms\tremaining: 4.3s\n",
      "161:\tlearn: 69611.1544291\ttest: 71461.8941305\tbest: 71461.8941305 (161)\ttotal: 833ms\tremaining: 4.31s\n",
      "162:\tlearn: 69569.0985278\ttest: 71394.7112934\tbest: 71394.7112934 (162)\ttotal: 836ms\tremaining: 4.29s\n",
      "163:\tlearn: 69265.1571433\ttest: 71195.2397534\tbest: 71195.2397534 (163)\ttotal: 841ms\tremaining: 4.29s\n",
      "164:\tlearn: 68960.2672145\ttest: 70989.1937231\tbest: 70989.1937231 (164)\ttotal: 848ms\tremaining: 4.29s\n",
      "165:\tlearn: 68942.5463182\ttest: 70959.8672657\tbest: 70959.8672657 (165)\ttotal: 855ms\tremaining: 4.29s\n",
      "166:\tlearn: 68864.9742613\ttest: 70880.9601993\tbest: 70880.9601993 (166)\ttotal: 862ms\tremaining: 4.3s\n",
      "167:\tlearn: 68747.5967245\ttest: 70742.2855779\tbest: 70742.2855779 (167)\ttotal: 867ms\tremaining: 4.29s\n",
      "168:\tlearn: 68670.9022908\ttest: 70672.5322650\tbest: 70672.5322650 (168)\ttotal: 872ms\tremaining: 4.29s\n",
      "169:\tlearn: 68601.5104462\ttest: 70591.3338410\tbest: 70591.3338410 (169)\ttotal: 878ms\tremaining: 4.29s\n",
      "170:\tlearn: 68532.5941115\ttest: 70501.0906046\tbest: 70501.0906046 (170)\ttotal: 884ms\tremaining: 4.29s\n",
      "171:\tlearn: 68422.0233338\ttest: 70394.1244223\tbest: 70394.1244223 (171)\ttotal: 890ms\tremaining: 4.29s\n",
      "172:\tlearn: 68369.4457950\ttest: 70372.6143539\tbest: 70372.6143539 (172)\ttotal: 895ms\tremaining: 4.28s\n",
      "173:\tlearn: 68243.8091432\ttest: 70233.8363163\tbest: 70233.8363163 (173)\ttotal: 901ms\tremaining: 4.28s\n",
      "174:\tlearn: 68218.7557550\ttest: 70203.8228729\tbest: 70203.8228729 (174)\ttotal: 907ms\tremaining: 4.28s\n",
      "175:\tlearn: 67887.4747620\ttest: 69979.5985426\tbest: 69979.5985426 (175)\ttotal: 913ms\tremaining: 4.28s\n",
      "176:\tlearn: 67645.1941362\ttest: 69799.7417332\tbest: 69799.7417332 (176)\ttotal: 921ms\tremaining: 4.28s\n",
      "177:\tlearn: 67402.6292061\ttest: 69640.1564834\tbest: 69640.1564834 (177)\ttotal: 929ms\tremaining: 4.29s\n",
      "178:\tlearn: 67304.1545366\ttest: 69539.8887795\tbest: 69539.8887795 (178)\ttotal: 936ms\tremaining: 4.29s\n",
      "179:\tlearn: 67221.3753923\ttest: 69483.2184313\tbest: 69483.2184313 (179)\ttotal: 945ms\tremaining: 4.3s\n",
      "180:\tlearn: 67204.7294996\ttest: 69480.1531058\tbest: 69480.1531058 (180)\ttotal: 952ms\tremaining: 4.31s\n",
      "181:\tlearn: 67000.6622089\ttest: 69302.4378367\tbest: 69302.4378367 (181)\ttotal: 960ms\tremaining: 4.31s\n",
      "182:\tlearn: 66950.0516222\ttest: 69233.1922902\tbest: 69233.1922902 (182)\ttotal: 966ms\tremaining: 4.31s\n",
      "183:\tlearn: 66911.5776830\ttest: 69190.0175744\tbest: 69190.0175744 (183)\ttotal: 974ms\tremaining: 4.32s\n",
      "184:\tlearn: 66849.2824282\ttest: 69144.2992143\tbest: 69144.2992143 (184)\ttotal: 979ms\tremaining: 4.31s\n",
      "185:\tlearn: 66628.0819079\ttest: 68972.4672103\tbest: 68972.4672103 (185)\ttotal: 987ms\tremaining: 4.32s\n",
      "186:\tlearn: 66610.0952791\ttest: 68947.7579906\tbest: 68947.7579906 (186)\ttotal: 992ms\tremaining: 4.31s\n",
      "187:\tlearn: 66354.0286356\ttest: 68769.2639206\tbest: 68769.2639206 (187)\ttotal: 996ms\tremaining: 4.3s\n",
      "188:\tlearn: 66330.2805774\ttest: 68731.9730613\tbest: 68731.9730613 (188)\ttotal: 1s\tremaining: 4.3s\n",
      "189:\tlearn: 66322.7163036\ttest: 68719.2965644\tbest: 68719.2965644 (189)\ttotal: 1.01s\tremaining: 4.3s\n",
      "190:\tlearn: 66290.6502954\ttest: 68681.2526979\tbest: 68681.2526979 (190)\ttotal: 1.01s\tremaining: 4.28s\n",
      "191:\tlearn: 66233.1500631\ttest: 68643.7868397\tbest: 68643.7868397 (191)\ttotal: 1.02s\tremaining: 4.29s\n",
      "192:\tlearn: 66178.3825734\ttest: 68595.7988624\tbest: 68595.7988624 (192)\ttotal: 1.02s\tremaining: 4.28s\n",
      "193:\tlearn: 65953.4544416\ttest: 68440.7648669\tbest: 68440.7648669 (193)\ttotal: 1.03s\tremaining: 4.27s\n",
      "194:\tlearn: 65895.6604218\ttest: 68364.0107155\tbest: 68364.0107155 (194)\ttotal: 1.03s\tremaining: 4.28s\n",
      "195:\tlearn: 65892.6517682\ttest: 68345.8202930\tbest: 68345.8202930 (195)\ttotal: 1.04s\tremaining: 4.26s\n",
      "196:\tlearn: 65829.2571738\ttest: 68244.8360112\tbest: 68244.8360112 (196)\ttotal: 1.05s\tremaining: 4.26s\n",
      "197:\tlearn: 65618.1659006\ttest: 68093.0703970\tbest: 68093.0703970 (197)\ttotal: 1.05s\tremaining: 4.27s\n",
      "198:\tlearn: 65572.5117814\ttest: 68035.0383778\tbest: 68035.0383778 (198)\ttotal: 1.06s\tremaining: 4.26s\n",
      "199:\tlearn: 65516.4020509\ttest: 68026.6234828\tbest: 68026.6234828 (199)\ttotal: 1.06s\tremaining: 4.26s\n",
      "200:\tlearn: 65406.6378253\ttest: 67944.2155426\tbest: 67944.2155426 (200)\ttotal: 1.07s\tremaining: 4.26s\n",
      "201:\tlearn: 65361.2185310\ttest: 67925.9297351\tbest: 67925.9297351 (201)\ttotal: 1.08s\tremaining: 4.25s\n",
      "202:\tlearn: 65284.1702276\ttest: 67871.3567226\tbest: 67871.3567226 (202)\ttotal: 1.08s\tremaining: 4.25s\n",
      "203:\tlearn: 65172.3365886\ttest: 67819.5786565\tbest: 67819.5786565 (203)\ttotal: 1.09s\tremaining: 4.25s\n",
      "204:\tlearn: 65083.8632291\ttest: 67776.8401742\tbest: 67776.8401742 (204)\ttotal: 1.09s\tremaining: 4.24s\n",
      "205:\tlearn: 64997.4733062\ttest: 67752.5105994\tbest: 67752.5105994 (205)\ttotal: 1.1s\tremaining: 4.24s\n",
      "206:\tlearn: 64917.4158952\ttest: 67678.1478057\tbest: 67678.1478057 (206)\ttotal: 1.11s\tremaining: 4.24s\n",
      "207:\tlearn: 64855.5369993\ttest: 67641.0982090\tbest: 67641.0982090 (207)\ttotal: 1.11s\tremaining: 4.25s\n",
      "208:\tlearn: 64844.8772705\ttest: 67638.7144170\tbest: 67638.7144170 (208)\ttotal: 1.13s\tremaining: 4.28s\n",
      "209:\tlearn: 64638.0199409\ttest: 67458.9952439\tbest: 67458.9952439 (209)\ttotal: 1.14s\tremaining: 4.28s\n",
      "210:\tlearn: 64555.6888726\ttest: 67399.1644823\tbest: 67399.1644823 (210)\ttotal: 1.15s\tremaining: 4.28s\n",
      "211:\tlearn: 64346.0321469\ttest: 67225.7292374\tbest: 67225.7292374 (211)\ttotal: 1.15s\tremaining: 4.29s\n",
      "212:\tlearn: 64284.6896213\ttest: 67204.3393981\tbest: 67204.3393981 (212)\ttotal: 1.16s\tremaining: 4.28s\n",
      "213:\tlearn: 64269.6545582\ttest: 67193.3992095\tbest: 67193.3992095 (213)\ttotal: 1.17s\tremaining: 4.29s\n",
      "214:\tlearn: 64233.0867565\ttest: 67165.4946589\tbest: 67165.4946589 (214)\ttotal: 1.17s\tremaining: 4.29s\n",
      "215:\tlearn: 64192.0075668\ttest: 67142.1547996\tbest: 67142.1547996 (215)\ttotal: 1.18s\tremaining: 4.29s\n",
      "216:\tlearn: 64138.4373714\ttest: 67077.9565449\tbest: 67077.9565449 (216)\ttotal: 1.19s\tremaining: 4.28s\n",
      "217:\tlearn: 64074.5201283\ttest: 67003.8707050\tbest: 67003.8707050 (217)\ttotal: 1.19s\tremaining: 4.28s\n",
      "218:\tlearn: 64045.0833497\ttest: 66970.8789472\tbest: 66970.8789472 (218)\ttotal: 1.2s\tremaining: 4.28s\n",
      "219:\tlearn: 64033.2652843\ttest: 66955.3397490\tbest: 66955.3397490 (219)\ttotal: 1.2s\tremaining: 4.27s\n",
      "220:\tlearn: 64017.0973655\ttest: 66942.2923100\tbest: 66942.2923100 (220)\ttotal: 1.21s\tremaining: 4.27s\n",
      "221:\tlearn: 63946.6880834\ttest: 66915.1674691\tbest: 66915.1674691 (221)\ttotal: 1.22s\tremaining: 4.26s\n",
      "222:\tlearn: 63903.7352122\ttest: 66865.4241652\tbest: 66865.4241652 (222)\ttotal: 1.22s\tremaining: 4.25s\n",
      "223:\tlearn: 63848.9102454\ttest: 66816.1184357\tbest: 66816.1184357 (223)\ttotal: 1.23s\tremaining: 4.25s\n",
      "224:\tlearn: 63803.0441611\ttest: 66775.4517518\tbest: 66775.4517518 (224)\ttotal: 1.23s\tremaining: 4.25s\n",
      "225:\tlearn: 63630.2801301\ttest: 66648.5421025\tbest: 66648.5421025 (225)\ttotal: 1.24s\tremaining: 4.25s\n",
      "226:\tlearn: 63625.5207462\ttest: 66640.9602006\tbest: 66640.9602006 (226)\ttotal: 1.25s\tremaining: 4.24s\n",
      "227:\tlearn: 63607.3338108\ttest: 66626.0162970\tbest: 66626.0162970 (227)\ttotal: 1.25s\tremaining: 4.23s\n",
      "228:\tlearn: 63560.8034097\ttest: 66578.9707897\tbest: 66578.9707897 (228)\ttotal: 1.26s\tremaining: 4.23s\n",
      "229:\tlearn: 63502.0569952\ttest: 66537.1072140\tbest: 66537.1072140 (229)\ttotal: 1.26s\tremaining: 4.22s\n",
      "230:\tlearn: 63457.9387369\ttest: 66508.3719643\tbest: 66508.3719643 (230)\ttotal: 1.27s\tremaining: 4.22s\n",
      "231:\tlearn: 63409.3966200\ttest: 66467.0735268\tbest: 66467.0735268 (231)\ttotal: 1.27s\tremaining: 4.21s\n",
      "232:\tlearn: 63221.8689750\ttest: 66287.1315032\tbest: 66287.1315032 (232)\ttotal: 1.28s\tremaining: 4.21s\n",
      "233:\tlearn: 63183.6679393\ttest: 66253.3210006\tbest: 66253.3210006 (233)\ttotal: 1.28s\tremaining: 4.21s\n",
      "234:\tlearn: 63140.9693722\ttest: 66250.0959461\tbest: 66250.0959461 (234)\ttotal: 1.29s\tremaining: 4.2s\n",
      "235:\tlearn: 63084.3200509\ttest: 66182.6102327\tbest: 66182.6102327 (235)\ttotal: 1.29s\tremaining: 4.19s\n",
      "236:\tlearn: 62919.6789362\ttest: 66047.7237200\tbest: 66047.7237200 (236)\ttotal: 1.3s\tremaining: 4.19s\n",
      "237:\tlearn: 62832.6607529\ttest: 65996.8447112\tbest: 65996.8447112 (237)\ttotal: 1.31s\tremaining: 4.18s\n",
      "238:\tlearn: 62814.5603100\ttest: 65984.0652938\tbest: 65984.0652938 (238)\ttotal: 1.31s\tremaining: 4.18s\n",
      "239:\tlearn: 62647.5600854\ttest: 65864.4574179\tbest: 65864.4574179 (239)\ttotal: 1.32s\tremaining: 4.17s\n",
      "240:\tlearn: 62608.3468352\ttest: 65853.6703365\tbest: 65853.6703365 (240)\ttotal: 1.32s\tremaining: 4.17s\n",
      "241:\tlearn: 62469.5366155\ttest: 65787.3907398\tbest: 65787.3907398 (241)\ttotal: 1.33s\tremaining: 4.17s\n",
      "242:\tlearn: 62407.2182780\ttest: 65744.0485101\tbest: 65744.0485101 (242)\ttotal: 1.34s\tremaining: 4.17s\n",
      "243:\tlearn: 62373.7413368\ttest: 65740.9108228\tbest: 65740.9108228 (243)\ttotal: 1.34s\tremaining: 4.17s\n",
      "244:\tlearn: 62370.3438385\ttest: 65724.4493869\tbest: 65724.4493869 (244)\ttotal: 1.35s\tremaining: 4.17s\n",
      "245:\tlearn: 62325.0049966\ttest: 65706.7140608\tbest: 65706.7140608 (245)\ttotal: 1.36s\tremaining: 4.17s\n",
      "246:\tlearn: 62222.9036955\ttest: 65603.2458517\tbest: 65603.2458517 (246)\ttotal: 1.37s\tremaining: 4.19s\n",
      "247:\tlearn: 62110.1393582\ttest: 65467.7778124\tbest: 65467.7778124 (247)\ttotal: 1.38s\tremaining: 4.19s\n",
      "248:\tlearn: 62056.1041761\ttest: 65445.2634782\tbest: 65445.2634782 (248)\ttotal: 1.39s\tremaining: 4.19s\n",
      "249:\tlearn: 62021.0983042\ttest: 65430.6098886\tbest: 65430.6098886 (249)\ttotal: 1.39s\tremaining: 4.18s\n",
      "250:\tlearn: 61860.5792032\ttest: 65277.8620804\tbest: 65277.8620804 (250)\ttotal: 1.4s\tremaining: 4.18s\n",
      "251:\tlearn: 61855.4627336\ttest: 65255.7141072\tbest: 65255.7141072 (251)\ttotal: 1.41s\tremaining: 4.17s\n",
      "252:\tlearn: 61840.1413391\ttest: 65248.2272423\tbest: 65248.2272423 (252)\ttotal: 1.42s\tremaining: 4.18s\n",
      "253:\tlearn: 61830.4496176\ttest: 65254.5075757\tbest: 65248.2272423 (252)\ttotal: 1.42s\tremaining: 4.18s\n",
      "254:\tlearn: 61759.8194990\ttest: 65200.2255138\tbest: 65200.2255138 (254)\ttotal: 1.43s\tremaining: 4.18s\n",
      "255:\tlearn: 61743.4169197\ttest: 65195.8378828\tbest: 65195.8378828 (255)\ttotal: 1.44s\tremaining: 4.19s\n",
      "256:\tlearn: 61692.1246606\ttest: 65161.0391909\tbest: 65161.0391909 (256)\ttotal: 1.45s\tremaining: 4.19s\n",
      "257:\tlearn: 61676.6231702\ttest: 65160.5471489\tbest: 65160.5471489 (257)\ttotal: 1.46s\tremaining: 4.19s\n",
      "258:\tlearn: 61605.0464304\ttest: 65109.6551198\tbest: 65109.6551198 (258)\ttotal: 1.46s\tremaining: 4.19s\n",
      "259:\tlearn: 61557.5236260\ttest: 65066.7146274\tbest: 65066.7146274 (259)\ttotal: 1.47s\tremaining: 4.18s\n",
      "260:\tlearn: 61512.2906060\ttest: 65028.3199527\tbest: 65028.3199527 (260)\ttotal: 1.47s\tremaining: 4.17s\n",
      "261:\tlearn: 61439.0353545\ttest: 64944.3762365\tbest: 64944.3762365 (261)\ttotal: 1.48s\tremaining: 4.17s\n",
      "262:\tlearn: 61345.1182032\ttest: 64868.6538703\tbest: 64868.6538703 (262)\ttotal: 1.49s\tremaining: 4.16s\n",
      "263:\tlearn: 61201.9679640\ttest: 64811.3964426\tbest: 64811.3964426 (263)\ttotal: 1.49s\tremaining: 4.16s\n",
      "264:\tlearn: 61180.4292655\ttest: 64799.0867491\tbest: 64799.0867491 (264)\ttotal: 1.5s\tremaining: 4.15s\n",
      "265:\tlearn: 61139.9232501\ttest: 64757.2831836\tbest: 64757.2831836 (265)\ttotal: 1.5s\tremaining: 4.14s\n",
      "266:\tlearn: 61107.5406514\ttest: 64741.7983138\tbest: 64741.7983138 (266)\ttotal: 1.51s\tremaining: 4.15s\n",
      "267:\tlearn: 61099.1117889\ttest: 64739.6086149\tbest: 64739.6086149 (267)\ttotal: 1.52s\tremaining: 4.15s\n",
      "268:\tlearn: 61054.8167034\ttest: 64699.9304324\tbest: 64699.9304324 (268)\ttotal: 1.53s\tremaining: 4.15s\n",
      "269:\tlearn: 60965.8396675\ttest: 64683.3715576\tbest: 64683.3715576 (269)\ttotal: 1.53s\tremaining: 4.15s\n",
      "270:\tlearn: 60905.3571760\ttest: 64651.0389698\tbest: 64651.0389698 (270)\ttotal: 1.54s\tremaining: 4.13s\n",
      "271:\tlearn: 60781.3432267\ttest: 64592.9031179\tbest: 64592.9031179 (271)\ttotal: 1.54s\tremaining: 4.12s\n",
      "272:\tlearn: 60686.8795460\ttest: 64549.1298737\tbest: 64549.1298737 (272)\ttotal: 1.54s\tremaining: 4.11s\n",
      "273:\tlearn: 60677.6544508\ttest: 64552.1426282\tbest: 64549.1298737 (272)\ttotal: 1.55s\tremaining: 4.1s\n",
      "274:\tlearn: 60645.3414565\ttest: 64529.7263225\tbest: 64529.7263225 (274)\ttotal: 1.55s\tremaining: 4.09s\n",
      "275:\tlearn: 60622.5272312\ttest: 64514.8933377\tbest: 64514.8933377 (275)\ttotal: 1.55s\tremaining: 4.08s\n",
      "276:\tlearn: 60517.9963166\ttest: 64411.8515842\tbest: 64411.8515842 (276)\ttotal: 1.56s\tremaining: 4.06s\n",
      "277:\tlearn: 60474.5100681\ttest: 64377.1255444\tbest: 64377.1255444 (277)\ttotal: 1.56s\tremaining: 4.05s\n",
      "278:\tlearn: 60342.0622120\ttest: 64249.3254194\tbest: 64249.3254194 (278)\ttotal: 1.56s\tremaining: 4.04s\n",
      "279:\tlearn: 60302.8215431\ttest: 64248.7582008\tbest: 64248.7582008 (279)\ttotal: 1.57s\tremaining: 4.03s\n",
      "280:\tlearn: 60141.7285230\ttest: 64144.5552640\tbest: 64144.5552640 (280)\ttotal: 1.57s\tremaining: 4.02s\n",
      "281:\tlearn: 60085.1683895\ttest: 64096.7189918\tbest: 64096.7189918 (281)\ttotal: 1.57s\tremaining: 4.01s\n",
      "282:\tlearn: 60045.0681481\ttest: 64057.4809737\tbest: 64057.4809737 (282)\ttotal: 1.58s\tremaining: 4s\n",
      "283:\tlearn: 60026.2757415\ttest: 64047.6743350\tbest: 64047.6743350 (283)\ttotal: 1.58s\tremaining: 3.99s\n",
      "284:\tlearn: 59996.7078459\ttest: 64013.8710013\tbest: 64013.8710013 (284)\ttotal: 1.58s\tremaining: 3.97s\n",
      "285:\tlearn: 59880.1828040\ttest: 63963.5051350\tbest: 63963.5051350 (285)\ttotal: 1.59s\tremaining: 3.96s\n",
      "286:\tlearn: 59749.3029024\ttest: 63876.6001454\tbest: 63876.6001454 (286)\ttotal: 1.59s\tremaining: 3.95s\n",
      "287:\tlearn: 59722.2386507\ttest: 63865.8038346\tbest: 63865.8038346 (287)\ttotal: 1.59s\tremaining: 3.94s\n",
      "288:\tlearn: 59705.7975963\ttest: 63854.9326417\tbest: 63854.9326417 (288)\ttotal: 1.59s\tremaining: 3.93s\n",
      "289:\tlearn: 59665.3335714\ttest: 63830.6738053\tbest: 63830.6738053 (289)\ttotal: 1.6s\tremaining: 3.92s\n",
      "290:\tlearn: 59663.4549997\ttest: 63829.8699315\tbest: 63829.8699315 (290)\ttotal: 1.6s\tremaining: 3.9s\n",
      "291:\tlearn: 59618.8778370\ttest: 63797.3111687\tbest: 63797.3111687 (291)\ttotal: 1.6s\tremaining: 3.89s\n",
      "292:\tlearn: 59503.6394260\ttest: 63795.4494901\tbest: 63795.4494901 (292)\ttotal: 1.61s\tremaining: 3.88s\n",
      "293:\tlearn: 59468.4130147\ttest: 63774.8721434\tbest: 63774.8721434 (293)\ttotal: 1.61s\tremaining: 3.87s\n",
      "294:\tlearn: 59451.3892964\ttest: 63758.8216357\tbest: 63758.8216357 (294)\ttotal: 1.61s\tremaining: 3.86s\n",
      "295:\tlearn: 59392.3523946\ttest: 63726.0557590\tbest: 63726.0557590 (295)\ttotal: 1.62s\tremaining: 3.85s\n",
      "296:\tlearn: 59359.1224562\ttest: 63698.1526541\tbest: 63698.1526541 (296)\ttotal: 1.63s\tremaining: 3.85s\n",
      "297:\tlearn: 59347.9871828\ttest: 63691.3048112\tbest: 63691.3048112 (297)\ttotal: 1.63s\tremaining: 3.84s\n",
      "298:\tlearn: 59315.4283794\ttest: 63649.4701183\tbest: 63649.4701183 (298)\ttotal: 1.64s\tremaining: 3.84s\n",
      "299:\tlearn: 59255.8402606\ttest: 63657.8415387\tbest: 63649.4701183 (298)\ttotal: 1.64s\tremaining: 3.83s\n",
      "300:\tlearn: 59225.7776779\ttest: 63652.7728251\tbest: 63649.4701183 (298)\ttotal: 1.65s\tremaining: 3.83s\n",
      "301:\tlearn: 59178.0107680\ttest: 63594.2110001\tbest: 63594.2110001 (301)\ttotal: 1.66s\tremaining: 3.83s\n",
      "302:\tlearn: 59153.3473068\ttest: 63599.4404329\tbest: 63594.2110001 (301)\ttotal: 1.66s\tremaining: 3.82s\n",
      "303:\tlearn: 59064.8796593\ttest: 63555.0653795\tbest: 63555.0653795 (303)\ttotal: 1.67s\tremaining: 3.81s\n",
      "304:\tlearn: 59038.8930633\ttest: 63523.9048502\tbest: 63523.9048502 (304)\ttotal: 1.67s\tremaining: 3.81s\n",
      "305:\tlearn: 59012.5444732\ttest: 63514.1725165\tbest: 63514.1725165 (305)\ttotal: 1.68s\tremaining: 3.8s\n",
      "306:\tlearn: 58913.5065643\ttest: 63450.9504440\tbest: 63450.9504440 (306)\ttotal: 1.68s\tremaining: 3.8s\n",
      "307:\tlearn: 58898.1608295\ttest: 63446.1450401\tbest: 63446.1450401 (307)\ttotal: 1.69s\tremaining: 3.79s\n",
      "308:\tlearn: 58877.6755474\ttest: 63447.7020735\tbest: 63446.1450401 (307)\ttotal: 1.69s\tremaining: 3.79s\n",
      "309:\tlearn: 58803.1872731\ttest: 63441.0888422\tbest: 63441.0888422 (309)\ttotal: 1.7s\tremaining: 3.78s\n",
      "310:\tlearn: 58722.9271313\ttest: 63383.6701393\tbest: 63383.6701393 (310)\ttotal: 1.71s\tremaining: 3.78s\n",
      "311:\tlearn: 58699.9303791\ttest: 63355.7304114\tbest: 63355.7304114 (311)\ttotal: 1.71s\tremaining: 3.77s\n",
      "312:\tlearn: 58653.5609602\ttest: 63335.0572364\tbest: 63335.0572364 (312)\ttotal: 1.71s\tremaining: 3.76s\n",
      "313:\tlearn: 58599.7517764\ttest: 63318.1480085\tbest: 63318.1480085 (313)\ttotal: 1.72s\tremaining: 3.75s\n",
      "314:\tlearn: 58490.1127809\ttest: 63308.7387162\tbest: 63308.7387162 (314)\ttotal: 1.72s\tremaining: 3.75s\n",
      "315:\tlearn: 58457.9402768\ttest: 63268.4312943\tbest: 63268.4312943 (315)\ttotal: 1.73s\tremaining: 3.74s\n",
      "316:\tlearn: 58457.3586284\ttest: 63268.6341857\tbest: 63268.4312943 (315)\ttotal: 1.73s\tremaining: 3.73s\n",
      "317:\tlearn: 58452.1322155\ttest: 63257.8127097\tbest: 63257.8127097 (317)\ttotal: 1.74s\tremaining: 3.72s\n",
      "318:\tlearn: 58438.1118715\ttest: 63252.9586472\tbest: 63252.9586472 (318)\ttotal: 1.74s\tremaining: 3.72s\n",
      "319:\tlearn: 58437.3275986\ttest: 63257.4581269\tbest: 63252.9586472 (318)\ttotal: 1.75s\tremaining: 3.72s\n",
      "320:\tlearn: 58402.6306664\ttest: 63217.9925338\tbest: 63217.9925338 (320)\ttotal: 1.76s\tremaining: 3.72s\n",
      "321:\tlearn: 58284.9389971\ttest: 63187.7108657\tbest: 63187.7108657 (321)\ttotal: 1.76s\tremaining: 3.72s\n",
      "322:\tlearn: 58248.5661291\ttest: 63177.2730553\tbest: 63177.2730553 (322)\ttotal: 1.77s\tremaining: 3.72s\n",
      "323:\tlearn: 58221.7002613\ttest: 63172.8791308\tbest: 63172.8791308 (323)\ttotal: 1.78s\tremaining: 3.71s\n",
      "324:\tlearn: 58189.4075410\ttest: 63165.1331525\tbest: 63165.1331525 (324)\ttotal: 1.79s\tremaining: 3.71s\n",
      "325:\tlearn: 58139.9906804\ttest: 63173.2824262\tbest: 63165.1331525 (324)\ttotal: 1.8s\tremaining: 3.72s\n",
      "326:\tlearn: 58035.3139141\ttest: 63071.6467920\tbest: 63071.6467920 (326)\ttotal: 1.81s\tremaining: 3.72s\n",
      "327:\tlearn: 57989.3657333\ttest: 63073.0404654\tbest: 63071.6467920 (326)\ttotal: 1.82s\tremaining: 3.72s\n",
      "328:\tlearn: 57905.4741402\ttest: 63036.7552586\tbest: 63036.7552586 (328)\ttotal: 1.82s\tremaining: 3.72s\n",
      "329:\tlearn: 57881.1331527\ttest: 63033.0354385\tbest: 63033.0354385 (329)\ttotal: 1.83s\tremaining: 3.72s\n",
      "330:\tlearn: 57879.7335045\ttest: 63031.4968925\tbest: 63031.4968925 (330)\ttotal: 1.84s\tremaining: 3.72s\n",
      "331:\tlearn: 57840.9155441\ttest: 62983.4914061\tbest: 62983.4914061 (331)\ttotal: 1.85s\tremaining: 3.72s\n",
      "332:\tlearn: 57800.8785003\ttest: 62973.7338229\tbest: 62973.7338229 (332)\ttotal: 1.86s\tremaining: 3.72s\n",
      "333:\tlearn: 57781.6343753\ttest: 62956.3279113\tbest: 62956.3279113 (333)\ttotal: 1.86s\tremaining: 3.72s\n",
      "334:\tlearn: 57735.3620292\ttest: 62923.8001262\tbest: 62923.8001262 (334)\ttotal: 1.87s\tremaining: 3.72s\n",
      "335:\tlearn: 57656.5103851\ttest: 62879.5636926\tbest: 62879.5636926 (335)\ttotal: 1.88s\tremaining: 3.72s\n",
      "336:\tlearn: 57636.6339628\ttest: 62873.1248338\tbest: 62873.1248338 (336)\ttotal: 1.89s\tremaining: 3.71s\n",
      "337:\tlearn: 57629.5120704\ttest: 62881.3401887\tbest: 62873.1248338 (336)\ttotal: 1.9s\tremaining: 3.71s\n",
      "338:\tlearn: 57602.6182293\ttest: 62883.2449011\tbest: 62873.1248338 (336)\ttotal: 1.9s\tremaining: 3.71s\n",
      "339:\tlearn: 57572.4603011\ttest: 62846.2813707\tbest: 62846.2813707 (339)\ttotal: 1.91s\tremaining: 3.71s\n",
      "340:\tlearn: 57546.8795660\ttest: 62833.5852231\tbest: 62833.5852231 (340)\ttotal: 1.92s\tremaining: 3.71s\n",
      "341:\tlearn: 57515.4854500\ttest: 62832.0669418\tbest: 62832.0669418 (341)\ttotal: 1.92s\tremaining: 3.7s\n",
      "342:\tlearn: 57450.5274016\ttest: 62805.8662771\tbest: 62805.8662771 (342)\ttotal: 1.93s\tremaining: 3.69s\n",
      "343:\tlearn: 57378.8660305\ttest: 62755.8892511\tbest: 62755.8892511 (343)\ttotal: 1.93s\tremaining: 3.69s\n",
      "344:\tlearn: 57290.4174077\ttest: 62717.3120909\tbest: 62717.3120909 (344)\ttotal: 1.94s\tremaining: 3.69s\n",
      "345:\tlearn: 57249.1050332\ttest: 62697.9799209\tbest: 62697.9799209 (345)\ttotal: 1.95s\tremaining: 3.68s\n",
      "346:\tlearn: 57234.2627003\ttest: 62692.7395119\tbest: 62692.7395119 (346)\ttotal: 1.95s\tremaining: 3.68s\n",
      "347:\tlearn: 57181.9978350\ttest: 62665.3181789\tbest: 62665.3181789 (347)\ttotal: 1.96s\tremaining: 3.67s\n",
      "348:\tlearn: 57158.9946642\ttest: 62664.5642952\tbest: 62664.5642952 (348)\ttotal: 1.97s\tremaining: 3.67s\n",
      "349:\tlearn: 57130.6150131\ttest: 62652.7513294\tbest: 62652.7513294 (349)\ttotal: 1.97s\tremaining: 3.66s\n",
      "350:\tlearn: 57027.5598429\ttest: 62584.6710500\tbest: 62584.6710500 (350)\ttotal: 1.98s\tremaining: 3.65s\n",
      "351:\tlearn: 56999.0976433\ttest: 62585.0551283\tbest: 62584.6710500 (350)\ttotal: 1.98s\tremaining: 3.65s\n",
      "352:\tlearn: 56991.3136547\ttest: 62581.5484805\tbest: 62581.5484805 (352)\ttotal: 1.99s\tremaining: 3.64s\n",
      "353:\tlearn: 56952.0692719\ttest: 62591.9903649\tbest: 62581.5484805 (352)\ttotal: 1.99s\tremaining: 3.64s\n",
      "354:\tlearn: 56872.3964850\ttest: 62550.1796237\tbest: 62550.1796237 (354)\ttotal: 2s\tremaining: 3.63s\n",
      "355:\tlearn: 56826.7299836\ttest: 62537.1123279\tbest: 62537.1123279 (355)\ttotal: 2.01s\tremaining: 3.63s\n",
      "356:\tlearn: 56792.9097987\ttest: 62501.6534881\tbest: 62501.6534881 (356)\ttotal: 2.02s\tremaining: 3.63s\n",
      "357:\tlearn: 56699.3189454\ttest: 62427.1785130\tbest: 62427.1785130 (357)\ttotal: 2.02s\tremaining: 3.63s\n",
      "358:\tlearn: 56657.3301604\ttest: 62425.6947531\tbest: 62425.6947531 (358)\ttotal: 2.03s\tremaining: 3.62s\n",
      "359:\tlearn: 56614.5238906\ttest: 62421.6422553\tbest: 62421.6422553 (359)\ttotal: 2.03s\tremaining: 3.61s\n",
      "360:\tlearn: 56564.3173225\ttest: 62424.2701791\tbest: 62421.6422553 (359)\ttotal: 2.04s\tremaining: 3.61s\n",
      "361:\tlearn: 56564.1271030\ttest: 62424.4402262\tbest: 62421.6422553 (359)\ttotal: 2.04s\tremaining: 3.6s\n",
      "362:\tlearn: 56563.7940106\ttest: 62424.4528069\tbest: 62421.6422553 (359)\ttotal: 2.05s\tremaining: 3.59s\n",
      "363:\tlearn: 56545.0452692\ttest: 62418.0864047\tbest: 62418.0864047 (363)\ttotal: 2.05s\tremaining: 3.59s\n",
      "364:\tlearn: 56510.8910888\ttest: 62423.7729292\tbest: 62418.0864047 (363)\ttotal: 2.06s\tremaining: 3.58s\n",
      "365:\tlearn: 56486.2796570\ttest: 62403.9314176\tbest: 62403.9314176 (365)\ttotal: 2.06s\tremaining: 3.58s\n",
      "366:\tlearn: 56452.9404530\ttest: 62411.0016335\tbest: 62403.9314176 (365)\ttotal: 2.07s\tremaining: 3.57s\n",
      "367:\tlearn: 56419.0766074\ttest: 62404.6999562\tbest: 62403.9314176 (365)\ttotal: 2.08s\tremaining: 3.58s\n",
      "368:\tlearn: 56394.2367155\ttest: 62395.4144614\tbest: 62395.4144614 (368)\ttotal: 2.09s\tremaining: 3.57s\n",
      "369:\tlearn: 56279.9762293\ttest: 62358.1767622\tbest: 62358.1767622 (369)\ttotal: 2.09s\tremaining: 3.57s\n",
      "370:\tlearn: 56244.7135261\ttest: 62349.6985730\tbest: 62349.6985730 (370)\ttotal: 2.1s\tremaining: 3.56s\n",
      "371:\tlearn: 56227.3649352\ttest: 62336.7869476\tbest: 62336.7869476 (371)\ttotal: 2.11s\tremaining: 3.56s\n",
      "372:\tlearn: 56190.6683372\ttest: 62326.7857399\tbest: 62326.7857399 (372)\ttotal: 2.11s\tremaining: 3.55s\n",
      "373:\tlearn: 56181.4416411\ttest: 62311.8942554\tbest: 62311.8942554 (373)\ttotal: 2.12s\tremaining: 3.54s\n",
      "374:\tlearn: 56180.1271578\ttest: 62310.5737195\tbest: 62310.5737195 (374)\ttotal: 2.12s\tremaining: 3.54s\n",
      "375:\tlearn: 56156.4800752\ttest: 62304.8387171\tbest: 62304.8387171 (375)\ttotal: 2.13s\tremaining: 3.54s\n",
      "376:\tlearn: 56155.1407788\ttest: 62305.3369683\tbest: 62304.8387171 (375)\ttotal: 2.14s\tremaining: 3.54s\n",
      "377:\tlearn: 56106.1239695\ttest: 62282.8442732\tbest: 62282.8442732 (377)\ttotal: 2.15s\tremaining: 3.53s\n",
      "378:\tlearn: 56099.6044523\ttest: 62280.4577966\tbest: 62280.4577966 (378)\ttotal: 2.15s\tremaining: 3.52s\n",
      "379:\tlearn: 56068.9407895\ttest: 62282.7468693\tbest: 62280.4577966 (378)\ttotal: 2.15s\tremaining: 3.51s\n",
      "380:\tlearn: 56028.3068414\ttest: 62262.0665943\tbest: 62262.0665943 (380)\ttotal: 2.16s\tremaining: 3.5s\n",
      "381:\tlearn: 56022.9481993\ttest: 62255.2413976\tbest: 62255.2413976 (381)\ttotal: 2.16s\tremaining: 3.5s\n",
      "382:\tlearn: 56019.4898483\ttest: 62254.7325200\tbest: 62254.7325200 (382)\ttotal: 2.16s\tremaining: 3.49s\n",
      "383:\tlearn: 55974.9458180\ttest: 62244.0927585\tbest: 62244.0927585 (383)\ttotal: 2.17s\tremaining: 3.48s\n",
      "384:\tlearn: 55949.0233666\ttest: 62245.4725190\tbest: 62244.0927585 (383)\ttotal: 2.17s\tremaining: 3.48s\n",
      "385:\tlearn: 55915.1307852\ttest: 62233.6142174\tbest: 62233.6142174 (385)\ttotal: 2.18s\tremaining: 3.47s\n",
      "386:\tlearn: 55865.8655631\ttest: 62226.7393031\tbest: 62226.7393031 (386)\ttotal: 2.19s\tremaining: 3.46s\n",
      "387:\tlearn: 55825.1480746\ttest: 62220.3193920\tbest: 62220.3193920 (387)\ttotal: 2.19s\tremaining: 3.46s\n",
      "388:\tlearn: 55763.4540665\ttest: 62221.2180070\tbest: 62220.3193920 (387)\ttotal: 2.2s\tremaining: 3.46s\n",
      "389:\tlearn: 55718.8503448\ttest: 62211.5893506\tbest: 62211.5893506 (389)\ttotal: 2.21s\tremaining: 3.45s\n",
      "390:\tlearn: 55718.6783240\ttest: 62213.6940070\tbest: 62211.5893506 (389)\ttotal: 2.21s\tremaining: 3.45s\n",
      "391:\tlearn: 55707.7379752\ttest: 62212.9144862\tbest: 62211.5893506 (389)\ttotal: 2.22s\tremaining: 3.45s\n",
      "392:\tlearn: 55694.0249787\ttest: 62203.5140682\tbest: 62203.5140682 (392)\ttotal: 2.23s\tremaining: 3.44s\n",
      "393:\tlearn: 55689.8470433\ttest: 62204.7880937\tbest: 62203.5140682 (392)\ttotal: 2.24s\tremaining: 3.44s\n",
      "394:\tlearn: 55687.4841070\ttest: 62205.9004594\tbest: 62203.5140682 (392)\ttotal: 2.24s\tremaining: 3.44s\n",
      "395:\tlearn: 55685.7096441\ttest: 62208.7213882\tbest: 62203.5140682 (392)\ttotal: 2.25s\tremaining: 3.43s\n",
      "396:\tlearn: 55580.5081977\ttest: 62178.9783220\tbest: 62178.9783220 (396)\ttotal: 2.26s\tremaining: 3.43s\n",
      "397:\tlearn: 55569.6451297\ttest: 62178.8827594\tbest: 62178.8827594 (397)\ttotal: 2.26s\tremaining: 3.42s\n",
      "398:\tlearn: 55472.5654284\ttest: 62104.6129163\tbest: 62104.6129163 (398)\ttotal: 2.27s\tremaining: 3.42s\n",
      "399:\tlearn: 55463.0980551\ttest: 62097.6259792\tbest: 62097.6259792 (399)\ttotal: 2.27s\tremaining: 3.41s\n",
      "400:\tlearn: 55461.9574958\ttest: 62098.0519750\tbest: 62097.6259792 (399)\ttotal: 2.28s\tremaining: 3.41s\n",
      "401:\tlearn: 55394.2568995\ttest: 62071.9412460\tbest: 62071.9412460 (401)\ttotal: 2.29s\tremaining: 3.4s\n",
      "402:\tlearn: 55354.2742436\ttest: 62057.1235537\tbest: 62057.1235537 (402)\ttotal: 2.29s\tremaining: 3.4s\n",
      "403:\tlearn: 55346.0482227\ttest: 62062.7778202\tbest: 62057.1235537 (402)\ttotal: 2.3s\tremaining: 3.39s\n",
      "404:\tlearn: 55317.4139817\ttest: 62059.6801006\tbest: 62057.1235537 (402)\ttotal: 2.3s\tremaining: 3.38s\n",
      "405:\tlearn: 55283.0741719\ttest: 62076.4282670\tbest: 62057.1235537 (402)\ttotal: 2.31s\tremaining: 3.38s\n",
      "406:\tlearn: 55281.3440995\ttest: 62077.8450393\tbest: 62057.1235537 (402)\ttotal: 2.32s\tremaining: 3.38s\n",
      "407:\tlearn: 55281.3193126\ttest: 62078.1439093\tbest: 62057.1235537 (402)\ttotal: 2.32s\tremaining: 3.37s\n",
      "408:\tlearn: 55258.5034919\ttest: 62071.5396671\tbest: 62057.1235537 (402)\ttotal: 2.33s\tremaining: 3.36s\n",
      "409:\tlearn: 55180.2033378\ttest: 62048.7242479\tbest: 62048.7242479 (409)\ttotal: 2.33s\tremaining: 3.35s\n",
      "410:\tlearn: 55179.0918970\ttest: 62048.9167612\tbest: 62048.7242479 (409)\ttotal: 2.34s\tremaining: 3.35s\n",
      "411:\tlearn: 55143.6323470\ttest: 62059.5036273\tbest: 62048.7242479 (409)\ttotal: 2.34s\tremaining: 3.35s\n",
      "412:\tlearn: 55111.6042701\ttest: 62057.8588962\tbest: 62048.7242479 (409)\ttotal: 2.35s\tremaining: 3.34s\n",
      "413:\tlearn: 55104.3790636\ttest: 62070.7850514\tbest: 62048.7242479 (409)\ttotal: 2.35s\tremaining: 3.33s\n",
      "414:\tlearn: 55068.5366673\ttest: 62040.7614351\tbest: 62040.7614351 (414)\ttotal: 2.36s\tremaining: 3.33s\n",
      "415:\tlearn: 55066.8723107\ttest: 62040.4798467\tbest: 62040.4798467 (415)\ttotal: 2.37s\tremaining: 3.32s\n",
      "416:\tlearn: 55066.5154481\ttest: 62041.1009732\tbest: 62040.4798467 (415)\ttotal: 2.37s\tremaining: 3.32s\n",
      "417:\tlearn: 55037.6426928\ttest: 62021.4597716\tbest: 62021.4597716 (417)\ttotal: 2.38s\tremaining: 3.31s\n",
      "418:\tlearn: 55007.2047924\ttest: 62013.1507445\tbest: 62013.1507445 (418)\ttotal: 2.38s\tremaining: 3.3s\n",
      "419:\tlearn: 54965.5296322\ttest: 61992.9034469\tbest: 61992.9034469 (419)\ttotal: 2.38s\tremaining: 3.29s\n",
      "420:\tlearn: 54868.3309684\ttest: 61970.5567307\tbest: 61970.5567307 (420)\ttotal: 2.38s\tremaining: 3.28s\n",
      "421:\tlearn: 54842.8913119\ttest: 61964.1390398\tbest: 61964.1390398 (421)\ttotal: 2.39s\tremaining: 3.28s\n",
      "422:\tlearn: 54842.0426661\ttest: 61966.2393359\tbest: 61964.1390398 (421)\ttotal: 2.4s\tremaining: 3.27s\n",
      "423:\tlearn: 54740.7564286\ttest: 61903.4073477\tbest: 61903.4073477 (423)\ttotal: 2.4s\tremaining: 3.26s\n",
      "424:\tlearn: 54694.0988578\ttest: 61892.4152031\tbest: 61892.4152031 (424)\ttotal: 2.41s\tremaining: 3.26s\n",
      "425:\tlearn: 54655.8821000\ttest: 61882.7892103\tbest: 61882.7892103 (425)\ttotal: 2.42s\tremaining: 3.25s\n",
      "426:\tlearn: 54620.6856575\ttest: 61862.0650605\tbest: 61862.0650605 (426)\ttotal: 2.42s\tremaining: 3.25s\n",
      "427:\tlearn: 54614.0872948\ttest: 61868.8397560\tbest: 61862.0650605 (426)\ttotal: 2.43s\tremaining: 3.24s\n",
      "428:\tlearn: 54606.5613214\ttest: 61881.4390810\tbest: 61862.0650605 (426)\ttotal: 2.43s\tremaining: 3.24s\n",
      "429:\tlearn: 54586.4269966\ttest: 61865.9767837\tbest: 61862.0650605 (426)\ttotal: 2.44s\tremaining: 3.23s\n",
      "430:\tlearn: 54560.0947922\ttest: 61834.0822859\tbest: 61834.0822859 (430)\ttotal: 2.44s\tremaining: 3.23s\n",
      "431:\tlearn: 54526.7815974\ttest: 61825.2126633\tbest: 61825.2126633 (431)\ttotal: 2.45s\tremaining: 3.22s\n",
      "432:\tlearn: 54450.5332385\ttest: 61776.0037834\tbest: 61776.0037834 (432)\ttotal: 2.46s\tremaining: 3.21s\n",
      "433:\tlearn: 54444.7179183\ttest: 61784.4454985\tbest: 61776.0037834 (432)\ttotal: 2.46s\tremaining: 3.21s\n",
      "434:\tlearn: 54415.4283482\ttest: 61777.2490206\tbest: 61776.0037834 (432)\ttotal: 2.47s\tremaining: 3.2s\n",
      "435:\tlearn: 54401.0172350\ttest: 61762.8745487\tbest: 61762.8745487 (435)\ttotal: 2.47s\tremaining: 3.2s\n",
      "436:\tlearn: 54314.6897237\ttest: 61731.5319202\tbest: 61731.5319202 (436)\ttotal: 2.48s\tremaining: 3.19s\n",
      "437:\tlearn: 54312.1352403\ttest: 61731.6556660\tbest: 61731.5319202 (436)\ttotal: 2.48s\tremaining: 3.19s\n",
      "438:\tlearn: 54306.2303272\ttest: 61733.3061464\tbest: 61731.5319202 (436)\ttotal: 2.49s\tremaining: 3.18s\n",
      "439:\tlearn: 54295.7176601\ttest: 61750.0891966\tbest: 61731.5319202 (436)\ttotal: 2.5s\tremaining: 3.18s\n",
      "440:\tlearn: 54279.9395765\ttest: 61748.1728929\tbest: 61731.5319202 (436)\ttotal: 2.5s\tremaining: 3.17s\n",
      "441:\tlearn: 54277.4845015\ttest: 61748.2737600\tbest: 61731.5319202 (436)\ttotal: 2.51s\tremaining: 3.17s\n",
      "442:\tlearn: 54256.9149402\ttest: 61748.1332727\tbest: 61731.5319202 (436)\ttotal: 2.51s\tremaining: 3.16s\n",
      "443:\tlearn: 54250.4547067\ttest: 61751.0663848\tbest: 61731.5319202 (436)\ttotal: 2.52s\tremaining: 3.16s\n",
      "444:\tlearn: 54184.7289779\ttest: 61724.3322091\tbest: 61724.3322091 (444)\ttotal: 2.52s\tremaining: 3.15s\n",
      "445:\tlearn: 54160.8624927\ttest: 61727.6503558\tbest: 61724.3322091 (444)\ttotal: 2.53s\tremaining: 3.14s\n",
      "446:\tlearn: 54158.3806771\ttest: 61727.0605414\tbest: 61724.3322091 (444)\ttotal: 2.53s\tremaining: 3.14s\n",
      "447:\tlearn: 54086.3612272\ttest: 61677.5774484\tbest: 61677.5774484 (447)\ttotal: 2.54s\tremaining: 3.13s\n",
      "448:\tlearn: 54084.0867544\ttest: 61677.5101717\tbest: 61677.5101717 (448)\ttotal: 2.54s\tremaining: 3.12s\n",
      "449:\tlearn: 54027.9942745\ttest: 61634.6089394\tbest: 61634.6089394 (449)\ttotal: 2.55s\tremaining: 3.11s\n",
      "450:\tlearn: 53988.0041900\ttest: 61632.6879381\tbest: 61632.6879381 (450)\ttotal: 2.56s\tremaining: 3.11s\n",
      "451:\tlearn: 53957.6684654\ttest: 61605.6004233\tbest: 61605.6004233 (451)\ttotal: 2.56s\tremaining: 3.1s\n",
      "452:\tlearn: 53900.8084416\ttest: 61589.0818688\tbest: 61589.0818688 (452)\ttotal: 2.57s\tremaining: 3.1s\n",
      "453:\tlearn: 53868.8817336\ttest: 61570.3533928\tbest: 61570.3533928 (453)\ttotal: 2.58s\tremaining: 3.1s\n",
      "454:\tlearn: 53842.0732606\ttest: 61569.8266169\tbest: 61569.8266169 (454)\ttotal: 2.59s\tremaining: 3.1s\n",
      "455:\tlearn: 53827.1788222\ttest: 61573.3033735\tbest: 61569.8266169 (454)\ttotal: 2.59s\tremaining: 3.1s\n",
      "456:\tlearn: 53816.1063417\ttest: 61568.1793712\tbest: 61568.1793712 (456)\ttotal: 2.6s\tremaining: 3.09s\n",
      "457:\tlearn: 53756.7292057\ttest: 61551.8379526\tbest: 61551.8379526 (457)\ttotal: 2.61s\tremaining: 3.09s\n",
      "458:\tlearn: 53711.0632056\ttest: 61530.4050761\tbest: 61530.4050761 (458)\ttotal: 2.62s\tremaining: 3.09s\n",
      "459:\tlearn: 53696.2541716\ttest: 61523.9138974\tbest: 61523.9138974 (459)\ttotal: 2.63s\tremaining: 3.08s\n",
      "460:\tlearn: 53633.7638375\ttest: 61498.7933279\tbest: 61498.7933279 (460)\ttotal: 2.63s\tremaining: 3.08s\n",
      "461:\tlearn: 53631.3550987\ttest: 61499.4224595\tbest: 61498.7933279 (460)\ttotal: 2.64s\tremaining: 3.08s\n",
      "462:\tlearn: 53623.2186178\ttest: 61503.7789522\tbest: 61498.7933279 (460)\ttotal: 2.65s\tremaining: 3.07s\n",
      "463:\tlearn: 53602.9544712\ttest: 61519.1945572\tbest: 61498.7933279 (460)\ttotal: 2.66s\tremaining: 3.07s\n",
      "464:\tlearn: 53584.6768815\ttest: 61509.2975995\tbest: 61498.7933279 (460)\ttotal: 2.66s\tremaining: 3.06s\n",
      "465:\tlearn: 53536.3267020\ttest: 61502.3079161\tbest: 61498.7933279 (460)\ttotal: 2.67s\tremaining: 3.06s\n",
      "466:\tlearn: 53524.1791029\ttest: 61498.0196828\tbest: 61498.0196828 (466)\ttotal: 2.68s\tremaining: 3.06s\n",
      "467:\tlearn: 53518.8648985\ttest: 61499.4338384\tbest: 61498.0196828 (466)\ttotal: 2.69s\tremaining: 3.05s\n",
      "468:\tlearn: 53486.9014504\ttest: 61493.1781457\tbest: 61493.1781457 (468)\ttotal: 2.69s\tremaining: 3.05s\n",
      "469:\tlearn: 53477.3316519\ttest: 61496.2073434\tbest: 61493.1781457 (468)\ttotal: 2.7s\tremaining: 3.04s\n",
      "470:\tlearn: 53452.5095064\ttest: 61499.5085140\tbest: 61493.1781457 (468)\ttotal: 2.7s\tremaining: 3.04s\n",
      "471:\tlearn: 53400.8493620\ttest: 61512.8799774\tbest: 61493.1781457 (468)\ttotal: 2.71s\tremaining: 3.03s\n",
      "472:\tlearn: 53383.4826886\ttest: 61509.0220159\tbest: 61493.1781457 (468)\ttotal: 2.72s\tremaining: 3.03s\n",
      "473:\tlearn: 53353.8261229\ttest: 61514.2550357\tbest: 61493.1781457 (468)\ttotal: 2.73s\tremaining: 3.03s\n",
      "474:\tlearn: 53328.3859948\ttest: 61484.1771666\tbest: 61484.1771666 (474)\ttotal: 2.73s\tremaining: 3.02s\n",
      "475:\tlearn: 53314.8216597\ttest: 61467.4645000\tbest: 61467.4645000 (475)\ttotal: 2.74s\tremaining: 3.02s\n",
      "476:\tlearn: 53298.3724095\ttest: 61467.5020966\tbest: 61467.4645000 (475)\ttotal: 2.75s\tremaining: 3.01s\n",
      "477:\tlearn: 53271.1652281\ttest: 61477.4827524\tbest: 61467.4645000 (475)\ttotal: 2.75s\tremaining: 3.01s\n",
      "478:\tlearn: 53242.6011892\ttest: 61488.2916734\tbest: 61467.4645000 (475)\ttotal: 2.76s\tremaining: 3s\n",
      "479:\tlearn: 53224.2636917\ttest: 61489.9253960\tbest: 61467.4645000 (475)\ttotal: 2.77s\tremaining: 3s\n",
      "480:\tlearn: 53184.2446724\ttest: 61500.7415528\tbest: 61467.4645000 (475)\ttotal: 2.77s\tremaining: 2.99s\n",
      "481:\tlearn: 53147.5423603\ttest: 61510.6051492\tbest: 61467.4645000 (475)\ttotal: 2.78s\tremaining: 2.98s\n",
      "482:\tlearn: 53125.2658791\ttest: 61518.9049493\tbest: 61467.4645000 (475)\ttotal: 2.78s\tremaining: 2.98s\n",
      "483:\tlearn: 53119.1415075\ttest: 61514.4399851\tbest: 61467.4645000 (475)\ttotal: 2.79s\tremaining: 2.97s\n",
      "484:\tlearn: 53077.2210669\ttest: 61495.7225069\tbest: 61467.4645000 (475)\ttotal: 2.8s\tremaining: 2.97s\n",
      "485:\tlearn: 53022.1568379\ttest: 61452.2577373\tbest: 61452.2577373 (485)\ttotal: 2.8s\tremaining: 2.96s\n",
      "486:\tlearn: 52989.3432487\ttest: 61425.3976616\tbest: 61425.3976616 (486)\ttotal: 2.81s\tremaining: 2.96s\n",
      "487:\tlearn: 52961.6476677\ttest: 61422.5809676\tbest: 61422.5809676 (487)\ttotal: 2.81s\tremaining: 2.95s\n",
      "488:\tlearn: 52892.7687775\ttest: 61426.4360242\tbest: 61422.5809676 (487)\ttotal: 2.82s\tremaining: 2.95s\n",
      "489:\tlearn: 52876.5539831\ttest: 61423.9450034\tbest: 61422.5809676 (487)\ttotal: 2.83s\tremaining: 2.94s\n",
      "490:\tlearn: 52872.7414647\ttest: 61416.8282395\tbest: 61416.8282395 (490)\ttotal: 2.83s\tremaining: 2.94s\n",
      "491:\tlearn: 52807.5260365\ttest: 61389.7050977\tbest: 61389.7050977 (491)\ttotal: 2.84s\tremaining: 2.93s\n",
      "492:\tlearn: 52767.2539236\ttest: 61382.1303869\tbest: 61382.1303869 (492)\ttotal: 2.85s\tremaining: 2.93s\n",
      "493:\tlearn: 52765.9685452\ttest: 61378.6646119\tbest: 61378.6646119 (493)\ttotal: 2.85s\tremaining: 2.92s\n",
      "494:\tlearn: 52755.6959942\ttest: 61383.0033951\tbest: 61378.6646119 (493)\ttotal: 2.86s\tremaining: 2.92s\n",
      "495:\tlearn: 52712.1962906\ttest: 61399.1483578\tbest: 61378.6646119 (493)\ttotal: 2.87s\tremaining: 2.91s\n",
      "496:\tlearn: 52702.8031315\ttest: 61395.5712585\tbest: 61378.6646119 (493)\ttotal: 2.87s\tremaining: 2.91s\n",
      "497:\tlearn: 52686.6350785\ttest: 61392.8108166\tbest: 61378.6646119 (493)\ttotal: 2.88s\tremaining: 2.9s\n",
      "498:\tlearn: 52666.9638132\ttest: 61399.4672437\tbest: 61378.6646119 (493)\ttotal: 2.88s\tremaining: 2.9s\n",
      "499:\tlearn: 52624.9827055\ttest: 61396.3254881\tbest: 61378.6646119 (493)\ttotal: 2.89s\tremaining: 2.89s\n",
      "500:\tlearn: 52610.9425853\ttest: 61397.1246430\tbest: 61378.6646119 (493)\ttotal: 2.9s\tremaining: 2.89s\n",
      "501:\tlearn: 52563.7378959\ttest: 61352.5362662\tbest: 61352.5362662 (501)\ttotal: 2.9s\tremaining: 2.88s\n",
      "502:\tlearn: 52547.7850579\ttest: 61350.8583939\tbest: 61350.8583939 (502)\ttotal: 2.91s\tremaining: 2.87s\n",
      "503:\tlearn: 52517.6538842\ttest: 61334.5546616\tbest: 61334.5546616 (503)\ttotal: 2.91s\tremaining: 2.87s\n",
      "504:\tlearn: 52496.6787730\ttest: 61326.7302358\tbest: 61326.7302358 (504)\ttotal: 2.92s\tremaining: 2.86s\n",
      "505:\tlearn: 52475.2163580\ttest: 61327.5466381\tbest: 61326.7302358 (504)\ttotal: 2.93s\tremaining: 2.86s\n",
      "506:\tlearn: 52430.9926048\ttest: 61348.4118418\tbest: 61326.7302358 (504)\ttotal: 2.93s\tremaining: 2.85s\n",
      "507:\tlearn: 52399.4561442\ttest: 61331.8012428\tbest: 61326.7302358 (504)\ttotal: 2.94s\tremaining: 2.85s\n",
      "508:\tlearn: 52372.0878572\ttest: 61339.9021192\tbest: 61326.7302358 (504)\ttotal: 2.94s\tremaining: 2.84s\n",
      "509:\tlearn: 52331.7940760\ttest: 61348.1757671\tbest: 61326.7302358 (504)\ttotal: 2.95s\tremaining: 2.83s\n",
      "510:\tlearn: 52307.4768996\ttest: 61335.8647020\tbest: 61326.7302358 (504)\ttotal: 2.96s\tremaining: 2.83s\n",
      "511:\tlearn: 52292.7777423\ttest: 61340.3451240\tbest: 61326.7302358 (504)\ttotal: 2.96s\tremaining: 2.82s\n",
      "512:\tlearn: 52288.1912573\ttest: 61335.6652248\tbest: 61326.7302358 (504)\ttotal: 2.97s\tremaining: 2.82s\n",
      "513:\tlearn: 52281.6749820\ttest: 61332.9403332\tbest: 61326.7302358 (504)\ttotal: 2.98s\tremaining: 2.81s\n",
      "514:\tlearn: 52259.1310007\ttest: 61337.6933770\tbest: 61326.7302358 (504)\ttotal: 2.98s\tremaining: 2.81s\n",
      "515:\tlearn: 52247.9157374\ttest: 61345.1706437\tbest: 61326.7302358 (504)\ttotal: 2.99s\tremaining: 2.81s\n",
      "516:\tlearn: 52233.7232217\ttest: 61336.8206188\tbest: 61326.7302358 (504)\ttotal: 3s\tremaining: 2.8s\n",
      "517:\tlearn: 52217.5171872\ttest: 61331.5109942\tbest: 61326.7302358 (504)\ttotal: 3.01s\tremaining: 2.8s\n",
      "518:\tlearn: 52175.9551460\ttest: 61307.5711871\tbest: 61307.5711871 (518)\ttotal: 3.01s\tremaining: 2.79s\n",
      "519:\tlearn: 52162.9822610\ttest: 61300.6673394\tbest: 61300.6673394 (519)\ttotal: 3.02s\tremaining: 2.79s\n",
      "520:\tlearn: 52104.2712370\ttest: 61284.7677173\tbest: 61284.7677173 (520)\ttotal: 3.03s\tremaining: 2.78s\n",
      "521:\tlearn: 52073.7842124\ttest: 61287.9315379\tbest: 61284.7677173 (520)\ttotal: 3.04s\tremaining: 2.79s\n",
      "522:\tlearn: 52020.9418193\ttest: 61265.4785429\tbest: 61265.4785429 (522)\ttotal: 3.05s\tremaining: 2.78s\n",
      "523:\tlearn: 51979.2310222\ttest: 61234.2804207\tbest: 61234.2804207 (523)\ttotal: 3.06s\tremaining: 2.78s\n",
      "524:\tlearn: 51974.7669237\ttest: 61231.4749431\tbest: 61231.4749431 (524)\ttotal: 3.07s\tremaining: 2.77s\n",
      "525:\tlearn: 51958.9751715\ttest: 61222.0163720\tbest: 61222.0163720 (525)\ttotal: 3.07s\tremaining: 2.77s\n",
      "526:\tlearn: 51937.2246373\ttest: 61223.7877704\tbest: 61222.0163720 (525)\ttotal: 3.08s\tremaining: 2.76s\n",
      "527:\tlearn: 51928.5927547\ttest: 61217.0083549\tbest: 61217.0083549 (527)\ttotal: 3.08s\tremaining: 2.76s\n",
      "528:\tlearn: 51867.6217482\ttest: 61196.3246837\tbest: 61196.3246837 (528)\ttotal: 3.09s\tremaining: 2.75s\n",
      "529:\tlearn: 51842.7024176\ttest: 61176.3341359\tbest: 61176.3341359 (529)\ttotal: 3.1s\tremaining: 2.75s\n",
      "530:\tlearn: 51830.4844188\ttest: 61183.0889651\tbest: 61176.3341359 (529)\ttotal: 3.1s\tremaining: 2.74s\n",
      "531:\tlearn: 51818.2299895\ttest: 61178.8083507\tbest: 61176.3341359 (529)\ttotal: 3.11s\tremaining: 2.73s\n",
      "532:\tlearn: 51811.1642691\ttest: 61187.5358293\tbest: 61176.3341359 (529)\ttotal: 3.11s\tremaining: 2.73s\n",
      "533:\tlearn: 51800.0323763\ttest: 61190.3420643\tbest: 61176.3341359 (529)\ttotal: 3.12s\tremaining: 2.72s\n",
      "534:\tlearn: 51722.4864855\ttest: 61145.2290618\tbest: 61145.2290618 (534)\ttotal: 3.13s\tremaining: 2.72s\n",
      "535:\tlearn: 51717.7297007\ttest: 61146.1992687\tbest: 61145.2290618 (534)\ttotal: 3.13s\tremaining: 2.71s\n",
      "536:\tlearn: 51667.5649196\ttest: 61158.4374196\tbest: 61145.2290618 (534)\ttotal: 3.14s\tremaining: 2.7s\n",
      "537:\tlearn: 51613.3954627\ttest: 61123.5377977\tbest: 61123.5377977 (537)\ttotal: 3.14s\tremaining: 2.7s\n",
      "538:\tlearn: 51581.7806931\ttest: 61113.6085669\tbest: 61113.6085669 (538)\ttotal: 3.15s\tremaining: 2.69s\n",
      "539:\tlearn: 51558.3666818\ttest: 61108.9336730\tbest: 61108.9336730 (539)\ttotal: 3.15s\tremaining: 2.69s\n",
      "540:\tlearn: 51546.6327559\ttest: 61110.2095057\tbest: 61108.9336730 (539)\ttotal: 3.16s\tremaining: 2.68s\n",
      "541:\tlearn: 51545.8705582\ttest: 61112.6311589\tbest: 61108.9336730 (539)\ttotal: 3.16s\tremaining: 2.67s\n",
      "542:\tlearn: 51526.0592902\ttest: 61121.6615964\tbest: 61108.9336730 (539)\ttotal: 3.17s\tremaining: 2.67s\n",
      "543:\tlearn: 51485.1023293\ttest: 61098.8938881\tbest: 61098.8938881 (543)\ttotal: 3.18s\tremaining: 2.66s\n",
      "544:\tlearn: 51419.5470449\ttest: 61073.7352191\tbest: 61073.7352191 (544)\ttotal: 3.19s\tremaining: 2.66s\n",
      "545:\tlearn: 51418.5738043\ttest: 61074.0995557\tbest: 61073.7352191 (544)\ttotal: 3.19s\tremaining: 2.65s\n",
      "546:\tlearn: 51385.7208556\ttest: 61077.8504699\tbest: 61073.7352191 (544)\ttotal: 3.2s\tremaining: 2.65s\n",
      "547:\tlearn: 51367.5031210\ttest: 61081.7743964\tbest: 61073.7352191 (544)\ttotal: 3.21s\tremaining: 2.64s\n",
      "548:\tlearn: 51326.7468710\ttest: 61052.7586346\tbest: 61052.7586346 (548)\ttotal: 3.21s\tremaining: 2.64s\n",
      "549:\tlearn: 51326.0313339\ttest: 61054.3446596\tbest: 61052.7586346 (548)\ttotal: 3.22s\tremaining: 2.63s\n",
      "550:\tlearn: 51323.1618128\ttest: 61061.8314208\tbest: 61052.7586346 (548)\ttotal: 3.23s\tremaining: 2.63s\n",
      "551:\tlearn: 51318.1586924\ttest: 61065.6824038\tbest: 61052.7586346 (548)\ttotal: 3.23s\tremaining: 2.62s\n",
      "552:\tlearn: 51284.6731004\ttest: 61076.9211529\tbest: 61052.7586346 (548)\ttotal: 3.24s\tremaining: 2.62s\n",
      "553:\tlearn: 51244.2538500\ttest: 61051.6688492\tbest: 61051.6688492 (553)\ttotal: 3.25s\tremaining: 2.61s\n",
      "554:\tlearn: 51224.2505004\ttest: 61056.8114746\tbest: 61051.6688492 (553)\ttotal: 3.25s\tremaining: 2.61s\n",
      "555:\tlearn: 51185.8811848\ttest: 61067.6348016\tbest: 61051.6688492 (553)\ttotal: 3.26s\tremaining: 2.6s\n",
      "556:\tlearn: 51146.6853314\ttest: 61068.3314923\tbest: 61051.6688492 (553)\ttotal: 3.26s\tremaining: 2.6s\n",
      "557:\tlearn: 51123.7456082\ttest: 61062.3633045\tbest: 61051.6688492 (553)\ttotal: 3.27s\tremaining: 2.59s\n",
      "558:\tlearn: 51115.6306537\ttest: 61050.3841856\tbest: 61050.3841856 (558)\ttotal: 3.27s\tremaining: 2.58s\n",
      "559:\tlearn: 51086.7360154\ttest: 61030.7176714\tbest: 61030.7176714 (559)\ttotal: 3.28s\tremaining: 2.58s\n",
      "560:\tlearn: 51070.3617636\ttest: 61012.2615540\tbest: 61012.2615540 (560)\ttotal: 3.29s\tremaining: 2.57s\n",
      "561:\tlearn: 51061.3099317\ttest: 61015.2289256\tbest: 61012.2615540 (560)\ttotal: 3.29s\tremaining: 2.57s\n",
      "562:\tlearn: 51043.9532294\ttest: 61002.2322225\tbest: 61002.2322225 (562)\ttotal: 3.3s\tremaining: 2.56s\n",
      "563:\tlearn: 51040.1963992\ttest: 61000.6938544\tbest: 61000.6938544 (563)\ttotal: 3.31s\tremaining: 2.55s\n",
      "564:\tlearn: 51025.5512550\ttest: 61002.6206410\tbest: 61000.6938544 (563)\ttotal: 3.31s\tremaining: 2.55s\n",
      "565:\tlearn: 51019.4462640\ttest: 60999.2922408\tbest: 60999.2922408 (565)\ttotal: 3.32s\tremaining: 2.54s\n",
      "566:\tlearn: 50991.6221656\ttest: 60999.9637512\tbest: 60999.2922408 (565)\ttotal: 3.32s\tremaining: 2.54s\n",
      "567:\tlearn: 50988.3397903\ttest: 60992.9885096\tbest: 60992.9885096 (567)\ttotal: 3.33s\tremaining: 2.53s\n",
      "568:\tlearn: 50981.3690144\ttest: 60980.4315551\tbest: 60980.4315551 (568)\ttotal: 3.33s\tremaining: 2.52s\n",
      "569:\tlearn: 50941.8189301\ttest: 60976.9491106\tbest: 60976.9491106 (569)\ttotal: 3.34s\tremaining: 2.52s\n",
      "570:\tlearn: 50899.1452398\ttest: 60953.4945133\tbest: 60953.4945133 (570)\ttotal: 3.34s\tremaining: 2.51s\n",
      "571:\tlearn: 50890.1329660\ttest: 60960.9811531\tbest: 60953.4945133 (570)\ttotal: 3.35s\tremaining: 2.51s\n",
      "572:\tlearn: 50865.8209122\ttest: 60954.3603225\tbest: 60953.4945133 (570)\ttotal: 3.36s\tremaining: 2.5s\n",
      "573:\tlearn: 50845.0606452\ttest: 60943.7773721\tbest: 60943.7773721 (573)\ttotal: 3.36s\tremaining: 2.5s\n",
      "574:\tlearn: 50833.4885782\ttest: 60944.0000764\tbest: 60943.7773721 (573)\ttotal: 3.37s\tremaining: 2.49s\n",
      "575:\tlearn: 50824.7630325\ttest: 60948.0844773\tbest: 60943.7773721 (573)\ttotal: 3.37s\tremaining: 2.48s\n",
      "576:\tlearn: 50816.8785924\ttest: 60941.2514804\tbest: 60941.2514804 (576)\ttotal: 3.38s\tremaining: 2.48s\n",
      "577:\tlearn: 50812.7330135\ttest: 60940.4101285\tbest: 60940.4101285 (577)\ttotal: 3.39s\tremaining: 2.47s\n",
      "578:\tlearn: 50787.5849561\ttest: 60929.4339915\tbest: 60929.4339915 (578)\ttotal: 3.39s\tremaining: 2.47s\n",
      "579:\tlearn: 50771.7530924\ttest: 60940.7494243\tbest: 60929.4339915 (578)\ttotal: 3.4s\tremaining: 2.46s\n",
      "580:\tlearn: 50750.2517998\ttest: 60947.9494910\tbest: 60929.4339915 (578)\ttotal: 3.41s\tremaining: 2.46s\n",
      "581:\tlearn: 50737.3878656\ttest: 60945.4051618\tbest: 60929.4339915 (578)\ttotal: 3.42s\tremaining: 2.45s\n",
      "582:\tlearn: 50714.5724102\ttest: 60957.7474822\tbest: 60929.4339915 (578)\ttotal: 3.42s\tremaining: 2.45s\n",
      "583:\tlearn: 50691.4489647\ttest: 60960.1483446\tbest: 60929.4339915 (578)\ttotal: 3.43s\tremaining: 2.44s\n",
      "584:\tlearn: 50685.2815220\ttest: 60959.3741372\tbest: 60929.4339915 (578)\ttotal: 3.43s\tremaining: 2.44s\n",
      "585:\tlearn: 50659.7759367\ttest: 60969.4344397\tbest: 60929.4339915 (578)\ttotal: 3.44s\tremaining: 2.43s\n",
      "586:\tlearn: 50627.9464907\ttest: 60949.9612724\tbest: 60929.4339915 (578)\ttotal: 3.44s\tremaining: 2.42s\n",
      "587:\tlearn: 50618.2496079\ttest: 60946.1438130\tbest: 60929.4339915 (578)\ttotal: 3.45s\tremaining: 2.42s\n",
      "588:\tlearn: 50608.2238840\ttest: 60948.1763327\tbest: 60929.4339915 (578)\ttotal: 3.46s\tremaining: 2.41s\n",
      "589:\tlearn: 50567.1829196\ttest: 60956.5283379\tbest: 60929.4339915 (578)\ttotal: 3.46s\tremaining: 2.41s\n",
      "590:\tlearn: 50550.3782272\ttest: 60966.5414598\tbest: 60929.4339915 (578)\ttotal: 3.47s\tremaining: 2.4s\n",
      "591:\tlearn: 50548.5758371\ttest: 60966.7001400\tbest: 60929.4339915 (578)\ttotal: 3.48s\tremaining: 2.4s\n",
      "592:\tlearn: 50490.0940393\ttest: 60918.8730481\tbest: 60918.8730481 (592)\ttotal: 3.48s\tremaining: 2.39s\n",
      "593:\tlearn: 50454.2936076\ttest: 60892.2766502\tbest: 60892.2766502 (593)\ttotal: 3.49s\tremaining: 2.38s\n",
      "594:\tlearn: 50442.9726850\ttest: 60894.5621950\tbest: 60892.2766502 (593)\ttotal: 3.5s\tremaining: 2.38s\n",
      "595:\tlearn: 50432.2662718\ttest: 60882.9099563\tbest: 60882.9099563 (595)\ttotal: 3.5s\tremaining: 2.37s\n",
      "596:\tlearn: 50420.0573692\ttest: 60862.7684139\tbest: 60862.7684139 (596)\ttotal: 3.51s\tremaining: 2.37s\n",
      "597:\tlearn: 50378.2025589\ttest: 60856.6290837\tbest: 60856.6290837 (597)\ttotal: 3.51s\tremaining: 2.36s\n",
      "598:\tlearn: 50362.2329458\ttest: 60846.4719492\tbest: 60846.4719492 (598)\ttotal: 3.52s\tremaining: 2.35s\n",
      "599:\tlearn: 50323.9204535\ttest: 60837.5593734\tbest: 60837.5593734 (599)\ttotal: 3.52s\tremaining: 2.35s\n",
      "600:\tlearn: 50282.1927493\ttest: 60854.6899256\tbest: 60837.5593734 (599)\ttotal: 3.53s\tremaining: 2.34s\n",
      "601:\tlearn: 50279.0750854\ttest: 60855.3445612\tbest: 60837.5593734 (599)\ttotal: 3.53s\tremaining: 2.33s\n",
      "602:\tlearn: 50256.2569442\ttest: 60860.1325626\tbest: 60837.5593734 (599)\ttotal: 3.54s\tremaining: 2.33s\n",
      "603:\tlearn: 50254.1869168\ttest: 60861.3321067\tbest: 60837.5593734 (599)\ttotal: 3.54s\tremaining: 2.32s\n",
      "604:\tlearn: 50230.7633373\ttest: 60852.9385846\tbest: 60837.5593734 (599)\ttotal: 3.55s\tremaining: 2.32s\n",
      "605:\tlearn: 50226.0730625\ttest: 60843.1058019\tbest: 60837.5593734 (599)\ttotal: 3.56s\tremaining: 2.31s\n",
      "606:\tlearn: 50172.8692265\ttest: 60835.7486555\tbest: 60835.7486555 (606)\ttotal: 3.56s\tremaining: 2.31s\n",
      "607:\tlearn: 50150.7258657\ttest: 60810.1126788\tbest: 60810.1126788 (607)\ttotal: 3.57s\tremaining: 2.3s\n",
      "608:\tlearn: 50142.6834964\ttest: 60810.1029521\tbest: 60810.1029521 (608)\ttotal: 3.58s\tremaining: 2.29s\n",
      "609:\tlearn: 50050.6151574\ttest: 60798.2789939\tbest: 60798.2789939 (609)\ttotal: 3.58s\tremaining: 2.29s\n",
      "610:\tlearn: 50025.8007958\ttest: 60794.7130976\tbest: 60794.7130976 (610)\ttotal: 3.59s\tremaining: 2.28s\n",
      "611:\tlearn: 50024.4657828\ttest: 60795.2353414\tbest: 60794.7130976 (610)\ttotal: 3.59s\tremaining: 2.28s\n",
      "612:\tlearn: 50020.8997722\ttest: 60792.6076291\tbest: 60792.6076291 (612)\ttotal: 3.6s\tremaining: 2.27s\n",
      "613:\tlearn: 50007.0612721\ttest: 60783.4667559\tbest: 60783.4667559 (613)\ttotal: 3.61s\tremaining: 2.27s\n",
      "614:\tlearn: 49965.0619183\ttest: 60790.2944290\tbest: 60783.4667559 (613)\ttotal: 3.61s\tremaining: 2.26s\n",
      "615:\tlearn: 49964.6711834\ttest: 60791.5097944\tbest: 60783.4667559 (613)\ttotal: 3.62s\tremaining: 2.26s\n",
      "616:\tlearn: 49925.7808342\ttest: 60801.9190408\tbest: 60783.4667559 (613)\ttotal: 3.63s\tremaining: 2.25s\n",
      "617:\tlearn: 49900.2561795\ttest: 60799.1335291\tbest: 60783.4667559 (613)\ttotal: 3.63s\tremaining: 2.25s\n",
      "618:\tlearn: 49898.3073035\ttest: 60796.0814900\tbest: 60783.4667559 (613)\ttotal: 3.64s\tremaining: 2.24s\n",
      "619:\tlearn: 49895.3002295\ttest: 60801.1856021\tbest: 60783.4667559 (613)\ttotal: 3.65s\tremaining: 2.24s\n",
      "620:\tlearn: 49890.1003625\ttest: 60800.9366750\tbest: 60783.4667559 (613)\ttotal: 3.66s\tremaining: 2.23s\n",
      "621:\tlearn: 49853.7177303\ttest: 60796.5696219\tbest: 60783.4667559 (613)\ttotal: 3.67s\tremaining: 2.23s\n",
      "622:\tlearn: 49837.2890979\ttest: 60796.6114049\tbest: 60783.4667559 (613)\ttotal: 3.67s\tremaining: 2.22s\n",
      "623:\tlearn: 49822.1703521\ttest: 60799.8940925\tbest: 60783.4667559 (613)\ttotal: 3.67s\tremaining: 2.21s\n",
      "624:\tlearn: 49820.1568163\ttest: 60796.1827473\tbest: 60783.4667559 (613)\ttotal: 3.68s\tremaining: 2.21s\n",
      "625:\tlearn: 49805.6723603\ttest: 60777.8112501\tbest: 60777.8112501 (625)\ttotal: 3.69s\tremaining: 2.2s\n",
      "626:\tlearn: 49796.4440762\ttest: 60759.9485687\tbest: 60759.9485687 (626)\ttotal: 3.69s\tremaining: 2.2s\n",
      "627:\tlearn: 49781.2355116\ttest: 60752.3334498\tbest: 60752.3334498 (627)\ttotal: 3.7s\tremaining: 2.19s\n",
      "628:\tlearn: 49780.2249258\ttest: 60750.8602492\tbest: 60750.8602492 (628)\ttotal: 3.7s\tremaining: 2.18s\n",
      "629:\tlearn: 49743.1632968\ttest: 60751.9049399\tbest: 60750.8602492 (628)\ttotal: 3.71s\tremaining: 2.18s\n",
      "630:\tlearn: 49731.4896677\ttest: 60754.3742723\tbest: 60750.8602492 (628)\ttotal: 3.71s\tremaining: 2.17s\n",
      "631:\tlearn: 49730.8267986\ttest: 60749.0769163\tbest: 60749.0769163 (631)\ttotal: 3.72s\tremaining: 2.17s\n",
      "632:\tlearn: 49707.2038759\ttest: 60732.7375546\tbest: 60732.7375546 (632)\ttotal: 3.73s\tremaining: 2.16s\n",
      "633:\tlearn: 49664.5663686\ttest: 60708.6537870\tbest: 60708.6537870 (633)\ttotal: 3.73s\tremaining: 2.15s\n",
      "634:\tlearn: 49639.7025450\ttest: 60698.3166903\tbest: 60698.3166903 (634)\ttotal: 3.74s\tremaining: 2.15s\n",
      "635:\tlearn: 49625.1441599\ttest: 60691.4131540\tbest: 60691.4131540 (635)\ttotal: 3.74s\tremaining: 2.14s\n",
      "636:\tlearn: 49606.2088679\ttest: 60707.1440637\tbest: 60691.4131540 (635)\ttotal: 3.75s\tremaining: 2.14s\n",
      "637:\tlearn: 49580.2520245\ttest: 60699.1809391\tbest: 60691.4131540 (635)\ttotal: 3.75s\tremaining: 2.13s\n",
      "638:\tlearn: 49570.5871627\ttest: 60693.7462237\tbest: 60691.4131540 (635)\ttotal: 3.76s\tremaining: 2.12s\n",
      "639:\tlearn: 49544.2285667\ttest: 60694.8162607\tbest: 60691.4131540 (635)\ttotal: 3.77s\tremaining: 2.12s\n",
      "640:\tlearn: 49522.3650776\ttest: 60698.0353841\tbest: 60691.4131540 (635)\ttotal: 3.77s\tremaining: 2.11s\n",
      "641:\tlearn: 49499.8281875\ttest: 60698.4162144\tbest: 60691.4131540 (635)\ttotal: 3.78s\tremaining: 2.11s\n",
      "642:\tlearn: 49489.0309484\ttest: 60694.5168926\tbest: 60691.4131540 (635)\ttotal: 3.79s\tremaining: 2.1s\n",
      "643:\tlearn: 49483.0037218\ttest: 60697.5342351\tbest: 60691.4131540 (635)\ttotal: 3.79s\tremaining: 2.1s\n",
      "644:\tlearn: 49454.4519536\ttest: 60696.9953767\tbest: 60691.4131540 (635)\ttotal: 3.8s\tremaining: 2.09s\n",
      "645:\tlearn: 49433.3103617\ttest: 60698.6194549\tbest: 60691.4131540 (635)\ttotal: 3.8s\tremaining: 2.08s\n",
      "646:\tlearn: 49402.7137684\ttest: 60699.2143656\tbest: 60691.4131540 (635)\ttotal: 3.81s\tremaining: 2.08s\n",
      "647:\tlearn: 49371.5984372\ttest: 60674.6825911\tbest: 60674.6825911 (647)\ttotal: 3.81s\tremaining: 2.07s\n",
      "648:\tlearn: 49366.7616448\ttest: 60674.2880640\tbest: 60674.2880640 (648)\ttotal: 3.82s\tremaining: 2.06s\n",
      "649:\tlearn: 49359.1414438\ttest: 60674.2555475\tbest: 60674.2555475 (649)\ttotal: 3.83s\tremaining: 2.06s\n",
      "650:\tlearn: 49344.6073234\ttest: 60681.2095989\tbest: 60674.2555475 (649)\ttotal: 3.83s\tremaining: 2.06s\n",
      "651:\tlearn: 49335.6625991\ttest: 60677.6157983\tbest: 60674.2555475 (649)\ttotal: 3.84s\tremaining: 2.05s\n",
      "652:\tlearn: 49321.7735440\ttest: 60676.2762988\tbest: 60674.2555475 (649)\ttotal: 3.85s\tremaining: 2.04s\n",
      "653:\tlearn: 49312.6609985\ttest: 60674.5799131\tbest: 60674.2555475 (649)\ttotal: 3.86s\tremaining: 2.04s\n",
      "654:\tlearn: 49310.4782731\ttest: 60674.6156296\tbest: 60674.2555475 (649)\ttotal: 3.86s\tremaining: 2.04s\n",
      "655:\tlearn: 49274.5521353\ttest: 60677.0427801\tbest: 60674.2555475 (649)\ttotal: 3.87s\tremaining: 2.03s\n",
      "656:\tlearn: 49259.5410022\ttest: 60658.9555369\tbest: 60658.9555369 (656)\ttotal: 3.88s\tremaining: 2.02s\n",
      "657:\tlearn: 49259.2008858\ttest: 60659.8620043\tbest: 60658.9555369 (656)\ttotal: 3.88s\tremaining: 2.02s\n",
      "658:\tlearn: 49235.8844714\ttest: 60642.7754955\tbest: 60642.7754955 (658)\ttotal: 3.89s\tremaining: 2.01s\n",
      "659:\tlearn: 49204.2098323\ttest: 60633.0882268\tbest: 60633.0882268 (659)\ttotal: 3.89s\tremaining: 2s\n",
      "660:\tlearn: 49195.3010819\ttest: 60636.7600583\tbest: 60633.0882268 (659)\ttotal: 3.9s\tremaining: 2s\n",
      "661:\tlearn: 49166.1065797\ttest: 60658.8976732\tbest: 60633.0882268 (659)\ttotal: 3.9s\tremaining: 1.99s\n",
      "662:\tlearn: 49134.2576705\ttest: 60650.4512388\tbest: 60633.0882268 (659)\ttotal: 3.91s\tremaining: 1.99s\n",
      "663:\tlearn: 49125.5872266\ttest: 60647.8868495\tbest: 60633.0882268 (659)\ttotal: 3.92s\tremaining: 1.98s\n",
      "664:\tlearn: 49125.3372315\ttest: 60648.5991675\tbest: 60633.0882268 (659)\ttotal: 3.92s\tremaining: 1.98s\n",
      "665:\tlearn: 49117.6970297\ttest: 60650.1519231\tbest: 60633.0882268 (659)\ttotal: 3.93s\tremaining: 1.97s\n",
      "666:\tlearn: 49113.7512897\ttest: 60643.9021917\tbest: 60633.0882268 (659)\ttotal: 3.93s\tremaining: 1.96s\n",
      "667:\tlearn: 49096.9587634\ttest: 60618.8325143\tbest: 60618.8325143 (667)\ttotal: 3.94s\tremaining: 1.96s\n",
      "668:\tlearn: 49009.4993423\ttest: 60575.8389798\tbest: 60575.8389798 (668)\ttotal: 3.94s\tremaining: 1.95s\n",
      "669:\tlearn: 48993.6472285\ttest: 60567.3775962\tbest: 60567.3775962 (669)\ttotal: 3.95s\tremaining: 1.95s\n",
      "670:\tlearn: 48993.6412846\ttest: 60567.3659437\tbest: 60567.3659437 (670)\ttotal: 3.95s\tremaining: 1.94s\n",
      "671:\tlearn: 48989.2030470\ttest: 60567.7009088\tbest: 60567.3659437 (670)\ttotal: 3.96s\tremaining: 1.93s\n",
      "672:\tlearn: 48973.9100027\ttest: 60564.6121462\tbest: 60564.6121462 (672)\ttotal: 3.96s\tremaining: 1.93s\n",
      "673:\tlearn: 48947.4648610\ttest: 60563.1122510\tbest: 60563.1122510 (673)\ttotal: 3.97s\tremaining: 1.92s\n",
      "674:\tlearn: 48946.3679615\ttest: 60568.4079727\tbest: 60563.1122510 (673)\ttotal: 3.98s\tremaining: 1.91s\n",
      "675:\tlearn: 48941.8052939\ttest: 60566.5834365\tbest: 60563.1122510 (673)\ttotal: 3.98s\tremaining: 1.91s\n",
      "676:\tlearn: 48939.9145365\ttest: 60563.0818887\tbest: 60563.0818887 (676)\ttotal: 3.99s\tremaining: 1.9s\n",
      "677:\tlearn: 48932.1062113\ttest: 60568.6041275\tbest: 60563.0818887 (676)\ttotal: 4s\tremaining: 1.9s\n",
      "678:\tlearn: 48924.0007761\ttest: 60568.3552559\tbest: 60563.0818887 (676)\ttotal: 4.01s\tremaining: 1.89s\n",
      "679:\tlearn: 48896.4671311\ttest: 60565.2209729\tbest: 60563.0818887 (676)\ttotal: 4.01s\tremaining: 1.89s\n",
      "680:\tlearn: 48894.8077542\ttest: 60566.2519529\tbest: 60563.0818887 (676)\ttotal: 4.02s\tremaining: 1.88s\n",
      "681:\tlearn: 48891.1568797\ttest: 60570.4856320\tbest: 60563.0818887 (676)\ttotal: 4.03s\tremaining: 1.88s\n",
      "682:\tlearn: 48866.8056706\ttest: 60562.5547663\tbest: 60562.5547663 (682)\ttotal: 4.03s\tremaining: 1.87s\n",
      "683:\tlearn: 48862.4314954\ttest: 60567.6294143\tbest: 60562.5547663 (682)\ttotal: 4.04s\tremaining: 1.86s\n",
      "684:\tlearn: 48832.0649385\ttest: 60545.3615062\tbest: 60545.3615062 (684)\ttotal: 4.04s\tremaining: 1.86s\n",
      "685:\tlearn: 48822.0250663\ttest: 60546.6734567\tbest: 60545.3615062 (684)\ttotal: 4.05s\tremaining: 1.85s\n",
      "686:\tlearn: 48793.5700777\ttest: 60546.0191031\tbest: 60545.3615062 (684)\ttotal: 4.06s\tremaining: 1.85s\n",
      "687:\tlearn: 48789.9630619\ttest: 60545.7256416\tbest: 60545.3615062 (684)\ttotal: 4.06s\tremaining: 1.84s\n",
      "688:\tlearn: 48761.7181856\ttest: 60537.4486816\tbest: 60537.4486816 (688)\ttotal: 4.07s\tremaining: 1.84s\n",
      "689:\tlearn: 48745.1311412\ttest: 60544.0721090\tbest: 60537.4486816 (688)\ttotal: 4.08s\tremaining: 1.83s\n",
      "690:\tlearn: 48732.5329618\ttest: 60539.1506883\tbest: 60537.4486816 (688)\ttotal: 4.08s\tremaining: 1.82s\n",
      "691:\tlearn: 48709.8300204\ttest: 60535.6924260\tbest: 60535.6924260 (691)\ttotal: 4.09s\tremaining: 1.82s\n",
      "692:\tlearn: 48707.0679002\ttest: 60532.2486008\tbest: 60532.2486008 (692)\ttotal: 4.09s\tremaining: 1.81s\n",
      "693:\tlearn: 48705.8728398\ttest: 60532.6141589\tbest: 60532.2486008 (692)\ttotal: 4.1s\tremaining: 1.81s\n",
      "694:\tlearn: 48704.5252068\ttest: 60534.0644190\tbest: 60532.2486008 (692)\ttotal: 4.11s\tremaining: 1.8s\n",
      "695:\tlearn: 48694.0089940\ttest: 60531.9546083\tbest: 60531.9546083 (695)\ttotal: 4.11s\tremaining: 1.8s\n",
      "696:\tlearn: 48691.8835673\ttest: 60530.0655304\tbest: 60530.0655304 (696)\ttotal: 4.12s\tremaining: 1.79s\n",
      "697:\tlearn: 48680.5495041\ttest: 60527.5489551\tbest: 60527.5489551 (697)\ttotal: 4.12s\tremaining: 1.78s\n",
      "698:\tlearn: 48592.4078640\ttest: 60512.9455735\tbest: 60512.9455735 (698)\ttotal: 4.13s\tremaining: 1.78s\n",
      "699:\tlearn: 48579.8393124\ttest: 60514.7913546\tbest: 60512.9455735 (698)\ttotal: 4.13s\tremaining: 1.77s\n",
      "700:\tlearn: 48552.9237435\ttest: 60516.2461600\tbest: 60512.9455735 (698)\ttotal: 4.14s\tremaining: 1.77s\n",
      "701:\tlearn: 48529.8000003\ttest: 60518.5463487\tbest: 60512.9455735 (698)\ttotal: 4.15s\tremaining: 1.76s\n",
      "702:\tlearn: 48528.8492108\ttest: 60521.0136894\tbest: 60512.9455735 (698)\ttotal: 4.15s\tremaining: 1.75s\n",
      "703:\tlearn: 48503.2918576\ttest: 60526.7907211\tbest: 60512.9455735 (698)\ttotal: 4.16s\tremaining: 1.75s\n",
      "704:\tlearn: 48494.6584533\ttest: 60527.5921588\tbest: 60512.9455735 (698)\ttotal: 4.17s\tremaining: 1.74s\n",
      "705:\tlearn: 48486.0450788\ttest: 60516.4609525\tbest: 60512.9455735 (698)\ttotal: 4.17s\tremaining: 1.74s\n",
      "706:\tlearn: 48480.9124323\ttest: 60511.8261868\tbest: 60511.8261868 (706)\ttotal: 4.18s\tremaining: 1.73s\n",
      "707:\tlearn: 48477.1689178\ttest: 60510.6351785\tbest: 60510.6351785 (707)\ttotal: 4.18s\tremaining: 1.72s\n",
      "708:\tlearn: 48443.7186035\ttest: 60515.5809820\tbest: 60510.6351785 (707)\ttotal: 4.19s\tremaining: 1.72s\n",
      "709:\tlearn: 48405.0178615\ttest: 60508.8999191\tbest: 60508.8999191 (709)\ttotal: 4.19s\tremaining: 1.71s\n",
      "710:\tlearn: 48381.2082474\ttest: 60502.2577072\tbest: 60502.2577072 (710)\ttotal: 4.2s\tremaining: 1.71s\n",
      "711:\tlearn: 48366.0726543\ttest: 60504.0722632\tbest: 60502.2577072 (710)\ttotal: 4.2s\tremaining: 1.7s\n",
      "712:\tlearn: 48340.0989150\ttest: 60507.3917510\tbest: 60502.2577072 (710)\ttotal: 4.21s\tremaining: 1.69s\n",
      "713:\tlearn: 48303.6369671\ttest: 60516.7760130\tbest: 60502.2577072 (710)\ttotal: 4.21s\tremaining: 1.69s\n",
      "714:\tlearn: 48301.9587388\ttest: 60516.0689456\tbest: 60502.2577072 (710)\ttotal: 4.22s\tremaining: 1.68s\n",
      "715:\tlearn: 48300.4117955\ttest: 60515.4461082\tbest: 60502.2577072 (710)\ttotal: 4.23s\tremaining: 1.68s\n",
      "716:\tlearn: 48280.6934540\ttest: 60507.9238765\tbest: 60502.2577072 (710)\ttotal: 4.23s\tremaining: 1.67s\n",
      "717:\tlearn: 48208.9651371\ttest: 60492.7890896\tbest: 60492.7890896 (717)\ttotal: 4.24s\tremaining: 1.66s\n",
      "718:\tlearn: 48183.8600726\ttest: 60489.5178957\tbest: 60489.5178957 (718)\ttotal: 4.25s\tremaining: 1.66s\n",
      "719:\tlearn: 48142.2890224\ttest: 60480.9526301\tbest: 60480.9526301 (719)\ttotal: 4.25s\tremaining: 1.65s\n",
      "720:\tlearn: 48122.3784851\ttest: 60485.2710166\tbest: 60480.9526301 (719)\ttotal: 4.26s\tremaining: 1.65s\n",
      "721:\tlearn: 48105.3579313\ttest: 60495.0156381\tbest: 60480.9526301 (719)\ttotal: 4.26s\tremaining: 1.64s\n",
      "722:\tlearn: 48096.2694579\ttest: 60497.2503992\tbest: 60480.9526301 (719)\ttotal: 4.27s\tremaining: 1.64s\n",
      "723:\tlearn: 48067.9363126\ttest: 60487.5453830\tbest: 60480.9526301 (719)\ttotal: 4.28s\tremaining: 1.63s\n",
      "724:\tlearn: 48061.2087050\ttest: 60482.8873139\tbest: 60480.9526301 (719)\ttotal: 4.28s\tremaining: 1.62s\n",
      "725:\tlearn: 48055.4990090\ttest: 60486.5097180\tbest: 60480.9526301 (719)\ttotal: 4.29s\tremaining: 1.62s\n",
      "726:\tlearn: 48051.6852557\ttest: 60485.9122062\tbest: 60480.9526301 (719)\ttotal: 4.29s\tremaining: 1.61s\n",
      "727:\tlearn: 48035.7108836\ttest: 60485.8459725\tbest: 60480.9526301 (719)\ttotal: 4.3s\tremaining: 1.61s\n",
      "728:\tlearn: 48034.9703452\ttest: 60484.0185676\tbest: 60480.9526301 (719)\ttotal: 4.3s\tremaining: 1.6s\n",
      "729:\tlearn: 48028.9583686\ttest: 60482.1524323\tbest: 60480.9526301 (719)\ttotal: 4.31s\tremaining: 1.59s\n",
      "730:\tlearn: 48021.5003920\ttest: 60469.8640486\tbest: 60469.8640486 (730)\ttotal: 4.32s\tremaining: 1.59s\n",
      "731:\tlearn: 47997.7608479\ttest: 60454.5138326\tbest: 60454.5138326 (731)\ttotal: 4.32s\tremaining: 1.58s\n",
      "732:\tlearn: 47960.0524401\ttest: 60446.1617618\tbest: 60446.1617618 (732)\ttotal: 4.33s\tremaining: 1.58s\n",
      "733:\tlearn: 47957.7482025\ttest: 60442.9363712\tbest: 60442.9363712 (733)\ttotal: 4.33s\tremaining: 1.57s\n",
      "734:\tlearn: 47955.7508802\ttest: 60442.2463105\tbest: 60442.2463105 (734)\ttotal: 4.34s\tremaining: 1.56s\n",
      "735:\tlearn: 47937.2854691\ttest: 60451.4551856\tbest: 60442.2463105 (734)\ttotal: 4.35s\tremaining: 1.56s\n",
      "736:\tlearn: 47930.4397200\ttest: 60446.5607959\tbest: 60442.2463105 (734)\ttotal: 4.35s\tremaining: 1.55s\n",
      "737:\tlearn: 47923.6966693\ttest: 60452.1149055\tbest: 60442.2463105 (734)\ttotal: 4.36s\tremaining: 1.55s\n",
      "738:\tlearn: 47923.6789149\ttest: 60453.4707093\tbest: 60442.2463105 (734)\ttotal: 4.36s\tremaining: 1.54s\n",
      "739:\tlearn: 47919.6939667\ttest: 60450.9732541\tbest: 60442.2463105 (734)\ttotal: 4.37s\tremaining: 1.53s\n",
      "740:\tlearn: 47885.8062780\ttest: 60430.3509640\tbest: 60430.3509640 (740)\ttotal: 4.37s\tremaining: 1.53s\n",
      "741:\tlearn: 47865.8029670\ttest: 60423.7999905\tbest: 60423.7999905 (741)\ttotal: 4.38s\tremaining: 1.52s\n",
      "742:\tlearn: 47842.0838096\ttest: 60426.1846792\tbest: 60423.7999905 (741)\ttotal: 4.38s\tremaining: 1.52s\n",
      "743:\tlearn: 47802.7334489\ttest: 60398.9249885\tbest: 60398.9249885 (743)\ttotal: 4.39s\tremaining: 1.51s\n",
      "744:\tlearn: 47770.8980762\ttest: 60401.3808632\tbest: 60398.9249885 (743)\ttotal: 4.39s\tremaining: 1.5s\n",
      "745:\tlearn: 47767.8835362\ttest: 60403.2331250\tbest: 60398.9249885 (743)\ttotal: 4.4s\tremaining: 1.5s\n",
      "746:\tlearn: 47746.0080733\ttest: 60423.7315032\tbest: 60398.9249885 (743)\ttotal: 4.41s\tremaining: 1.49s\n",
      "747:\tlearn: 47743.6123082\ttest: 60422.5230001\tbest: 60398.9249885 (743)\ttotal: 4.41s\tremaining: 1.49s\n",
      "748:\tlearn: 47709.1213051\ttest: 60422.2627809\tbest: 60398.9249885 (743)\ttotal: 4.42s\tremaining: 1.48s\n",
      "749:\tlearn: 47694.2865426\ttest: 60419.7712016\tbest: 60398.9249885 (743)\ttotal: 4.42s\tremaining: 1.47s\n",
      "750:\tlearn: 47679.3484748\ttest: 60421.8477226\tbest: 60398.9249885 (743)\ttotal: 4.43s\tremaining: 1.47s\n",
      "751:\tlearn: 47650.4677499\ttest: 60427.1862884\tbest: 60398.9249885 (743)\ttotal: 4.43s\tremaining: 1.46s\n",
      "752:\tlearn: 47635.4896596\ttest: 60432.3476217\tbest: 60398.9249885 (743)\ttotal: 4.44s\tremaining: 1.46s\n",
      "753:\tlearn: 47615.7470754\ttest: 60439.6039846\tbest: 60398.9249885 (743)\ttotal: 4.45s\tremaining: 1.45s\n",
      "754:\tlearn: 47615.4938945\ttest: 60439.2134544\tbest: 60398.9249885 (743)\ttotal: 4.45s\tremaining: 1.44s\n",
      "755:\tlearn: 47611.4241251\ttest: 60434.0151371\tbest: 60398.9249885 (743)\ttotal: 4.46s\tremaining: 1.44s\n",
      "756:\tlearn: 47602.5695373\ttest: 60430.7976042\tbest: 60398.9249885 (743)\ttotal: 4.46s\tremaining: 1.43s\n",
      "757:\tlearn: 47593.2035096\ttest: 60441.9287420\tbest: 60398.9249885 (743)\ttotal: 4.47s\tremaining: 1.43s\n",
      "758:\tlearn: 47580.7352422\ttest: 60429.4575593\tbest: 60398.9249885 (743)\ttotal: 4.48s\tremaining: 1.42s\n",
      "759:\tlearn: 47570.6632768\ttest: 60424.8909522\tbest: 60398.9249885 (743)\ttotal: 4.48s\tremaining: 1.42s\n",
      "760:\tlearn: 47545.9708901\ttest: 60424.6704656\tbest: 60398.9249885 (743)\ttotal: 4.49s\tremaining: 1.41s\n",
      "761:\tlearn: 47543.6148284\ttest: 60426.0210750\tbest: 60398.9249885 (743)\ttotal: 4.5s\tremaining: 1.4s\n",
      "762:\tlearn: 47532.4735702\ttest: 60423.0615106\tbest: 60398.9249885 (743)\ttotal: 4.5s\tremaining: 1.4s\n",
      "763:\tlearn: 47531.7473709\ttest: 60423.8088056\tbest: 60398.9249885 (743)\ttotal: 4.51s\tremaining: 1.39s\n",
      "764:\tlearn: 47527.9800426\ttest: 60424.6978845\tbest: 60398.9249885 (743)\ttotal: 4.51s\tremaining: 1.39s\n",
      "765:\tlearn: 47509.7747205\ttest: 60424.6755420\tbest: 60398.9249885 (743)\ttotal: 4.52s\tremaining: 1.38s\n",
      "766:\tlearn: 47490.0689513\ttest: 60405.2642302\tbest: 60398.9249885 (743)\ttotal: 4.52s\tremaining: 1.37s\n",
      "767:\tlearn: 47485.2264064\ttest: 60410.5889270\tbest: 60398.9249885 (743)\ttotal: 4.53s\tremaining: 1.37s\n",
      "768:\tlearn: 47463.0824377\ttest: 60404.6437686\tbest: 60398.9249885 (743)\ttotal: 4.53s\tremaining: 1.36s\n",
      "769:\tlearn: 47427.6177446\ttest: 60403.3968456\tbest: 60398.9249885 (743)\ttotal: 4.54s\tremaining: 1.36s\n",
      "770:\tlearn: 47425.6374501\ttest: 60403.3957129\tbest: 60398.9249885 (743)\ttotal: 4.54s\tremaining: 1.35s\n",
      "771:\tlearn: 47424.7893705\ttest: 60403.0982720\tbest: 60398.9249885 (743)\ttotal: 4.55s\tremaining: 1.34s\n",
      "772:\tlearn: 47389.5353480\ttest: 60384.9825861\tbest: 60384.9825861 (772)\ttotal: 4.56s\tremaining: 1.34s\n",
      "773:\tlearn: 47381.3247782\ttest: 60389.6773505\tbest: 60384.9825861 (772)\ttotal: 4.56s\tremaining: 1.33s\n",
      "774:\tlearn: 47378.9138596\ttest: 60395.7681974\tbest: 60384.9825861 (772)\ttotal: 4.57s\tremaining: 1.33s\n",
      "775:\tlearn: 47313.5202953\ttest: 60400.3312537\tbest: 60384.9825861 (772)\ttotal: 4.58s\tremaining: 1.32s\n",
      "776:\tlearn: 47312.5631192\ttest: 60396.9258812\tbest: 60384.9825861 (772)\ttotal: 4.58s\tremaining: 1.31s\n",
      "777:\tlearn: 47308.2938440\ttest: 60397.9293572\tbest: 60384.9825861 (772)\ttotal: 4.59s\tremaining: 1.31s\n",
      "778:\tlearn: 47266.8929182\ttest: 60377.4900557\tbest: 60377.4900557 (778)\ttotal: 4.59s\tremaining: 1.3s\n",
      "779:\tlearn: 47249.4243032\ttest: 60405.6234962\tbest: 60377.4900557 (778)\ttotal: 4.6s\tremaining: 1.3s\n",
      "780:\tlearn: 47246.3139409\ttest: 60405.2466513\tbest: 60377.4900557 (778)\ttotal: 4.61s\tremaining: 1.29s\n",
      "781:\tlearn: 47219.2227440\ttest: 60413.6158549\tbest: 60377.4900557 (778)\ttotal: 4.61s\tremaining: 1.28s\n",
      "782:\tlearn: 47211.5360533\ttest: 60405.6601024\tbest: 60377.4900557 (778)\ttotal: 4.62s\tremaining: 1.28s\n",
      "783:\tlearn: 47203.7781095\ttest: 60411.8827554\tbest: 60377.4900557 (778)\ttotal: 4.62s\tremaining: 1.27s\n",
      "784:\tlearn: 47196.7696307\ttest: 60400.7515208\tbest: 60377.4900557 (778)\ttotal: 4.63s\tremaining: 1.27s\n",
      "785:\tlearn: 47150.2465974\ttest: 60389.4053687\tbest: 60377.4900557 (778)\ttotal: 4.63s\tremaining: 1.26s\n",
      "786:\tlearn: 47148.7900216\ttest: 60388.0109157\tbest: 60377.4900557 (778)\ttotal: 4.64s\tremaining: 1.26s\n",
      "787:\tlearn: 47128.5167224\ttest: 60393.2072104\tbest: 60377.4900557 (778)\ttotal: 4.65s\tremaining: 1.25s\n",
      "788:\tlearn: 47105.8332018\ttest: 60406.7602886\tbest: 60377.4900557 (778)\ttotal: 4.65s\tremaining: 1.24s\n",
      "789:\tlearn: 47096.5857852\ttest: 60412.9782333\tbest: 60377.4900557 (778)\ttotal: 4.66s\tremaining: 1.24s\n",
      "790:\tlearn: 47067.1581435\ttest: 60404.5754937\tbest: 60377.4900557 (778)\ttotal: 4.66s\tremaining: 1.23s\n",
      "791:\tlearn: 47052.9672015\ttest: 60405.8429574\tbest: 60377.4900557 (778)\ttotal: 4.67s\tremaining: 1.23s\n",
      "792:\tlearn: 47041.1796746\ttest: 60406.3649602\tbest: 60377.4900557 (778)\ttotal: 4.67s\tremaining: 1.22s\n",
      "793:\tlearn: 47011.8759006\ttest: 60391.4760518\tbest: 60377.4900557 (778)\ttotal: 4.68s\tremaining: 1.21s\n",
      "794:\tlearn: 47007.8953264\ttest: 60392.4339269\tbest: 60377.4900557 (778)\ttotal: 4.69s\tremaining: 1.21s\n",
      "795:\tlearn: 46999.8031265\ttest: 60379.7800607\tbest: 60377.4900557 (778)\ttotal: 4.69s\tremaining: 1.2s\n",
      "796:\tlearn: 46968.1260308\ttest: 60396.3273496\tbest: 60377.4900557 (778)\ttotal: 4.7s\tremaining: 1.2s\n",
      "797:\tlearn: 46949.5138841\ttest: 60390.0093595\tbest: 60377.4900557 (778)\ttotal: 4.71s\tremaining: 1.19s\n",
      "798:\tlearn: 46896.0595517\ttest: 60382.3368027\tbest: 60377.4900557 (778)\ttotal: 4.71s\tremaining: 1.18s\n",
      "799:\tlearn: 46869.8852902\ttest: 60366.0752534\tbest: 60366.0752534 (799)\ttotal: 4.72s\tremaining: 1.18s\n",
      "800:\tlearn: 46866.9639379\ttest: 60369.4759825\tbest: 60366.0752534 (799)\ttotal: 4.72s\tremaining: 1.17s\n",
      "801:\tlearn: 46857.1786690\ttest: 60362.6742429\tbest: 60362.6742429 (801)\ttotal: 4.73s\tremaining: 1.17s\n",
      "802:\tlearn: 46847.0572843\ttest: 60359.8537069\tbest: 60359.8537069 (802)\ttotal: 4.74s\tremaining: 1.16s\n",
      "803:\tlearn: 46839.0076682\ttest: 60358.5524233\tbest: 60358.5524233 (803)\ttotal: 4.74s\tremaining: 1.16s\n",
      "804:\tlearn: 46816.5632207\ttest: 60355.9061505\tbest: 60355.9061505 (804)\ttotal: 4.75s\tremaining: 1.15s\n",
      "805:\tlearn: 46811.6884676\ttest: 60356.7524840\tbest: 60355.9061505 (804)\ttotal: 4.76s\tremaining: 1.14s\n",
      "806:\tlearn: 46789.6875402\ttest: 60363.1686047\tbest: 60355.9061505 (804)\ttotal: 4.76s\tremaining: 1.14s\n",
      "807:\tlearn: 46750.7238909\ttest: 60355.0110658\tbest: 60355.0110658 (807)\ttotal: 4.77s\tremaining: 1.13s\n",
      "808:\tlearn: 46736.9442917\ttest: 60355.9161572\tbest: 60355.0110658 (807)\ttotal: 4.77s\tremaining: 1.13s\n",
      "809:\tlearn: 46735.6768101\ttest: 60354.9278413\tbest: 60354.9278413 (809)\ttotal: 4.78s\tremaining: 1.12s\n",
      "810:\tlearn: 46705.8260201\ttest: 60329.8911411\tbest: 60329.8911411 (810)\ttotal: 4.78s\tremaining: 1.11s\n",
      "811:\tlearn: 46684.6563639\ttest: 60309.6225582\tbest: 60309.6225582 (811)\ttotal: 4.79s\tremaining: 1.11s\n",
      "812:\tlearn: 46655.4979107\ttest: 60306.6672537\tbest: 60306.6672537 (812)\ttotal: 4.8s\tremaining: 1.1s\n",
      "813:\tlearn: 46655.0302227\ttest: 60307.7894499\tbest: 60306.6672537 (812)\ttotal: 4.8s\tremaining: 1.1s\n",
      "814:\tlearn: 46635.2463103\ttest: 60304.4364598\tbest: 60304.4364598 (814)\ttotal: 4.81s\tremaining: 1.09s\n",
      "815:\tlearn: 46601.1362045\ttest: 60304.8118712\tbest: 60304.4364598 (814)\ttotal: 4.82s\tremaining: 1.08s\n",
      "816:\tlearn: 46600.5266883\ttest: 60303.3175461\tbest: 60303.3175461 (816)\ttotal: 4.82s\tremaining: 1.08s\n",
      "817:\tlearn: 46595.9074850\ttest: 60302.0597810\tbest: 60302.0597810 (817)\ttotal: 4.83s\tremaining: 1.07s\n",
      "818:\tlearn: 46586.0793907\ttest: 60298.6135813\tbest: 60298.6135813 (818)\ttotal: 4.83s\tremaining: 1.07s\n",
      "819:\tlearn: 46557.1007567\ttest: 60288.3335555\tbest: 60288.3335555 (819)\ttotal: 4.84s\tremaining: 1.06s\n",
      "820:\tlearn: 46536.1502700\ttest: 60286.1781504\tbest: 60286.1781504 (820)\ttotal: 4.84s\tremaining: 1.06s\n",
      "821:\tlearn: 46512.7714838\ttest: 60271.2014669\tbest: 60271.2014669 (821)\ttotal: 4.85s\tremaining: 1.05s\n",
      "822:\tlearn: 46510.1647953\ttest: 60272.5075012\tbest: 60271.2014669 (821)\ttotal: 4.86s\tremaining: 1.04s\n",
      "823:\tlearn: 46502.2614315\ttest: 60274.7734315\tbest: 60271.2014669 (821)\ttotal: 4.86s\tremaining: 1.04s\n",
      "824:\tlearn: 46482.1842559\ttest: 60282.2591137\tbest: 60271.2014669 (821)\ttotal: 4.87s\tremaining: 1.03s\n",
      "825:\tlearn: 46462.0224368\ttest: 60269.6082529\tbest: 60269.6082529 (825)\ttotal: 4.87s\tremaining: 1.03s\n",
      "826:\tlearn: 46454.6518180\ttest: 60268.0679661\tbest: 60268.0679661 (826)\ttotal: 4.88s\tremaining: 1.02s\n",
      "827:\tlearn: 46431.7879064\ttest: 60268.7799552\tbest: 60268.0679661 (826)\ttotal: 4.88s\tremaining: 1.01s\n",
      "828:\tlearn: 46416.3150083\ttest: 60252.4068266\tbest: 60252.4068266 (828)\ttotal: 4.89s\tremaining: 1.01s\n",
      "829:\tlearn: 46399.8892101\ttest: 60248.6077717\tbest: 60248.6077717 (829)\ttotal: 4.89s\tremaining: 1s\n",
      "830:\tlearn: 46378.4867383\ttest: 60249.4678581\tbest: 60248.6077717 (829)\ttotal: 4.9s\tremaining: 997ms\n",
      "831:\tlearn: 46327.6234166\ttest: 60247.6560742\tbest: 60247.6560742 (831)\ttotal: 4.91s\tremaining: 991ms\n",
      "832:\tlearn: 46314.2286947\ttest: 60239.0436042\tbest: 60239.0436042 (832)\ttotal: 4.91s\tremaining: 985ms\n",
      "833:\tlearn: 46296.2732268\ttest: 60243.2681775\tbest: 60239.0436042 (832)\ttotal: 4.92s\tremaining: 979ms\n",
      "834:\tlearn: 46290.5525647\ttest: 60238.8332793\tbest: 60238.8332793 (834)\ttotal: 4.92s\tremaining: 973ms\n",
      "835:\tlearn: 46245.5919318\ttest: 60205.8721846\tbest: 60205.8721846 (835)\ttotal: 4.93s\tremaining: 967ms\n",
      "836:\tlearn: 46233.9019300\ttest: 60198.0836314\tbest: 60198.0836314 (836)\ttotal: 4.93s\tremaining: 961ms\n",
      "837:\tlearn: 46229.8519998\ttest: 60198.5763508\tbest: 60198.0836314 (836)\ttotal: 4.94s\tremaining: 955ms\n",
      "838:\tlearn: 46201.4258655\ttest: 60206.7012334\tbest: 60198.0836314 (836)\ttotal: 4.95s\tremaining: 949ms\n",
      "839:\tlearn: 46181.3815792\ttest: 60210.7739202\tbest: 60198.0836314 (836)\ttotal: 4.96s\tremaining: 944ms\n",
      "840:\tlearn: 46173.9245834\ttest: 60206.3996127\tbest: 60198.0836314 (836)\ttotal: 4.97s\tremaining: 940ms\n",
      "841:\tlearn: 46125.7376202\ttest: 60196.8718202\tbest: 60196.8718202 (841)\ttotal: 4.98s\tremaining: 934ms\n",
      "842:\tlearn: 46102.7040722\ttest: 60183.5138406\tbest: 60183.5138406 (842)\ttotal: 4.98s\tremaining: 928ms\n",
      "843:\tlearn: 46083.8268730\ttest: 60190.0225291\tbest: 60183.5138406 (842)\ttotal: 4.99s\tremaining: 922ms\n",
      "844:\tlearn: 46070.0590327\ttest: 60194.6541269\tbest: 60183.5138406 (842)\ttotal: 5s\tremaining: 916ms\n",
      "845:\tlearn: 46037.8794581\ttest: 60187.3219667\tbest: 60183.5138406 (842)\ttotal: 5s\tremaining: 911ms\n",
      "846:\tlearn: 46003.0098030\ttest: 60176.5485882\tbest: 60176.5485882 (846)\ttotal: 5.01s\tremaining: 905ms\n",
      "847:\tlearn: 46001.2340784\ttest: 60175.4945893\tbest: 60175.4945893 (847)\ttotal: 5.02s\tremaining: 899ms\n",
      "848:\tlearn: 45996.5458767\ttest: 60183.6931362\tbest: 60175.4945893 (847)\ttotal: 5.03s\tremaining: 894ms\n",
      "849:\tlearn: 45995.9501617\ttest: 60183.3516491\tbest: 60175.4945893 (847)\ttotal: 5.03s\tremaining: 888ms\n",
      "850:\tlearn: 45970.7676679\ttest: 60173.3520312\tbest: 60173.3520312 (850)\ttotal: 5.04s\tremaining: 882ms\n",
      "851:\tlearn: 45959.7681918\ttest: 60174.6572951\tbest: 60173.3520312 (850)\ttotal: 5.04s\tremaining: 876ms\n",
      "852:\tlearn: 45917.2486943\ttest: 60170.6426825\tbest: 60170.6426825 (852)\ttotal: 5.05s\tremaining: 870ms\n",
      "853:\tlearn: 45909.1954195\ttest: 60163.5361965\tbest: 60163.5361965 (853)\ttotal: 5.06s\tremaining: 864ms\n",
      "854:\tlearn: 45889.9189716\ttest: 60162.9776311\tbest: 60162.9776311 (854)\ttotal: 5.06s\tremaining: 859ms\n",
      "855:\tlearn: 45878.0088905\ttest: 60166.4503428\tbest: 60162.9776311 (854)\ttotal: 5.07s\tremaining: 853ms\n",
      "856:\tlearn: 45858.2856685\ttest: 60158.3201686\tbest: 60158.3201686 (856)\ttotal: 5.07s\tremaining: 847ms\n",
      "857:\tlearn: 45842.5669566\ttest: 60158.0213968\tbest: 60158.0213968 (857)\ttotal: 5.08s\tremaining: 841ms\n",
      "858:\tlearn: 45821.9175981\ttest: 60150.0886405\tbest: 60150.0886405 (858)\ttotal: 5.08s\tremaining: 835ms\n",
      "859:\tlearn: 45802.4158948\ttest: 60151.9304002\tbest: 60150.0886405 (858)\ttotal: 5.09s\tremaining: 829ms\n",
      "860:\tlearn: 45786.7113897\ttest: 60172.9851111\tbest: 60150.0886405 (858)\ttotal: 5.09s\tremaining: 823ms\n",
      "861:\tlearn: 45780.1853143\ttest: 60171.6991222\tbest: 60150.0886405 (858)\ttotal: 5.1s\tremaining: 817ms\n",
      "862:\tlearn: 45767.3058912\ttest: 60167.5969524\tbest: 60150.0886405 (858)\ttotal: 5.11s\tremaining: 811ms\n",
      "863:\tlearn: 45760.1347055\ttest: 60174.5859057\tbest: 60150.0886405 (858)\ttotal: 5.11s\tremaining: 805ms\n",
      "864:\tlearn: 45744.4658153\ttest: 60164.0828783\tbest: 60150.0886405 (858)\ttotal: 5.12s\tremaining: 799ms\n",
      "865:\tlearn: 45731.0553756\ttest: 60165.0882741\tbest: 60150.0886405 (858)\ttotal: 5.13s\tremaining: 793ms\n",
      "866:\tlearn: 45705.1778707\ttest: 60167.1555776\tbest: 60150.0886405 (858)\ttotal: 5.13s\tremaining: 787ms\n",
      "867:\tlearn: 45634.4773943\ttest: 60147.1542261\tbest: 60147.1542261 (867)\ttotal: 5.14s\tremaining: 781ms\n",
      "868:\tlearn: 45617.4966580\ttest: 60143.0140059\tbest: 60143.0140059 (868)\ttotal: 5.14s\tremaining: 775ms\n",
      "869:\tlearn: 45588.7391226\ttest: 60146.3207586\tbest: 60143.0140059 (868)\ttotal: 5.15s\tremaining: 769ms\n",
      "870:\tlearn: 45578.0040623\ttest: 60151.4274129\tbest: 60143.0140059 (868)\ttotal: 5.16s\tremaining: 764ms\n",
      "871:\tlearn: 45550.0222008\ttest: 60166.3130127\tbest: 60143.0140059 (868)\ttotal: 5.16s\tremaining: 757ms\n",
      "872:\tlearn: 45531.9263277\ttest: 60178.0323918\tbest: 60143.0140059 (868)\ttotal: 5.17s\tremaining: 752ms\n",
      "873:\tlearn: 45527.0147686\ttest: 60177.2418540\tbest: 60143.0140059 (868)\ttotal: 5.17s\tremaining: 746ms\n",
      "874:\tlearn: 45523.2024333\ttest: 60179.4391473\tbest: 60143.0140059 (868)\ttotal: 5.18s\tremaining: 740ms\n",
      "875:\tlearn: 45489.7696243\ttest: 60178.3956601\tbest: 60143.0140059 (868)\ttotal: 5.18s\tremaining: 734ms\n",
      "876:\tlearn: 45482.6155390\ttest: 60180.3675694\tbest: 60143.0140059 (868)\ttotal: 5.19s\tremaining: 728ms\n",
      "877:\tlearn: 45476.9250533\ttest: 60181.1011448\tbest: 60143.0140059 (868)\ttotal: 5.2s\tremaining: 722ms\n",
      "878:\tlearn: 45444.3905968\ttest: 60187.6395846\tbest: 60143.0140059 (868)\ttotal: 5.2s\tremaining: 716ms\n",
      "879:\tlearn: 45428.5159385\ttest: 60214.6718373\tbest: 60143.0140059 (868)\ttotal: 5.21s\tremaining: 710ms\n",
      "880:\tlearn: 45412.7277968\ttest: 60218.9568366\tbest: 60143.0140059 (868)\ttotal: 5.21s\tremaining: 704ms\n",
      "881:\tlearn: 45386.7222203\ttest: 60216.4108596\tbest: 60143.0140059 (868)\ttotal: 5.22s\tremaining: 698ms\n",
      "882:\tlearn: 45379.9320276\ttest: 60231.0699164\tbest: 60143.0140059 (868)\ttotal: 5.22s\tremaining: 692ms\n",
      "883:\tlearn: 45378.4546379\ttest: 60232.6721994\tbest: 60143.0140059 (868)\ttotal: 5.23s\tremaining: 686ms\n",
      "884:\tlearn: 45363.4458142\ttest: 60237.9379513\tbest: 60143.0140059 (868)\ttotal: 5.24s\tremaining: 680ms\n",
      "885:\tlearn: 45359.4976823\ttest: 60232.8047913\tbest: 60143.0140059 (868)\ttotal: 5.24s\tremaining: 674ms\n",
      "886:\tlearn: 45347.4323191\ttest: 60219.5964447\tbest: 60143.0140059 (868)\ttotal: 5.25s\tremaining: 669ms\n",
      "887:\tlearn: 45345.9357761\ttest: 60221.4529008\tbest: 60143.0140059 (868)\ttotal: 5.25s\tremaining: 663ms\n",
      "888:\tlearn: 45342.8328678\ttest: 60220.5367629\tbest: 60143.0140059 (868)\ttotal: 5.26s\tremaining: 657ms\n",
      "889:\tlearn: 45339.9950832\ttest: 60219.0847369\tbest: 60143.0140059 (868)\ttotal: 5.26s\tremaining: 651ms\n",
      "890:\tlearn: 45318.3429046\ttest: 60226.8359127\tbest: 60143.0140059 (868)\ttotal: 5.27s\tremaining: 645ms\n",
      "891:\tlearn: 45311.4828113\ttest: 60222.1064115\tbest: 60143.0140059 (868)\ttotal: 5.28s\tremaining: 639ms\n",
      "892:\tlearn: 45297.9799497\ttest: 60223.7403833\tbest: 60143.0140059 (868)\ttotal: 5.28s\tremaining: 633ms\n",
      "893:\tlearn: 45291.0737870\ttest: 60224.6065235\tbest: 60143.0140059 (868)\ttotal: 5.29s\tremaining: 627ms\n",
      "894:\tlearn: 45270.8478215\ttest: 60223.5044498\tbest: 60143.0140059 (868)\ttotal: 5.29s\tremaining: 621ms\n",
      "895:\tlearn: 45266.0956818\ttest: 60226.6250018\tbest: 60143.0140059 (868)\ttotal: 5.3s\tremaining: 615ms\n",
      "896:\tlearn: 45258.1397590\ttest: 60232.7555946\tbest: 60143.0140059 (868)\ttotal: 5.3s\tremaining: 609ms\n",
      "897:\tlearn: 45222.8668572\ttest: 60227.3937028\tbest: 60143.0140059 (868)\ttotal: 5.31s\tremaining: 603ms\n",
      "898:\tlearn: 45208.8357116\ttest: 60234.0479156\tbest: 60143.0140059 (868)\ttotal: 5.32s\tremaining: 597ms\n",
      "899:\tlearn: 45201.2074864\ttest: 60234.2655214\tbest: 60143.0140059 (868)\ttotal: 5.32s\tremaining: 591ms\n",
      "900:\tlearn: 45196.2629453\ttest: 60237.2055150\tbest: 60143.0140059 (868)\ttotal: 5.33s\tremaining: 585ms\n",
      "901:\tlearn: 45180.1217452\ttest: 60231.3635047\tbest: 60143.0140059 (868)\ttotal: 5.33s\tremaining: 579ms\n",
      "902:\tlearn: 45175.4880762\ttest: 60236.0790521\tbest: 60143.0140059 (868)\ttotal: 5.34s\tremaining: 574ms\n",
      "903:\tlearn: 45154.5768151\ttest: 60223.9596562\tbest: 60143.0140059 (868)\ttotal: 5.35s\tremaining: 568ms\n",
      "904:\tlearn: 45153.6496085\ttest: 60228.7563947\tbest: 60143.0140059 (868)\ttotal: 5.35s\tremaining: 562ms\n",
      "905:\tlearn: 45152.2718128\ttest: 60229.7083788\tbest: 60143.0140059 (868)\ttotal: 5.36s\tremaining: 556ms\n",
      "906:\tlearn: 45141.4622902\ttest: 60233.3669080\tbest: 60143.0140059 (868)\ttotal: 5.36s\tremaining: 550ms\n",
      "907:\tlearn: 45115.1900423\ttest: 60225.1410786\tbest: 60143.0140059 (868)\ttotal: 5.37s\tremaining: 544ms\n",
      "908:\tlearn: 45096.0986133\ttest: 60225.6098050\tbest: 60143.0140059 (868)\ttotal: 5.37s\tremaining: 538ms\n",
      "909:\tlearn: 45090.0321399\ttest: 60230.2470007\tbest: 60143.0140059 (868)\ttotal: 5.38s\tremaining: 532ms\n",
      "910:\tlearn: 45071.8448547\ttest: 60235.7631830\tbest: 60143.0140059 (868)\ttotal: 5.38s\tremaining: 526ms\n",
      "911:\tlearn: 45071.0718265\ttest: 60239.5248880\tbest: 60143.0140059 (868)\ttotal: 5.39s\tremaining: 520ms\n",
      "912:\tlearn: 45060.0127893\ttest: 60239.3058720\tbest: 60143.0140059 (868)\ttotal: 5.4s\tremaining: 514ms\n",
      "913:\tlearn: 45051.4373398\ttest: 60236.6524521\tbest: 60143.0140059 (868)\ttotal: 5.4s\tremaining: 508ms\n",
      "914:\tlearn: 45015.0344585\ttest: 60236.0039653\tbest: 60143.0140059 (868)\ttotal: 5.41s\tremaining: 503ms\n",
      "915:\tlearn: 44996.7590817\ttest: 60216.4912787\tbest: 60143.0140059 (868)\ttotal: 5.42s\tremaining: 497ms\n",
      "916:\tlearn: 44981.8691072\ttest: 60212.8692468\tbest: 60143.0140059 (868)\ttotal: 5.42s\tremaining: 491ms\n",
      "917:\tlearn: 44949.1649296\ttest: 60192.7729748\tbest: 60143.0140059 (868)\ttotal: 5.43s\tremaining: 485ms\n",
      "918:\tlearn: 44932.6321717\ttest: 60190.6344047\tbest: 60143.0140059 (868)\ttotal: 5.43s\tremaining: 479ms\n",
      "919:\tlearn: 44921.8496841\ttest: 60192.7160798\tbest: 60143.0140059 (868)\ttotal: 5.44s\tremaining: 473ms\n",
      "920:\tlearn: 44910.4814370\ttest: 60192.5369390\tbest: 60143.0140059 (868)\ttotal: 5.44s\tremaining: 467ms\n",
      "921:\tlearn: 44872.8673099\ttest: 60177.9555751\tbest: 60143.0140059 (868)\ttotal: 5.45s\tremaining: 461ms\n",
      "922:\tlearn: 44843.0701925\ttest: 60169.4080335\tbest: 60143.0140059 (868)\ttotal: 5.45s\tremaining: 455ms\n",
      "923:\tlearn: 44836.5921594\ttest: 60157.8020510\tbest: 60143.0140059 (868)\ttotal: 5.46s\tremaining: 449ms\n",
      "924:\tlearn: 44834.9970841\ttest: 60157.3531026\tbest: 60143.0140059 (868)\ttotal: 5.46s\tremaining: 443ms\n",
      "925:\tlearn: 44825.5084662\ttest: 60156.2298776\tbest: 60143.0140059 (868)\ttotal: 5.47s\tremaining: 437ms\n",
      "926:\tlearn: 44822.6319646\ttest: 60163.5647449\tbest: 60143.0140059 (868)\ttotal: 5.48s\tremaining: 431ms\n",
      "927:\tlearn: 44816.1981494\ttest: 60163.7288770\tbest: 60143.0140059 (868)\ttotal: 5.48s\tremaining: 425ms\n",
      "928:\tlearn: 44803.9158525\ttest: 60152.4598821\tbest: 60143.0140059 (868)\ttotal: 5.49s\tremaining: 419ms\n",
      "929:\tlearn: 44794.0942566\ttest: 60146.5984453\tbest: 60143.0140059 (868)\ttotal: 5.49s\tremaining: 413ms\n",
      "930:\tlearn: 44784.0591162\ttest: 60140.2342043\tbest: 60140.2342043 (930)\ttotal: 5.5s\tremaining: 407ms\n",
      "931:\tlearn: 44763.3812737\ttest: 60128.8728210\tbest: 60128.8728210 (931)\ttotal: 5.5s\tremaining: 402ms\n",
      "932:\tlearn: 44745.9778523\ttest: 60112.8603495\tbest: 60112.8603495 (932)\ttotal: 5.51s\tremaining: 396ms\n",
      "933:\tlearn: 44743.6078397\ttest: 60109.0904747\tbest: 60109.0904747 (933)\ttotal: 5.52s\tremaining: 390ms\n",
      "934:\tlearn: 44729.0763040\ttest: 60113.2986745\tbest: 60109.0904747 (933)\ttotal: 5.52s\tremaining: 384ms\n",
      "935:\tlearn: 44718.6975281\ttest: 60122.0277618\tbest: 60109.0904747 (933)\ttotal: 5.53s\tremaining: 378ms\n",
      "936:\tlearn: 44687.4051043\ttest: 60135.7280019\tbest: 60109.0904747 (933)\ttotal: 5.54s\tremaining: 372ms\n",
      "937:\tlearn: 44671.7178310\ttest: 60130.2429715\tbest: 60109.0904747 (933)\ttotal: 5.54s\tremaining: 366ms\n",
      "938:\tlearn: 44664.7400300\ttest: 60142.4245599\tbest: 60109.0904747 (933)\ttotal: 5.55s\tremaining: 360ms\n",
      "939:\tlearn: 44661.9124151\ttest: 60134.3718689\tbest: 60109.0904747 (933)\ttotal: 5.55s\tremaining: 354ms\n",
      "940:\tlearn: 44646.8412793\ttest: 60134.2457322\tbest: 60109.0904747 (933)\ttotal: 5.56s\tremaining: 349ms\n",
      "941:\tlearn: 44645.4064681\ttest: 60132.7327169\tbest: 60109.0904747 (933)\ttotal: 5.57s\tremaining: 343ms\n",
      "942:\tlearn: 44636.6880613\ttest: 60134.7160914\tbest: 60109.0904747 (933)\ttotal: 5.57s\tremaining: 337ms\n",
      "943:\tlearn: 44621.9735860\ttest: 60136.4659549\tbest: 60109.0904747 (933)\ttotal: 5.58s\tremaining: 331ms\n",
      "944:\tlearn: 44619.7349469\ttest: 60138.6541506\tbest: 60109.0904747 (933)\ttotal: 5.58s\tremaining: 325ms\n",
      "945:\tlearn: 44595.7032948\ttest: 60139.5156102\tbest: 60109.0904747 (933)\ttotal: 5.59s\tremaining: 319ms\n",
      "946:\tlearn: 44592.7957510\ttest: 60141.6770819\tbest: 60109.0904747 (933)\ttotal: 5.59s\tremaining: 313ms\n",
      "947:\tlearn: 44580.6703507\ttest: 60141.0487787\tbest: 60109.0904747 (933)\ttotal: 5.6s\tremaining: 307ms\n",
      "948:\tlearn: 44571.3530843\ttest: 60147.1486658\tbest: 60109.0904747 (933)\ttotal: 5.61s\tremaining: 301ms\n",
      "949:\tlearn: 44557.8710069\ttest: 60155.8953512\tbest: 60109.0904747 (933)\ttotal: 5.61s\tremaining: 295ms\n",
      "950:\tlearn: 44546.7348157\ttest: 60152.2711327\tbest: 60109.0904747 (933)\ttotal: 5.62s\tremaining: 290ms\n",
      "951:\tlearn: 44539.9210749\ttest: 60147.4444650\tbest: 60109.0904747 (933)\ttotal: 5.62s\tremaining: 284ms\n",
      "952:\tlearn: 44511.9476877\ttest: 60144.0595182\tbest: 60109.0904747 (933)\ttotal: 5.63s\tremaining: 278ms\n",
      "953:\tlearn: 44501.3535709\ttest: 60145.2089096\tbest: 60109.0904747 (933)\ttotal: 5.64s\tremaining: 272ms\n",
      "954:\tlearn: 44497.8910099\ttest: 60144.7588359\tbest: 60109.0904747 (933)\ttotal: 5.64s\tremaining: 266ms\n",
      "955:\tlearn: 44492.8140461\ttest: 60143.7689929\tbest: 60109.0904747 (933)\ttotal: 5.65s\tremaining: 260ms\n",
      "956:\tlearn: 44482.0423933\ttest: 60137.8023886\tbest: 60109.0904747 (933)\ttotal: 5.65s\tremaining: 254ms\n",
      "957:\tlearn: 44429.3743971\ttest: 60136.8057388\tbest: 60109.0904747 (933)\ttotal: 5.66s\tremaining: 248ms\n",
      "958:\tlearn: 44394.2508448\ttest: 60132.8790921\tbest: 60109.0904747 (933)\ttotal: 5.67s\tremaining: 242ms\n",
      "959:\tlearn: 44383.3347304\ttest: 60133.9704529\tbest: 60109.0904747 (933)\ttotal: 5.67s\tremaining: 236ms\n",
      "960:\tlearn: 44374.9013357\ttest: 60136.2107936\tbest: 60109.0904747 (933)\ttotal: 5.68s\tremaining: 230ms\n",
      "961:\tlearn: 44367.0415801\ttest: 60130.3522962\tbest: 60109.0904747 (933)\ttotal: 5.68s\tremaining: 225ms\n",
      "962:\tlearn: 44354.8549714\ttest: 60120.4371050\tbest: 60109.0904747 (933)\ttotal: 5.69s\tremaining: 219ms\n",
      "963:\tlearn: 44340.0319990\ttest: 60109.0461203\tbest: 60109.0461203 (963)\ttotal: 5.7s\tremaining: 213ms\n",
      "964:\tlearn: 44335.3648639\ttest: 60115.0793416\tbest: 60109.0461203 (963)\ttotal: 5.7s\tremaining: 207ms\n",
      "965:\tlearn: 44332.7688248\ttest: 60117.5392347\tbest: 60109.0461203 (963)\ttotal: 5.71s\tremaining: 201ms\n",
      "966:\tlearn: 44321.3185393\ttest: 60114.3277225\tbest: 60109.0461203 (963)\ttotal: 5.71s\tremaining: 195ms\n",
      "967:\tlearn: 44309.6919706\ttest: 60102.1847882\tbest: 60102.1847882 (967)\ttotal: 5.72s\tremaining: 189ms\n",
      "968:\tlearn: 44292.0197647\ttest: 60106.1224216\tbest: 60102.1847882 (967)\ttotal: 5.72s\tremaining: 183ms\n",
      "969:\tlearn: 44268.1047133\ttest: 60096.7895991\tbest: 60096.7895991 (969)\ttotal: 5.73s\tremaining: 177ms\n",
      "970:\tlearn: 44262.4219087\ttest: 60093.3394702\tbest: 60093.3394702 (970)\ttotal: 5.74s\tremaining: 171ms\n",
      "971:\tlearn: 44256.2240877\ttest: 60093.3214342\tbest: 60093.3214342 (971)\ttotal: 5.74s\tremaining: 165ms\n",
      "972:\tlearn: 44240.6189954\ttest: 60098.0667534\tbest: 60093.3214342 (971)\ttotal: 5.75s\tremaining: 160ms\n",
      "973:\tlearn: 44217.5493483\ttest: 60101.9559666\tbest: 60093.3214342 (971)\ttotal: 5.75s\tremaining: 154ms\n",
      "974:\tlearn: 44209.3348689\ttest: 60105.5893005\tbest: 60093.3214342 (971)\ttotal: 5.76s\tremaining: 148ms\n",
      "975:\tlearn: 44205.1566913\ttest: 60106.6990072\tbest: 60093.3214342 (971)\ttotal: 5.77s\tremaining: 142ms\n",
      "976:\tlearn: 44199.6390603\ttest: 60109.5471590\tbest: 60093.3214342 (971)\ttotal: 5.78s\tremaining: 136ms\n",
      "977:\tlearn: 44188.6201643\ttest: 60123.5332428\tbest: 60093.3214342 (971)\ttotal: 5.78s\tremaining: 130ms\n",
      "978:\tlearn: 44169.7404578\ttest: 60131.4826468\tbest: 60093.3214342 (971)\ttotal: 5.79s\tremaining: 124ms\n",
      "979:\tlearn: 44163.3127234\ttest: 60135.3605839\tbest: 60093.3214342 (971)\ttotal: 5.8s\tremaining: 118ms\n",
      "980:\tlearn: 44153.5745556\ttest: 60139.0445823\tbest: 60093.3214342 (971)\ttotal: 5.8s\tremaining: 112ms\n",
      "981:\tlearn: 44150.6148673\ttest: 60137.6865559\tbest: 60093.3214342 (971)\ttotal: 5.81s\tremaining: 106ms\n",
      "982:\tlearn: 44149.0360996\ttest: 60136.3031004\tbest: 60093.3214342 (971)\ttotal: 5.81s\tremaining: 101ms\n",
      "983:\tlearn: 44144.4073287\ttest: 60140.8952587\tbest: 60093.3214342 (971)\ttotal: 5.82s\tremaining: 94.6ms\n",
      "984:\tlearn: 44131.1293800\ttest: 60146.7767164\tbest: 60093.3214342 (971)\ttotal: 5.83s\tremaining: 88.7ms\n",
      "985:\tlearn: 44117.9372100\ttest: 60146.2650790\tbest: 60093.3214342 (971)\ttotal: 5.83s\tremaining: 82.8ms\n",
      "986:\tlearn: 44099.5957803\ttest: 60130.7196586\tbest: 60093.3214342 (971)\ttotal: 5.84s\tremaining: 76.9ms\n",
      "987:\tlearn: 44094.7842995\ttest: 60140.3477445\tbest: 60093.3214342 (971)\ttotal: 5.84s\tremaining: 71ms\n",
      "988:\tlearn: 44093.8316261\ttest: 60141.9583459\tbest: 60093.3214342 (971)\ttotal: 5.85s\tremaining: 65ms\n",
      "989:\tlearn: 44093.1081877\ttest: 60141.7057412\tbest: 60093.3214342 (971)\ttotal: 5.85s\tremaining: 59.1ms\n",
      "990:\tlearn: 44077.6756191\ttest: 60121.0801271\tbest: 60093.3214342 (971)\ttotal: 5.86s\tremaining: 53.2ms\n",
      "991:\tlearn: 44044.1508893\ttest: 60109.1948553\tbest: 60093.3214342 (971)\ttotal: 5.86s\tremaining: 47.3ms\n",
      "992:\tlearn: 44030.4103494\ttest: 60110.8906009\tbest: 60093.3214342 (971)\ttotal: 5.87s\tremaining: 41.4ms\n",
      "993:\tlearn: 44028.8291446\ttest: 60109.5189721\tbest: 60093.3214342 (971)\ttotal: 5.87s\tremaining: 35.5ms\n",
      "994:\tlearn: 44005.0557370\ttest: 60115.6861610\tbest: 60093.3214342 (971)\ttotal: 5.88s\tremaining: 29.6ms\n",
      "995:\tlearn: 44004.0257203\ttest: 60116.0061436\tbest: 60093.3214342 (971)\ttotal: 5.89s\tremaining: 23.6ms\n",
      "996:\tlearn: 43997.9251474\ttest: 60114.8303964\tbest: 60093.3214342 (971)\ttotal: 5.89s\tremaining: 17.7ms\n",
      "997:\tlearn: 43995.3305896\ttest: 60112.8794851\tbest: 60093.3214342 (971)\ttotal: 5.9s\tremaining: 11.8ms\n",
      "998:\tlearn: 43993.7631259\ttest: 60113.3032544\tbest: 60093.3214342 (971)\ttotal: 5.9s\tremaining: 5.91ms\n",
      "999:\tlearn: 43983.4532610\ttest: 60118.4906217\tbest: 60093.3214342 (971)\ttotal: 5.91s\tremaining: 0us\n",
      "\n",
      "bestTest = 60093.32143\n",
      "bestIteration = 971\n",
      "\n",
      "Shrink model to first 972 iterations.\n"
     ]
    },
    {
     "data": {
      "text/plain": [
       "<catboost.core.CatBoostRegressor at 0x1a1ff71ba8>"
      ]
     },
     "execution_count": 58,
     "metadata": {},
     "output_type": "execute_result"
    }
   ],
   "source": [
    "catr.fit(train_X, train_y, eval_set=(test_X, test_y))"
   ]
  },
  {
   "cell_type": "code",
   "execution_count": 59,
   "metadata": {},
   "outputs": [],
   "source": [
    "yhat_catr = catr.predict(test_X)"
   ]
  },
  {
   "cell_type": "code",
   "execution_count": 60,
   "metadata": {},
   "outputs": [
    {
     "data": {
      "text/plain": [
       "43525.695649187161"
      ]
     },
     "execution_count": 60,
     "metadata": {},
     "output_type": "execute_result"
    }
   ],
   "source": [
    "mean_absolute_error(test_y, yhat_catr)"
   ]
  },
  {
   "cell_type": "markdown",
   "metadata": {},
   "source": [
    "Hola! Catboost's default setting is already giving the lowest MAE amongst other models!"
   ]
  },
  {
   "cell_type": "code",
   "execution_count": 61,
   "metadata": {},
   "outputs": [
    {
     "data": {
      "image/png": "[encoded data removed]",
      "text/plain": [
       "<Figure size 432x288 with 1 Axes>"
      ]
     },
     "metadata": {},
     "output_type": "display_data"
    }
   ],
   "source": [
    "for y,x in sorted(zip(catr.feature_importances_, train_X.columns), reverse=False):\n",
    "    #print (x,y)\n",
    "    plt.barh(x,y, color='b')\n",
    "    plt.title('Feature Importances - CatBoost')\n",
    "    plt.xlabel('Relative Importance')"
   ]
  },
  {
   "cell_type": "markdown",
   "metadata": {},
   "source": [
    "## 4.Results"
   ]
  },
  {
   "cell_type": "markdown",
   "metadata": {},
   "source": [
    "#### 4 different tree-based model are tested with MAE:\n",
    "* Random Forest (default): 46052\n",
    "* Xgboost (default): 45025\n",
    "* Lightgbm (tuned): 48051\n",
    "* Catboost (default): 43525\n",
    "\n",
    "As such, this is significantly better then the $70,000 MAE by industrial appraisers! *(Are property appraisers going to be replaced by machine learning!?)*\n",
    "\n",
    "Next Step: Tuning parameters of each model."
   ]
  },
  {
   "cell_type": "markdown",
   "metadata": {},
   "source": [
    "For project background and documentation, please refer to README file."
   ]
  }
 ],
 "metadata": {
  "kernelspec": {
   "display_name": "Python 3",
   "language": "python",
   "name": "python3"
  },
  "language_info": {
   "codemirror_mode": {
    "name": "ipython",
    "version": 3
   },
   "file_extension": ".py",
   "mimetype": "text/x-python",
   "name": "python",
   "nbconvert_exporter": "python",
   "pygments_lexer": "ipython3",
   "version": "3.7.4"
  }
 },
 "nbformat": 4,
 "nbformat_minor": 2
}
